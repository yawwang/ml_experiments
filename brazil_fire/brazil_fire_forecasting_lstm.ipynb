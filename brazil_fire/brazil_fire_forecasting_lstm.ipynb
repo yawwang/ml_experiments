{
 "cells": [
  {
   "cell_type": "code",
   "execution_count": 145,
   "metadata": {
    "collapsed": false
   },
   "outputs": [],
   "source": [
    "import numpy as np\n",
    "import matplotlib.pyplot as plt\n",
    "import pandas as pd\n",
    "import sklearn\n",
    "from itertools import product\n",
    "%matplotlib inline"
   ]
  },
  {
   "cell_type": "code",
   "execution_count": 146,
   "metadata": {
    "collapsed": false
   },
   "outputs": [
    {
     "data": {
      "text/plain": [
       "year      0\n",
       "state     0\n",
       "month     0\n",
       "number    0\n",
       "date      0\n",
       "dtype: int64"
      ]
     },
     "execution_count": 146,
     "metadata": {},
     "output_type": "execute_result"
    }
   ],
   "source": [
    "fire_data = pd.read_csv('dataset/amazon.csv',encoding='latin1')\n",
    "# check if there is invalid data value in the dataframe\n",
    "fire_data.isnull().sum()"
   ]
  },
  {
   "cell_type": "code",
   "execution_count": 147,
   "metadata": {
    "collapsed": false
   },
   "outputs": [
    {
     "data": {
      "text/html": [
       "<div>\n",
       "<style scoped>\n",
       "    .dataframe tbody tr th:only-of-type {\n",
       "        vertical-align: middle;\n",
       "    }\n",
       "\n",
       "    .dataframe tbody tr th {\n",
       "        vertical-align: top;\n",
       "    }\n",
       "\n",
       "    .dataframe thead th {\n",
       "        text-align: right;\n",
       "    }\n",
       "</style>\n",
       "<table border=\"1\" class=\"dataframe\">\n",
       "  <thead>\n",
       "    <tr style=\"text-align: right;\">\n",
       "      <th></th>\n",
       "      <th>year</th>\n",
       "      <th>state</th>\n",
       "      <th>month</th>\n",
       "      <th>number</th>\n",
       "      <th>date</th>\n",
       "    </tr>\n",
       "  </thead>\n",
       "  <tbody>\n",
       "    <tr>\n",
       "      <th>479</th>\n",
       "      <td>1998</td>\n",
       "      <td>Amapa</td>\n",
       "      <td>Janeiro</td>\n",
       "      <td>0.0</td>\n",
       "      <td>1998-01-01</td>\n",
       "    </tr>\n",
       "    <tr>\n",
       "      <th>480</th>\n",
       "      <td>1999</td>\n",
       "      <td>Amapa</td>\n",
       "      <td>Janeiro</td>\n",
       "      <td>0.0</td>\n",
       "      <td>1999-01-01</td>\n",
       "    </tr>\n",
       "    <tr>\n",
       "      <th>481</th>\n",
       "      <td>2000</td>\n",
       "      <td>Amapa</td>\n",
       "      <td>Janeiro</td>\n",
       "      <td>2.0</td>\n",
       "      <td>2000-01-01</td>\n",
       "    </tr>\n",
       "    <tr>\n",
       "      <th>482</th>\n",
       "      <td>2001</td>\n",
       "      <td>Amapa</td>\n",
       "      <td>Janeiro</td>\n",
       "      <td>0.0</td>\n",
       "      <td>2001-01-01</td>\n",
       "    </tr>\n",
       "    <tr>\n",
       "      <th>483</th>\n",
       "      <td>2002</td>\n",
       "      <td>Amapa</td>\n",
       "      <td>Janeiro</td>\n",
       "      <td>7.0</td>\n",
       "      <td>2002-01-01</td>\n",
       "    </tr>\n",
       "  </tbody>\n",
       "</table>\n",
       "</div>"
      ],
      "text/plain": [
       "     year  state    month  number        date\n",
       "479  1998  Amapa  Janeiro     0.0  1998-01-01\n",
       "480  1999  Amapa  Janeiro     0.0  1999-01-01\n",
       "481  2000  Amapa  Janeiro     2.0  2000-01-01\n",
       "482  2001  Amapa  Janeiro     0.0  2001-01-01\n",
       "483  2002  Amapa  Janeiro     7.0  2002-01-01"
      ]
     },
     "execution_count": 147,
     "metadata": {},
     "output_type": "execute_result"
    }
   ],
   "source": [
    "gb=fire_data.groupby('state')\n",
    "states_df = [gb.get_group(x) for x in gb.groups]\n",
    "# Pick one state to do the forecasting\n",
    "target_df= states_df[2]\n",
    "target_df.head()"
   ]
  },
  {
   "cell_type": "code",
   "execution_count": 148,
   "metadata": {
    "collapsed": false
   },
   "outputs": [
    {
     "name": "stderr",
     "output_type": "stream",
     "text": [
      "/usr/local/lib/python3.6/site-packages/ipykernel_launcher.py:19: SettingWithCopyWarning: \n",
      "A value is trying to be set on a copy of a slice from a DataFrame.\n",
      "Try using .loc[row_indexer,col_indexer] = value instead\n",
      "\n",
      "See the caveats in the documentation: http://pandas.pydata.org/pandas-docs/stable/indexing.html#indexing-view-versus-copy\n"
     ]
    },
    {
     "data": {
      "text/html": [
       "<div>\n",
       "<style scoped>\n",
       "    .dataframe tbody tr th:only-of-type {\n",
       "        vertical-align: middle;\n",
       "    }\n",
       "\n",
       "    .dataframe tbody tr th {\n",
       "        vertical-align: top;\n",
       "    }\n",
       "\n",
       "    .dataframe thead th {\n",
       "        text-align: right;\n",
       "    }\n",
       "</style>\n",
       "<table border=\"1\" class=\"dataframe\">\n",
       "  <thead>\n",
       "    <tr style=\"text-align: right;\">\n",
       "      <th></th>\n",
       "      <th>year</th>\n",
       "      <th>state</th>\n",
       "      <th>month</th>\n",
       "      <th>number</th>\n",
       "      <th>date</th>\n",
       "    </tr>\n",
       "  </thead>\n",
       "  <tbody>\n",
       "    <tr>\n",
       "      <th>479</th>\n",
       "      <td>1998</td>\n",
       "      <td>Amapa</td>\n",
       "      <td>1</td>\n",
       "      <td>0.0</td>\n",
       "      <td>1998-01-01</td>\n",
       "    </tr>\n",
       "    <tr>\n",
       "      <th>480</th>\n",
       "      <td>1999</td>\n",
       "      <td>Amapa</td>\n",
       "      <td>1</td>\n",
       "      <td>0.0</td>\n",
       "      <td>1999-01-01</td>\n",
       "    </tr>\n",
       "    <tr>\n",
       "      <th>481</th>\n",
       "      <td>2000</td>\n",
       "      <td>Amapa</td>\n",
       "      <td>1</td>\n",
       "      <td>2.0</td>\n",
       "      <td>2000-01-01</td>\n",
       "    </tr>\n",
       "    <tr>\n",
       "      <th>482</th>\n",
       "      <td>2001</td>\n",
       "      <td>Amapa</td>\n",
       "      <td>1</td>\n",
       "      <td>0.0</td>\n",
       "      <td>2001-01-01</td>\n",
       "    </tr>\n",
       "    <tr>\n",
       "      <th>483</th>\n",
       "      <td>2002</td>\n",
       "      <td>Amapa</td>\n",
       "      <td>1</td>\n",
       "      <td>7.0</td>\n",
       "      <td>2002-01-01</td>\n",
       "    </tr>\n",
       "  </tbody>\n",
       "</table>\n",
       "</div>"
      ],
      "text/plain": [
       "     year  state  month  number        date\n",
       "479  1998  Amapa      1     0.0  1998-01-01\n",
       "480  1999  Amapa      1     0.0  1999-01-01\n",
       "481  2000  Amapa      1     2.0  2000-01-01\n",
       "482  2001  Amapa      1     0.0  2001-01-01\n",
       "483  2002  Amapa      1     7.0  2002-01-01"
      ]
     },
     "execution_count": 148,
     "metadata": {},
     "output_type": "execute_result"
    }
   ],
   "source": [
    "# Create the month mapping from latin to numbers\n",
    "month_keys = set(target_df['month'])\n",
    "# print(month_keys)\n",
    "month_dict={\n",
    "    'Março': 3, \n",
    "    'Junho': 6, \n",
    "    'Abril': 4, \n",
    "    'Setembro': 9,\n",
    "    'Fevereiro': 2, \n",
    "    'Agosto': 8,\n",
    "    'Maio': 5,\n",
    "    'Novembro': 11,\n",
    "    'Janeiro':1, \n",
    "    'Julho': 7,\n",
    "    'Dezembro': 12,\n",
    "    'Outubro':10\n",
    "}\n",
    "# convert month to sortabke numerical values\n",
    "target_df['month'] = target_df['month'].apply(lambda x: month_dict[x])\n",
    "target_df.head()"
   ]
  },
  {
   "cell_type": "code",
   "execution_count": 149,
   "metadata": {
    "collapsed": false
   },
   "outputs": [
    {
     "name": "stderr",
     "output_type": "stream",
     "text": [
      "/usr/local/lib/python3.6/site-packages/ipykernel_launcher.py:2: SettingWithCopyWarning: \n",
      "A value is trying to be set on a copy of a slice from a DataFrame.\n",
      "Try using .loc[row_indexer,col_indexer] = value instead\n",
      "\n",
      "See the caveats in the documentation: http://pandas.pydata.org/pandas-docs/stable/indexing.html#indexing-view-versus-copy\n",
      "  \n",
      "/usr/local/lib/python3.6/site-packages/ipykernel_launcher.py:4: SettingWithCopyWarning: \n",
      "A value is trying to be set on a copy of a slice from a DataFrame\n",
      "\n",
      "See the caveats in the documentation: http://pandas.pydata.org/pandas-docs/stable/indexing.html#indexing-view-versus-copy\n",
      "  after removing the cwd from sys.path.\n"
     ]
    },
    {
     "data": {
      "text/html": [
       "<div>\n",
       "<style scoped>\n",
       "    .dataframe tbody tr th:only-of-type {\n",
       "        vertical-align: middle;\n",
       "    }\n",
       "\n",
       "    .dataframe tbody tr th {\n",
       "        vertical-align: top;\n",
       "    }\n",
       "\n",
       "    .dataframe thead th {\n",
       "        text-align: right;\n",
       "    }\n",
       "</style>\n",
       "<table border=\"1\" class=\"dataframe\">\n",
       "  <thead>\n",
       "    <tr style=\"text-align: right;\">\n",
       "      <th></th>\n",
       "      <th>number</th>\n",
       "    </tr>\n",
       "  </thead>\n",
       "  <tbody>\n",
       "    <tr>\n",
       "      <th>1998-01-01</th>\n",
       "      <td>0.0</td>\n",
       "    </tr>\n",
       "    <tr>\n",
       "      <th>1998-02-01</th>\n",
       "      <td>0.0</td>\n",
       "    </tr>\n",
       "    <tr>\n",
       "      <th>1998-03-01</th>\n",
       "      <td>0.0</td>\n",
       "    </tr>\n",
       "    <tr>\n",
       "      <th>1998-04-01</th>\n",
       "      <td>0.0</td>\n",
       "    </tr>\n",
       "    <tr>\n",
       "      <th>1998-05-01</th>\n",
       "      <td>0.0</td>\n",
       "    </tr>\n",
       "  </tbody>\n",
       "</table>\n",
       "</div>"
      ],
      "text/plain": [
       "            number\n",
       "1998-01-01     0.0\n",
       "1998-02-01     0.0\n",
       "1998-03-01     0.0\n",
       "1998-04-01     0.0\n",
       "1998-05-01     0.0"
      ]
     },
     "execution_count": 149,
     "metadata": {},
     "output_type": "execute_result"
    }
   ],
   "source": [
    "# Prepare the dataset\n",
    "target_df['day']=1\n",
    "target_df.index=pd.DatetimeIndex(pd.to_datetime(target_df[['year', 'month','day']]))\n",
    "target_df.sort_index(inplace=True,ascending=True)\n",
    "target_df = target_df.loc[:, ['number']] # drop all irrelavant columns\n",
    "target_df.head()"
   ]
  },
  {
   "cell_type": "code",
   "execution_count": 150,
   "metadata": {
    "collapsed": true
   },
   "outputs": [],
   "source": [
    "# Now split the data into input sequences to generate acceptable input dataset for the network\n",
    "# Plan to try vanilla LSTM first\n",
    "def split_data(ts, input_len, output_len):\n",
    "    inputs=[]\n",
    "    outputs=[]\n",
    "    for i in range(len(ts)):\n",
    "        if i+input_len+output_len<len(ts):\n",
    "            sample=ts[i:i+input_len]\n",
    "            gt=ts[i+input_len:i+input_len+output_len]\n",
    "            inputs.append(sample)\n",
    "            outputs.append(gt)\n",
    "    return np.array(inputs), np.array(outputs)"
   ]
  },
  {
   "cell_type": "code",
   "execution_count": 151,
   "metadata": {
    "collapsed": false
   },
   "outputs": [],
   "source": [
    "input_len=12\n",
    "output_len=1\n",
    "inputs, outputs=split_data(target_df.number, input_len, output_len)\n",
    "assert len(inputs)==len(outputs)\n",
    "inputs = inputs.reshape((inputs.shape[0], inputs.shape[1], n_features)) # add third dimension to the inputs"
   ]
  },
  {
   "cell_type": "code",
   "execution_count": 152,
   "metadata": {
    "collapsed": false
   },
   "outputs": [
    {
     "name": "stdout",
     "output_type": "stream",
     "text": [
      "226\n",
      "239\n"
     ]
    }
   ],
   "source": [
    "dataset_size=len(inputs)\n",
    "print(dataset_size)\n",
    "print(len(target_df.number))"
   ]
  },
  {
   "cell_type": "code",
   "execution_count": 153,
   "metadata": {
    "collapsed": true
   },
   "outputs": [],
   "source": [
    "# split a univariate dataset into train/test sets\n",
    "def train_test_split(X, y, r):\n",
    "    index=int(X.shape[0]*r)\n",
    "    return (X[:index], y[:index]),(X[index:], y[index:])"
   ]
  },
  {
   "cell_type": "code",
   "execution_count": 154,
   "metadata": {
    "collapsed": false
   },
   "outputs": [
    {
     "name": "stdout",
     "output_type": "stream",
     "text": [
      "180\n"
     ]
    }
   ],
   "source": [
    "r=0.8\n",
    "(train_X, train_y),(test_X, test_y) = train_test_split(inputs, outputs, r)\n",
    "print(len(train_X))"
   ]
  },
  {
   "cell_type": "markdown",
   "metadata": {},
   "source": [
    "## Vanilla LSTM"
   ]
  },
  {
   "cell_type": "code",
   "execution_count": 155,
   "metadata": {
    "collapsed": false
   },
   "outputs": [],
   "source": [
    "# Now build the model\n",
    "import tensorflow as tf"
   ]
  },
  {
   "cell_type": "code",
   "execution_count": 156,
   "metadata": {
    "collapsed": false
   },
   "outputs": [
    {
     "name": "stdout",
     "output_type": "stream",
     "text": [
      "Model: \"sequential_20\"\n",
      "_________________________________________________________________\n",
      "Layer (type)                 Output Shape              Param #   \n",
      "=================================================================\n",
      "lstm_20 (LSTM)               (None, 50)                10400     \n",
      "_________________________________________________________________\n",
      "dense_18 (Dense)             (None, 1)                 51        \n",
      "=================================================================\n",
      "Total params: 10,451\n",
      "Trainable params: 10,451\n",
      "Non-trainable params: 0\n",
      "_________________________________________________________________\n"
     ]
    }
   ],
   "source": [
    "# define model\n",
    "n_features=1\n",
    "model = tf.keras.Sequential()\n",
    "model.add(tf.keras.layers.LSTM(50, activation='relu', input_shape=(input_len, n_features)))\n",
    "model.add(tf.keras.layers.Dense(1, activation='linear'))\n",
    "model.compile(optimizer='adam', loss='mse')\n",
    "model.summary()"
   ]
  },
  {
   "cell_type": "code",
   "execution_count": 157,
   "metadata": {
    "collapsed": true
   },
   "outputs": [],
   "source": [
    "def plot_loss_history(history):\n",
    "    # Get training and test loss histories\n",
    "    training_loss = history.history['loss']\n",
    "    test_loss = history.history['val_loss']\n",
    "\n",
    "    # Create count of the number of epochs\n",
    "    epoch_count = range(1, len(training_loss) + 1)\n",
    "\n",
    "    # Visualize loss history\n",
    "    plt.plot(epoch_count, training_loss, 'r--')\n",
    "    plt.plot(epoch_count, test_loss, 'b-')\n",
    "    plt.legend(['Training Loss', 'Validation Loss'])\n",
    "    plt.xlabel('Epoch')\n",
    "    plt.ylabel('Loss')\n",
    "    plt.show();"
   ]
  },
  {
   "cell_type": "code",
   "execution_count": 158,
   "metadata": {
    "collapsed": false
   },
   "outputs": [
    {
     "name": "stdout",
     "output_type": "stream",
     "text": [
      "Train on 162 samples, validate on 18 samples\n",
      "Epoch 1/10\n",
      "162/162 [==============================] - 1s 7ms/sample - loss: 34209.0431 - val_loss: 86164.5312\n",
      "Epoch 2/10\n",
      "162/162 [==============================] - 0s 377us/sample - loss: 32962.5583 - val_loss: 78728.7812\n",
      "Epoch 3/10\n",
      "162/162 [==============================] - 0s 343us/sample - loss: 30497.5287 - val_loss: 71882.1641\n",
      "Epoch 4/10\n",
      "162/162 [==============================] - 0s 377us/sample - loss: 27671.3859 - val_loss: 70340.1641\n",
      "Epoch 5/10\n",
      "162/162 [==============================] - 0s 389us/sample - loss: 26229.3398 - val_loss: 63851.9922\n",
      "Epoch 6/10\n",
      "162/162 [==============================] - 0s 361us/sample - loss: 23731.4553 - val_loss: 61582.1719\n",
      "Epoch 7/10\n",
      "162/162 [==============================] - 0s 313us/sample - loss: 22056.9096 - val_loss: 53383.1172\n",
      "Epoch 8/10\n",
      "162/162 [==============================] - 0s 303us/sample - loss: 21745.4301 - val_loss: 49851.7617\n",
      "Epoch 9/10\n",
      "162/162 [==============================] - 0s 329us/sample - loss: 21750.0541 - val_loss: 47647.5312\n",
      "Epoch 10/10\n",
      "162/162 [==============================] - 0s 308us/sample - loss: 20850.0836 - val_loss: 49642.2773\n"
     ]
    }
   ],
   "source": [
    "history=model.fit(train_X, train_y, epochs=10, validation_split=0.1,verbose=1) # now try validation split without shuffling training data"
   ]
  },
  {
   "cell_type": "code",
   "execution_count": 159,
   "metadata": {
    "collapsed": false
   },
   "outputs": [
    {
     "data": {
      "image/png": "[encoded data removed]",
      "text/plain": [
       "<Figure size 432x288 with 1 Axes>"
      ]
     },
     "metadata": {
      "needs_background": "light"
     },
     "output_type": "display_data"
    }
   ],
   "source": [
    "plot_loss_history(history)"
   ]
  },
  {
   "cell_type": "markdown",
   "metadata": {},
   "source": [
    "Looks like the vanilla LSTM model is both high bias and high variance. Let's train longer see if it helps."
   ]
  },
  {
   "cell_type": "code",
   "execution_count": 163,
   "metadata": {
    "collapsed": false
   },
   "outputs": [
    {
     "name": "stdout",
     "output_type": "stream",
     "text": [
      "Train on 162 samples, validate on 18 samples\n",
      "Epoch 1/50\n",
      "162/162 [==============================] - 0s 452us/sample - loss: 15326.1447 - val_loss: 51651.9492\n",
      "Epoch 2/50\n",
      "162/162 [==============================] - 0s 390us/sample - loss: 17675.4779 - val_loss: 52939.4023\n",
      "Epoch 3/50\n",
      "162/162 [==============================] - 0s 388us/sample - loss: 18661.0044 - val_loss: 53530.3047\n",
      "Epoch 4/50\n",
      "162/162 [==============================] - 0s 388us/sample - loss: 18435.4755 - val_loss: 59132.6523\n",
      "Epoch 5/50\n",
      "162/162 [==============================] - 0s 409us/sample - loss: 18531.3553 - val_loss: 55863.1328\n",
      "Epoch 6/50\n",
      "162/162 [==============================] - 0s 436us/sample - loss: 16991.5818 - val_loss: 55122.6719\n",
      "Epoch 7/50\n",
      "162/162 [==============================] - 0s 412us/sample - loss: 16155.4327 - val_loss: 53711.3906\n",
      "Epoch 8/50\n",
      "162/162 [==============================] - 0s 415us/sample - loss: 15287.6462 - val_loss: 52122.4414\n",
      "Epoch 9/50\n",
      "162/162 [==============================] - 0s 446us/sample - loss: 13664.7399 - val_loss: 45486.6523\n",
      "Epoch 10/50\n",
      "162/162 [==============================] - 0s 412us/sample - loss: 16174.1734 - val_loss: 45515.6367\n",
      "Epoch 11/50\n",
      "162/162 [==============================] - 0s 404us/sample - loss: 15261.5979 - val_loss: 46921.8945\n",
      "Epoch 12/50\n",
      "162/162 [==============================] - 0s 399us/sample - loss: 15754.6828 - val_loss: 45125.0430\n",
      "Epoch 13/50\n",
      "162/162 [==============================] - 0s 400us/sample - loss: 16209.0502 - val_loss: 49765.8047\n",
      "Epoch 14/50\n",
      "162/162 [==============================] - 0s 422us/sample - loss: 15310.4051 - val_loss: 47806.2656\n",
      "Epoch 15/50\n",
      "162/162 [==============================] - 0s 437us/sample - loss: 14546.2086 - val_loss: 43926.2109\n",
      "Epoch 16/50\n",
      "162/162 [==============================] - 0s 486us/sample - loss: 14819.7134 - val_loss: 45784.4453\n",
      "Epoch 17/50\n",
      "162/162 [==============================] - 0s 427us/sample - loss: 14576.9770 - val_loss: 44811.4648\n",
      "Epoch 18/50\n",
      "162/162 [==============================] - 0s 394us/sample - loss: 13021.6655 - val_loss: 47797.6992\n",
      "Epoch 19/50\n",
      "162/162 [==============================] - 0s 398us/sample - loss: 14546.4879 - val_loss: 45433.6992\n",
      "Epoch 20/50\n",
      "162/162 [==============================] - 0s 472us/sample - loss: 14137.7359 - val_loss: 47782.6641\n",
      "Epoch 21/50\n",
      "162/162 [==============================] - 0s 508us/sample - loss: 13824.5786 - val_loss: 52530.6758\n",
      "Epoch 22/50\n",
      "162/162 [==============================] - 0s 422us/sample - loss: 16649.1727 - val_loss: 51342.4219\n",
      "Epoch 23/50\n",
      "162/162 [==============================] - 0s 406us/sample - loss: 16545.2287 - val_loss: 48154.3984\n",
      "Epoch 24/50\n",
      "162/162 [==============================] - 0s 362us/sample - loss: 15881.5476 - val_loss: 48069.3242\n",
      "Epoch 25/50\n",
      "162/162 [==============================] - 0s 399us/sample - loss: 15106.7208 - val_loss: 53309.0469\n",
      "Epoch 26/50\n",
      "162/162 [==============================] - 0s 443us/sample - loss: 15273.3036 - val_loss: 51218.2109\n",
      "Epoch 27/50\n",
      "162/162 [==============================] - 0s 441us/sample - loss: 13781.2714 - val_loss: 47579.3594\n",
      "Epoch 28/50\n",
      "162/162 [==============================] - 0s 346us/sample - loss: 12344.9547 - val_loss: 48266.4414\n",
      "Epoch 29/50\n",
      "162/162 [==============================] - 0s 347us/sample - loss: 12604.1530 - val_loss: 47883.8477\n",
      "Epoch 30/50\n",
      "162/162 [==============================] - 0s 342us/sample - loss: 15900.5798 - val_loss: 45936.2773\n",
      "Epoch 31/50\n",
      "162/162 [==============================] - 0s 344us/sample - loss: 13445.8792 - val_loss: 51257.4453\n",
      "Epoch 32/50\n",
      "162/162 [==============================] - 0s 333us/sample - loss: 14496.6366 - val_loss: 54099.6445\n",
      "Epoch 33/50\n",
      "162/162 [==============================] - 0s 360us/sample - loss: 13653.2018 - val_loss: 45424.9023\n",
      "Epoch 34/50\n",
      "162/162 [==============================] - 0s 525us/sample - loss: 12959.5618 - val_loss: 45669.9922\n",
      "Epoch 35/50\n",
      "162/162 [==============================] - 0s 715us/sample - loss: 12628.9086 - val_loss: 46797.8633\n",
      "Epoch 36/50\n",
      "162/162 [==============================] - 0s 638us/sample - loss: 12498.4614 - val_loss: 45162.6016\n",
      "Epoch 37/50\n",
      "162/162 [==============================] - 0s 598us/sample - loss: 12039.6253 - val_loss: 51190.4414\n",
      "Epoch 38/50\n",
      "162/162 [==============================] - 0s 511us/sample - loss: 20902.2178 - val_loss: 45912.4844\n",
      "Epoch 39/50\n",
      "162/162 [==============================] - 0s 427us/sample - loss: 13105.5847 - val_loss: 40536.4492\n",
      "Epoch 40/50\n",
      "162/162 [==============================] - 0s 386us/sample - loss: 13660.9605 - val_loss: 41888.5039\n",
      "Epoch 41/50\n",
      "162/162 [==============================] - 0s 415us/sample - loss: 12985.5673 - val_loss: 42411.2852\n",
      "Epoch 42/50\n",
      "162/162 [==============================] - 0s 417us/sample - loss: 14392.3476 - val_loss: 40241.1445\n",
      "Epoch 43/50\n",
      "162/162 [==============================] - 0s 408us/sample - loss: 19051.9290 - val_loss: 39298.7695\n",
      "Epoch 44/50\n",
      "162/162 [==============================] - 0s 604us/sample - loss: 20856.1741 - val_loss: 41282.6641\n",
      "Epoch 45/50\n",
      "162/162 [==============================] - 0s 784us/sample - loss: 16088.9738 - val_loss: 40101.2070\n",
      "Epoch 46/50\n",
      "162/162 [==============================] - 0s 707us/sample - loss: 15657.7138 - val_loss: 39912.5156\n",
      "Epoch 47/50\n",
      "162/162 [==============================] - 0s 729us/sample - loss: 15254.8117 - val_loss: 42795.0703\n",
      "Epoch 48/50\n",
      "162/162 [==============================] - 0s 442us/sample - loss: 14344.2988 - val_loss: 42787.1758\n",
      "Epoch 49/50\n",
      "162/162 [==============================] - 0s 448us/sample - loss: 13784.9963 - val_loss: 39329.2695\n",
      "Epoch 50/50\n",
      "162/162 [==============================] - 0s 417us/sample - loss: 13015.4390 - val_loss: 41097.8750\n"
     ]
    }
   ],
   "source": [
    "history=model.fit(train_X, train_y, epochs=50, validation_split=0.1,verbose=1) # now try validation split without shuffling training data"
   ]
  },
  {
   "cell_type": "code",
   "execution_count": 164,
   "metadata": {
    "collapsed": false
   },
   "outputs": [
    {
     "data": {
      "image/png": "[encoded data removed]",
      "text/plain": [
       "<Figure size 432x288 with 1 Axes>"
      ]
     },
     "metadata": {
      "needs_background": "light"
     },
     "output_type": "display_data"
    }
   ],
   "source": [
    "plot_loss_history(history)"
   ]
  },
  {
   "cell_type": "markdown",
   "metadata": {},
   "source": [
    "Training longer does not help in this case. Both trainig and validation errors fluctuate alot. The model is under powered for this task."
   ]
  },
  {
   "cell_type": "code",
   "execution_count": null,
   "metadata": {
    "collapsed": true
   },
   "outputs": [],
   "source": [
    "## predictions = model.predict(test_X)\n",
    "# print(predictions)\n",
    "plt.plot(predictions,'r-')\n",
    "plt.plot(test_y,'g-')"
   ]
  },
  {
   "cell_type": "code",
   "execution_count": null,
   "metadata": {
    "collapsed": true
   },
   "outputs": [],
   "source": []
  },
  {
   "cell_type": "markdown",
   "metadata": {},
   "source": [
    "## Bidirectional LSTM"
   ]
  },
  {
   "cell_type": "code",
   "execution_count": 171,
   "metadata": {
    "collapsed": false
   },
   "outputs": [
    {
     "name": "stdout",
     "output_type": "stream",
     "text": [
      "Train on 162 samples, validate on 18 samples\n",
      "Epoch 1/20\n",
      "162/162 [==============================] - 2s 13ms/sample - loss: 37329.2686 - val_loss: 93701.8750\n",
      "Epoch 2/20\n",
      "162/162 [==============================] - 0s 494us/sample - loss: 34757.9575 - val_loss: 86501.4297\n",
      "Epoch 3/20\n",
      "162/162 [==============================] - 0s 473us/sample - loss: 31457.4715 - val_loss: 73668.5312\n",
      "Epoch 4/20\n",
      "162/162 [==============================] - 0s 513us/sample - loss: 26390.7394 - val_loss: 53366.8906\n",
      "Epoch 5/20\n",
      "162/162 [==============================] - 0s 514us/sample - loss: 22368.0064 - val_loss: 46456.7383\n",
      "Epoch 6/20\n",
      "162/162 [==============================] - 0s 446us/sample - loss: 18353.7533 - val_loss: 40478.4688\n",
      "Epoch 7/20\n",
      "162/162 [==============================] - 0s 454us/sample - loss: 16690.4733 - val_loss: 43088.8867\n",
      "Epoch 8/20\n",
      "162/162 [==============================] - 0s 510us/sample - loss: 14948.8699 - val_loss: 42531.3867\n",
      "Epoch 9/20\n",
      "162/162 [==============================] - 0s 563us/sample - loss: 14065.1859 - val_loss: 40271.8555\n",
      "Epoch 10/20\n",
      "162/162 [==============================] - 0s 502us/sample - loss: 13954.0414 - val_loss: 38550.0859\n",
      "Epoch 11/20\n",
      "162/162 [==============================] - 0s 493us/sample - loss: 10914.9428 - val_loss: 38066.6250\n",
      "Epoch 12/20\n",
      "162/162 [==============================] - 0s 539us/sample - loss: 10845.3728 - val_loss: 38383.1602\n",
      "Epoch 13/20\n",
      "162/162 [==============================] - 0s 485us/sample - loss: 11052.6090 - val_loss: 39261.4414\n",
      "Epoch 14/20\n",
      "162/162 [==============================] - 0s 496us/sample - loss: 10495.2686 - val_loss: 38440.5938\n",
      "Epoch 15/20\n",
      "162/162 [==============================] - 0s 486us/sample - loss: 10482.7150 - val_loss: 38950.2109\n",
      "Epoch 16/20\n",
      "162/162 [==============================] - 0s 570us/sample - loss: 13578.3953 - val_loss: 39476.0938\n",
      "Epoch 17/20\n",
      "162/162 [==============================] - 0s 511us/sample - loss: 11359.3610 - val_loss: 39694.9805\n",
      "Epoch 18/20\n",
      "162/162 [==============================] - 0s 579us/sample - loss: 12053.0512 - val_loss: 37298.7109\n",
      "Epoch 19/20\n",
      "162/162 [==============================] - 0s 855us/sample - loss: 11951.8703 - val_loss: 34818.8086\n",
      "Epoch 20/20\n",
      "162/162 [==============================] - 0s 930us/sample - loss: 11170.7983 - val_loss: 36245.2930\n"
     ]
    }
   ],
   "source": [
    "from tensorflow.keras.layers import Bidirectional, LSTM, Dense\n",
    "model_bilstm = tf.keras.Sequential()\n",
    "model_bilstm.add(Bidirectional(LSTM(50, activation='relu', input_shape=(input_len, n_features))))\n",
    "model_bilstm.add(Dense(1))\n",
    "model_bilstm.compile(optimizer='adam', loss='mse')\n",
    "# model_bilstm.summary()\n",
    "bilstm_history=model_bilstm.fit(\n",
    "                                train_X, \n",
    "                                train_y, \n",
    "                                epochs=20, \n",
    "                                validation_split=0.1,\n",
    "#                                 shuffle=True,\n",
    "                                verbose=1\n",
    "                            ) # now try validation split with shuffling training data"
   ]
  },
  {
   "cell_type": "code",
   "execution_count": 172,
   "metadata": {
    "collapsed": false
   },
   "outputs": [
    {
     "data": {
      "image/png": "[encoded data removed]",
      "text/plain": [
       "<Figure size 432x288 with 1 Axes>"
      ]
     },
     "metadata": {
      "needs_background": "light"
     },
     "output_type": "display_data"
    }
   ],
   "source": [
    "plot_loss_history(bilstm_history)"
   ]
  },
  {
   "cell_type": "code",
   "execution_count": 108,
   "metadata": {
    "collapsed": false
   },
   "outputs": [
    {
     "data": {
      "text/plain": [
       "[<matplotlib.lines.Line2D at 0x141340ac8>]"
      ]
     },
     "execution_count": 108,
     "metadata": {},
     "output_type": "execute_result"
    },
    {
     "data": {
      "image/png": "[encoded data removed]",
      "text/plain": [
       "<Figure size 432x288 with 1 Axes>"
      ]
     },
     "metadata": {
      "needs_background": "light"
     },
     "output_type": "display_data"
    }
   ],
   "source": [
    "predictions = model_bilstm.predict(test_X)\n",
    "# print(predictions)\n",
    "plt.plot(predictions)\n",
    "plt.plot(test_y)"
   ]
  },
  {
   "cell_type": "markdown",
   "metadata": {},
   "source": [
    "## Stacked LSTM"
   ]
  },
  {
   "cell_type": "code",
   "execution_count": 62,
   "metadata": {
    "collapsed": false
   },
   "outputs": [
    {
     "name": "stdout",
     "output_type": "stream",
     "text": [
      "Model: \"sequential_10\"\n",
      "_________________________________________________________________\n",
      "Layer (type)                 Output Shape              Param #   \n",
      "=================================================================\n",
      "lstm_9 (LSTM)                (None, 12, 50)            10400     \n",
      "_________________________________________________________________\n",
      "lstm_10 (LSTM)               (None, 50)                20200     \n",
      "_________________________________________________________________\n",
      "dense_8 (Dense)              (None, 1)                 51        \n",
      "=================================================================\n",
      "Total params: 30,651\n",
      "Trainable params: 30,651\n",
      "Non-trainable params: 0\n",
      "_________________________________________________________________\n"
     ]
    }
   ],
   "source": [
    "model_slstm = tf.keras.Sequential()\n",
    "model_slstm.add(LSTM(50, activation='relu', return_sequences=True, input_shape=(input_len, n_features)))\n",
    "model_slstm.add(LSTM(50, activation='relu'))\n",
    "model_slstm.add(Dense(1))\n",
    "model_slstm.compile(optimizer='adam', loss='mse')\n",
    "model_slstm.summary()"
   ]
  },
  {
   "cell_type": "code",
   "execution_count": 182,
   "metadata": {
    "collapsed": false
   },
   "outputs": [
    {
     "name": "stdout",
     "output_type": "stream",
     "text": [
      "Train on 162 samples, validate on 18 samples\n",
      "Epoch 1/20\n",
      "162/162 [==============================] - 0s 722us/sample - loss: 2400.5639 - val_loss: 64487.5078\n",
      "Epoch 2/20\n",
      "162/162 [==============================] - 0s 634us/sample - loss: 2344.3452 - val_loss: 63613.6523\n",
      "Epoch 3/20\n",
      "162/162 [==============================] - 0s 614us/sample - loss: 2283.5521 - val_loss: 64634.9297\n",
      "Epoch 4/20\n",
      "162/162 [==============================] - 0s 567us/sample - loss: 2213.9733 - val_loss: 71302.5000\n",
      "Epoch 5/20\n",
      "162/162 [==============================] - 0s 697us/sample - loss: 2162.0368 - val_loss: 70328.2812\n",
      "Epoch 6/20\n",
      "162/162 [==============================] - 0s 675us/sample - loss: 2544.9929 - val_loss: 66766.4688\n",
      "Epoch 7/20\n",
      "162/162 [==============================] - 0s 596us/sample - loss: 2304.8747 - val_loss: 67220.2500\n",
      "Epoch 8/20\n",
      "162/162 [==============================] - 0s 651us/sample - loss: 2256.8894 - val_loss: 70023.4219\n",
      "Epoch 9/20\n",
      "162/162 [==============================] - 0s 592us/sample - loss: 2181.8054 - val_loss: 67406.7422\n",
      "Epoch 10/20\n",
      "162/162 [==============================] - 0s 653us/sample - loss: 2161.4935 - val_loss: 63752.8398\n",
      "Epoch 11/20\n",
      "162/162 [==============================] - 0s 615us/sample - loss: 2146.1785 - val_loss: 66377.5312\n",
      "Epoch 12/20\n",
      "162/162 [==============================] - 0s 630us/sample - loss: 2066.2825 - val_loss: 67853.5547\n",
      "Epoch 13/20\n",
      "162/162 [==============================] - 0s 587us/sample - loss: 2021.5343 - val_loss: 73946.9922\n",
      "Epoch 14/20\n",
      "162/162 [==============================] - 0s 687us/sample - loss: 3295.9276 - val_loss: 88072.3359\n",
      "Epoch 15/20\n",
      "162/162 [==============================] - 0s 612us/sample - loss: 2808.1910 - val_loss: 66267.9922\n",
      "Epoch 16/20\n",
      "162/162 [==============================] - 0s 696us/sample - loss: 2122.6343 - val_loss: 60095.7344\n",
      "Epoch 17/20\n",
      "162/162 [==============================] - 0s 631us/sample - loss: 2939.3994 - val_loss: 57680.6133\n",
      "Epoch 18/20\n",
      "162/162 [==============================] - 0s 965us/sample - loss: 2449.4674 - val_loss: 68835.1328\n",
      "Epoch 19/20\n",
      "162/162 [==============================] - 0s 1ms/sample - loss: 2477.6196 - val_loss: 70410.7891\n",
      "Epoch 20/20\n",
      "162/162 [==============================] - 0s 969us/sample - loss: 2056.1920 - val_loss: 69974.7734\n"
     ]
    }
   ],
   "source": [
    "history_slstm=model_slstm.fit(train_X, train_y, epochs=20, validation_split=0.1, verbose=1) # now try validation split without shuffling training data"
   ]
  },
  {
   "cell_type": "code",
   "execution_count": 183,
   "metadata": {
    "collapsed": false
   },
   "outputs": [
    {
     "data": {
      "image/png": "[encoded data removed]",
      "text/plain": [
       "<Figure size 432x288 with 1 Axes>"
      ]
     },
     "metadata": {
      "needs_background": "light"
     },
     "output_type": "display_data"
    }
   ],
   "source": [
    "plot_loss_history(history_slstm)"
   ]
  },
  {
   "cell_type": "markdown",
   "metadata": {},
   "source": [
    "### Stack Bidirectional LSTM"
   ]
  },
  {
   "cell_type": "code",
   "execution_count": 186,
   "metadata": {
    "collapsed": false
   },
   "outputs": [
    {
     "name": "stdout",
     "output_type": "stream",
     "text": [
      "Train on 162 samples, validate on 18 samples\n",
      "Epoch 1/100\n",
      "162/162 [==============================] - 0s 569us/sample - loss: 3317.7384 - val_loss: 47787.0625\n",
      "Epoch 2/100\n",
      "162/162 [==============================] - 0s 565us/sample - loss: 3375.4910 - val_loss: 48538.6406\n",
      "Epoch 3/100\n",
      "162/162 [==============================] - 0s 516us/sample - loss: 3165.9146 - val_loss: 48931.8203\n",
      "Epoch 4/100\n",
      "162/162 [==============================] - 0s 499us/sample - loss: 3090.0177 - val_loss: 49911.7578\n",
      "Epoch 5/100\n",
      "162/162 [==============================] - 0s 633us/sample - loss: 3949.9248 - val_loss: 46867.3672\n",
      "Epoch 6/100\n",
      "162/162 [==============================] - 0s 757us/sample - loss: 4318.7268 - val_loss: 45774.8242\n",
      "Epoch 7/100\n",
      "162/162 [==============================] - 0s 661us/sample - loss: 4153.6263 - val_loss: 46032.9375\n",
      "Epoch 8/100\n",
      "162/162 [==============================] - 0s 521us/sample - loss: 3975.1112 - val_loss: 46952.7695\n",
      "Epoch 9/100\n",
      "162/162 [==============================] - 0s 510us/sample - loss: 3682.6767 - val_loss: 47997.5430\n",
      "Epoch 10/100\n",
      "162/162 [==============================] - 0s 551us/sample - loss: 3503.5034 - val_loss: 48777.9844\n",
      "Epoch 11/100\n",
      "162/162 [==============================] - 0s 577us/sample - loss: 3000.1573 - val_loss: 45826.4102\n",
      "Epoch 12/100\n",
      "162/162 [==============================] - 0s 466us/sample - loss: 3716.5766 - val_loss: 47089.2031\n",
      "Epoch 13/100\n",
      "162/162 [==============================] - 0s 494us/sample - loss: 3354.3047 - val_loss: 45428.6406\n",
      "Epoch 14/100\n",
      "162/162 [==============================] - 0s 543us/sample - loss: 4291.9193 - val_loss: 41196.8281\n",
      "Epoch 15/100\n",
      "162/162 [==============================] - 0s 583us/sample - loss: 4303.6351 - val_loss: 42442.4883\n",
      "Epoch 16/100\n",
      "162/162 [==============================] - 0s 664us/sample - loss: 4611.6379 - val_loss: 43456.5117\n",
      "Epoch 17/100\n",
      "162/162 [==============================] - 0s 499us/sample - loss: 3130.9083 - val_loss: 53036.3203\n",
      "Epoch 18/100\n",
      "162/162 [==============================] - 0s 610us/sample - loss: 2619.6167 - val_loss: 52601.7578\n",
      "Epoch 19/100\n",
      "162/162 [==============================] - 0s 569us/sample - loss: 3895.4025 - val_loss: 46465.3750\n",
      "Epoch 20/100\n",
      "162/162 [==============================] - 0s 616us/sample - loss: 4237.1855 - val_loss: 46053.8750\n",
      "Epoch 21/100\n",
      "162/162 [==============================] - 0s 607us/sample - loss: 3072.7703 - val_loss: 44440.8359\n",
      "Epoch 22/100\n",
      "162/162 [==============================] - 0s 624us/sample - loss: 3323.9980 - val_loss: 45827.0352\n",
      "Epoch 23/100\n",
      "162/162 [==============================] - 0s 651us/sample - loss: 2627.1665 - val_loss: 48490.9531\n",
      "Epoch 24/100\n",
      "162/162 [==============================] - 0s 516us/sample - loss: 18150.1112 - val_loss: 54745.5820\n",
      "Epoch 25/100\n",
      "162/162 [==============================] - 0s 705us/sample - loss: 11007.8597 - val_loss: 49294.0938\n",
      "Epoch 26/100\n",
      "162/162 [==============================] - 0s 742us/sample - loss: 5720.2514 - val_loss: 44028.1523\n",
      "Epoch 27/100\n",
      "162/162 [==============================] - 0s 669us/sample - loss: 4871.6195 - val_loss: 41303.4688\n",
      "Epoch 28/100\n",
      "162/162 [==============================] - 0s 614us/sample - loss: 5130.9711 - val_loss: 38497.0156\n",
      "Epoch 29/100\n",
      "162/162 [==============================] - 0s 502us/sample - loss: 4984.3936 - val_loss: 40299.6719\n",
      "Epoch 30/100\n",
      "162/162 [==============================] - 0s 533us/sample - loss: 7549.0184 - val_loss: 41572.1602\n",
      "Epoch 31/100\n",
      "162/162 [==============================] - 0s 686us/sample - loss: 7365.8029 - val_loss: 44142.5078\n",
      "Epoch 32/100\n",
      "162/162 [==============================] - 0s 587us/sample - loss: 5141.4514 - val_loss: 51295.7031\n",
      "Epoch 33/100\n",
      "162/162 [==============================] - 0s 516us/sample - loss: 4616.0846 - val_loss: 53214.1680\n",
      "Epoch 34/100\n",
      "162/162 [==============================] - 0s 591us/sample - loss: 4547.2103 - val_loss: 53671.5195\n",
      "Epoch 35/100\n",
      "162/162 [==============================] - 0s 584us/sample - loss: 5886.6705 - val_loss: 55112.2148\n",
      "Epoch 36/100\n",
      "162/162 [==============================] - 0s 612us/sample - loss: 5423.2880 - val_loss: 22815.0391\n",
      "Epoch 37/100\n",
      "162/162 [==============================] - 0s 707us/sample - loss: 6524.5227 - val_loss: 21637.4102\n",
      "Epoch 38/100\n",
      "162/162 [==============================] - 0s 655us/sample - loss: 5813.1799 - val_loss: 26020.9062\n",
      "Epoch 39/100\n",
      "162/162 [==============================] - 0s 590us/sample - loss: 3853.0721 - val_loss: 32356.5723\n",
      "Epoch 40/100\n",
      "162/162 [==============================] - 0s 592us/sample - loss: 4442.8161 - val_loss: 35987.8281\n",
      "Epoch 41/100\n",
      "162/162 [==============================] - 0s 633us/sample - loss: 3941.2894 - val_loss: 34541.3945\n",
      "Epoch 42/100\n",
      "162/162 [==============================] - 0s 721us/sample - loss: 3759.2919 - val_loss: 31363.8652\n",
      "Epoch 43/100\n",
      "162/162 [==============================] - 0s 824us/sample - loss: 4021.0537 - val_loss: 31609.4551\n",
      "Epoch 44/100\n",
      "162/162 [==============================] - 0s 753us/sample - loss: 3940.8801 - val_loss: 31729.7012\n",
      "Epoch 45/100\n",
      "162/162 [==============================] - 0s 760us/sample - loss: 3469.6420 - val_loss: 32862.8359\n",
      "Epoch 46/100\n",
      "162/162 [==============================] - 0s 793us/sample - loss: 5332.2064 - val_loss: 34811.6406\n",
      "Epoch 47/100\n",
      "162/162 [==============================] - 0s 1ms/sample - loss: 4785.4081 - val_loss: 31975.7637\n",
      "Epoch 48/100\n",
      "162/162 [==============================] - 0s 662us/sample - loss: 3503.3808 - val_loss: 46077.9766\n",
      "Epoch 49/100\n",
      "162/162 [==============================] - 0s 620us/sample - loss: 3496.9637 - val_loss: 31677.7148\n",
      "Epoch 50/100\n",
      "162/162 [==============================] - 0s 626us/sample - loss: 3303.7367 - val_loss: 31641.3535\n",
      "Epoch 51/100\n",
      "162/162 [==============================] - 0s 639us/sample - loss: 4865.3060 - val_loss: 29449.0137\n",
      "Epoch 52/100\n",
      "162/162 [==============================] - 0s 716us/sample - loss: 4724.3747 - val_loss: 28564.7637\n",
      "Epoch 53/100\n",
      "162/162 [==============================] - 0s 1ms/sample - loss: 4581.3876 - val_loss: 31562.6660\n",
      "Epoch 54/100\n",
      "162/162 [==============================] - 0s 1ms/sample - loss: 4360.2011 - val_loss: 33415.5508\n",
      "Epoch 55/100\n",
      "162/162 [==============================] - 0s 631us/sample - loss: 3927.0296 - val_loss: 37929.5547\n",
      "Epoch 56/100\n",
      "162/162 [==============================] - 0s 667us/sample - loss: 3476.5910 - val_loss: 52636.3477\n",
      "Epoch 57/100\n",
      "162/162 [==============================] - 0s 600us/sample - loss: 3438.0758 - val_loss: 50615.6992\n",
      "Epoch 58/100\n",
      "162/162 [==============================] - 0s 652us/sample - loss: 3780.4709 - val_loss: 52246.5273\n",
      "Epoch 59/100\n",
      "162/162 [==============================] - 0s 629us/sample - loss: 3465.5698 - val_loss: 53871.9531\n",
      "Epoch 60/100\n",
      "162/162 [==============================] - 0s 1ms/sample - loss: 3219.3230 - val_loss: 55768.2930\n",
      "Epoch 61/100\n",
      "162/162 [==============================] - 0s 728us/sample - loss: 3460.0531 - val_loss: 71764.3047\n",
      "Epoch 62/100\n",
      "162/162 [==============================] - 0s 906us/sample - loss: 4651.4851 - val_loss: 66700.8359\n",
      "Epoch 63/100\n",
      "162/162 [==============================] - 0s 908us/sample - loss: 4075.1395 - val_loss: 62789.8320\n",
      "Epoch 64/100\n",
      "162/162 [==============================] - 0s 819us/sample - loss: 3638.7428 - val_loss: 63890.6250\n",
      "Epoch 65/100\n",
      "162/162 [==============================] - 0s 687us/sample - loss: 3803.1436 - val_loss: 60368.1172\n",
      "Epoch 66/100\n",
      "162/162 [==============================] - 0s 591us/sample - loss: 3717.5614 - val_loss: 46758.1953\n",
      "Epoch 67/100\n",
      "162/162 [==============================] - 0s 568us/sample - loss: 4304.3262 - val_loss: 47073.3672\n",
      "Epoch 68/100\n",
      "162/162 [==============================] - 0s 692us/sample - loss: 4176.1003 - val_loss: 48921.3320\n",
      "Epoch 69/100\n",
      "162/162 [==============================] - 0s 671us/sample - loss: 3784.8113 - val_loss: 51764.8672\n",
      "Epoch 70/100\n",
      "162/162 [==============================] - 0s 666us/sample - loss: 3895.2488 - val_loss: 53410.3789\n",
      "Epoch 71/100\n",
      "162/162 [==============================] - 0s 658us/sample - loss: 3239.1772 - val_loss: 51428.9219\n",
      "Epoch 72/100\n",
      "162/162 [==============================] - 0s 508us/sample - loss: 3029.6441 - val_loss: 68416.3281\n",
      "Epoch 73/100\n",
      "162/162 [==============================] - 0s 499us/sample - loss: 2782.1302 - val_loss: 65126.1719\n",
      "Epoch 74/100\n",
      "162/162 [==============================] - 0s 499us/sample - loss: 2511.1597 - val_loss: 49240.8438\n",
      "Epoch 75/100\n",
      "162/162 [==============================] - 0s 560us/sample - loss: 2346.1177 - val_loss: 47086.7695\n",
      "Epoch 76/100\n",
      "162/162 [==============================] - 0s 507us/sample - loss: 2148.5218 - val_loss: 47730.0469\n",
      "Epoch 77/100\n",
      "162/162 [==============================] - 0s 419us/sample - loss: 2475.4481 - val_loss: 47936.5742\n",
      "Epoch 78/100\n",
      "162/162 [==============================] - 0s 445us/sample - loss: 2448.6771 - val_loss: 48885.9883\n",
      "Epoch 79/100\n",
      "162/162 [==============================] - 0s 431us/sample - loss: 2479.4480 - val_loss: 49950.4570\n",
      "Epoch 80/100\n",
      "162/162 [==============================] - 0s 447us/sample - loss: 2337.6313 - val_loss: 50093.7227\n",
      "Epoch 81/100\n",
      "162/162 [==============================] - 0s 577us/sample - loss: 2108.4690 - val_loss: 50523.9375\n",
      "Epoch 82/100\n",
      "162/162 [==============================] - 0s 513us/sample - loss: 1987.1098 - val_loss: 50778.8164\n",
      "Epoch 83/100\n",
      "162/162 [==============================] - 0s 531us/sample - loss: 1867.8978 - val_loss: 50725.3555\n",
      "Epoch 84/100\n",
      "162/162 [==============================] - 0s 502us/sample - loss: 1785.4314 - val_loss: 51992.3477\n",
      "Epoch 85/100\n",
      "162/162 [==============================] - 0s 442us/sample - loss: 1667.1696 - val_loss: 51181.5898\n",
      "Epoch 86/100\n",
      "162/162 [==============================] - 0s 442us/sample - loss: 1616.3575 - val_loss: 51191.7969\n",
      "Epoch 87/100\n",
      "162/162 [==============================] - 0s 474us/sample - loss: 1545.9425 - val_loss: 52404.0938\n",
      "Epoch 88/100\n",
      "162/162 [==============================] - 0s 480us/sample - loss: 1471.1203 - val_loss: 53344.1875\n",
      "Epoch 89/100\n",
      "162/162 [==============================] - 0s 495us/sample - loss: 1447.4956 - val_loss: 54218.3906\n",
      "Epoch 90/100\n",
      "162/162 [==============================] - 0s 543us/sample - loss: 1354.6261 - val_loss: 55135.9062\n",
      "Epoch 91/100\n",
      "162/162 [==============================] - 0s 546us/sample - loss: 1342.8261 - val_loss: 54955.0586\n",
      "Epoch 92/100\n",
      "162/162 [==============================] - 0s 625us/sample - loss: 1637.3900 - val_loss: 51402.6875\n",
      "Epoch 93/100\n",
      "162/162 [==============================] - 0s 598us/sample - loss: 1503.5819 - val_loss: 50817.0781\n",
      "Epoch 94/100\n",
      "162/162 [==============================] - 0s 475us/sample - loss: 1448.1322 - val_loss: 52910.3828\n",
      "Epoch 95/100\n",
      "162/162 [==============================] - 0s 501us/sample - loss: 1759.6130 - val_loss: 53517.4297\n",
      "Epoch 96/100\n",
      "162/162 [==============================] - 0s 504us/sample - loss: 1450.3648 - val_loss: 53269.4531\n",
      "Epoch 97/100\n",
      "162/162 [==============================] - 0s 455us/sample - loss: 1362.8598 - val_loss: 54063.8477\n",
      "Epoch 98/100\n",
      "162/162 [==============================] - 0s 435us/sample - loss: 1528.2624 - val_loss: 65551.3359\n",
      "Epoch 99/100\n",
      "162/162 [==============================] - 0s 452us/sample - loss: 1446.0582 - val_loss: 65920.0078\n",
      "Epoch 100/100\n",
      "162/162 [==============================] - 0s 484us/sample - loss: 1827.8138 - val_loss: 63656.7422\n"
     ]
    }
   ],
   "source": [
    "model_sbilstm = tf.keras.Sequential()\n",
    "model_sbilstm.add(Bidirectional(LSTM(50, activation='relu', return_sequences=True, input_shape=(input_len, n_features))))\n",
    "model_sbilstm.add(Bidirectional(LSTM(50, activation='relu')))\n",
    "model_sbilstm.add(Dense(1))\n",
    "model_sbilstm.compile(optimizer='adam', loss='mse')\n",
    "# model_bilstm.summary()\n",
    "sbilstm_history=model_bilstm.fit(\n",
    "                                train_X, \n",
    "                                train_y, \n",
    "                                epochs=100, \n",
    "                                validation_split=0.1,\n",
    "#                                 shuffle=True,\n",
    "                                verbose=1\n",
    "                            ) # now try validation split with shuffling training data"
   ]
  },
  {
   "cell_type": "code",
   "execution_count": 187,
   "metadata": {
    "collapsed": false
   },
   "outputs": [
    {
     "data": {
      "image/png": "[encoded data removed]",
      "text/plain": [
       "<Figure size 432x288 with 1 Axes>"
      ]
     },
     "metadata": {
      "needs_background": "light"
     },
     "output_type": "display_data"
    }
   ],
   "source": [
    "plot_loss_history(sbilstm_history)"
   ]
  },
  {
   "cell_type": "markdown",
   "metadata": {},
   "source": [
    "### Conclusion:\n",
    "All the NN modesl do not seem to work very well for this dataset maybe because it is too small.\n",
    "We run into general overfitting problems because we do not have enough data."
   ]
  },
  {
   "cell_type": "code",
   "execution_count": null,
   "metadata": {
    "collapsed": true
   },
   "outputs": [],
   "source": []
  }
 ],
 "metadata": {
  "kernelspec": {
   "display_name": "Python 3",
   "language": "python",
   "name": "python3"
  },
  "language_info": {
   "codemirror_mode": {
    "name": "ipython",
    "version": 3
   },
   "file_extension": ".py",
   "mimetype": "text/x-python",
   "name": "python",
   "nbconvert_exporter": "python",
   "pygments_lexer": "ipython3",
   "version": "3.6.5"
  }
 },
 "nbformat": 4,
 "nbformat_minor": 0
}
