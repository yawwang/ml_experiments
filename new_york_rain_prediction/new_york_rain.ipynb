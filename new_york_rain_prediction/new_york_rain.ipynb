{
 "cells": [
  {
   "cell_type": "markdown",
   "metadata": {},
   "source": [
    "# Interview Question:\n",
    "## Tomorrow’s Rain Forecast for New York<br>\n",
    "The Historical Hourly Weather Data 2012-2017 on Kaggle contains 5 years of hourly measurements of various weather attributes, such as temperature, humidity, air pressure, etc. The data are available to download from Kaggle at the following link:<br>\n",
    "https://www.kaggle.com/selfishgene/historical-hourly-weather-data<br>\n",
    "### Task: \n",
    "<br>Given historical weather data, can you predict whether tomorrow will be rainy in New York? Any weather description that is a form of liquid precipitation is considered rainy, such as those containing keywords “rain”, “thunderstorm”, “drizzle”, etc. You have flexibility in defining “rainy\" and “tomorrow” (e.g. next 24 hours from current hour); no matter what your definitions are, please make them clear in the report.\n",
    "In the open-ended quiz, please make sure you address the following questions:\n",
    "- Define metrics to evaluate algorithm performance\n",
    "- What are your training, validation, and testing sets?\n",
    "- Implement a simple baseline\n",
    "- Compare the performance of one more algorithm to the baseline\n",
    "- At least one algorithm should use a machine-learning/deep-learning approach"
   ]
  },
  {
   "cell_type": "markdown",
   "metadata": {},
   "source": [
    "### Tina's Comments:<br>\n",
    "This version of notebook is my first trial. In this trial, I will try to do hourly rain prediction. The hourly resolution and info of the raw data might be useful for the end task.\n",
    "\n",
    "Thus, the target would be a sequence of size 24 (Rain: 0 or 1). This means any next 24 hours is considered as \"tomorrow\". I do not intend to split \"today\" and \"tomorrow\" by wall clock midnight. <br>\n",
    "I'm going to stick with the definition of rainy in the problem statement, any weather contains \"rain\", \"thunderstorm\", or \"drizzle\" is considered as rainy.\n",
    "<br><br>\n",
    "This is a Multivariate Multi-step Time Series prediction problem. I will approach this problem with different flavors of sequence models and frame this as a supervised learning problem."
   ]
  },
  {
   "cell_type": "code",
   "execution_count": 166,
   "metadata": {
    "collapsed": false
   },
   "outputs": [],
   "source": [
    "import os\n",
    "import numpy as np\n",
    "import matplotlib.pyplot as plt\n",
    "import pandas as pd\n",
    "import sklearn\n",
    "import tensorflow as tf\n",
    "from tensorflow.keras.layers import Dense, LSTM, Bidirectional, Flatten, TimeDistributed, Conv1D, MaxPool1D\n",
    "from itertools import product\n",
    "from math import sqrt\n",
    "from warnings import catch_warnings\n",
    "from warnings import filterwarnings\n",
    "from statsmodels.tsa.statespace.sarimax import SARIMAX\n",
    "from sklearn.metrics import mean_squared_error\n",
    "import seaborn as sns\n",
    "from sklearn import preprocessing\n",
    "from sklearn.model_selection import train_test_split\n",
    "from sklearn import metrics\n",
    "%matplotlib inline"
   ]
  },
  {
   "cell_type": "code",
   "execution_count": 167,
   "metadata": {
    "collapsed": true
   },
   "outputs": [],
   "source": [
    "def extract_new_york_info(data_file,column_name,city):\n",
    "    df=pd.read_csv(data_file)\n",
    "    ny_df=df[['datetime',city]]\n",
    "    ny_df.rename(columns={city:column_name}, inplace=True)\n",
    "    ny_df.set_index('datetime',inplace=True)\n",
    "    return ny_df"
   ]
  },
  {
   "cell_type": "code",
   "execution_count": 168,
   "metadata": {
    "collapsed": true
   },
   "outputs": [],
   "source": [
    "def create_city_dataset(dataset_dir, city):\n",
    "    data_files = os.listdir(dataset_dir)\n",
    "    if 'city_attributes.csv' in data_files: data_files.remove('city_attributes.csv') # do not need it for now\n",
    "    column_names = [x.replace('.csv','') for x in data_files]\n",
    "#     print(column_names)\n",
    "    dfs=[]\n",
    "    for i in range(len(data_files)):\n",
    "        df = extract_new_york_info(os.path.join(dataset_dir,data_files[i]),column_names[i],city)\n",
    "        dfs.append(df)\n",
    "#     print(len(dfs))\n",
    "    ny_df = pd.concat(dfs, axis=1) # We are lucky here because dataset has no missing datetime index across files\n",
    "    return ny_df"
   ]
  },
  {
   "cell_type": "markdown",
   "metadata": {},
   "source": [
    "### Step 1: Load and Clean Data"
   ]
  },
  {
   "cell_type": "code",
   "execution_count": 170,
   "metadata": {
    "collapsed": false
   },
   "outputs": [
    {
     "name": "stderr",
     "output_type": "stream",
     "text": [
      "/usr/local/lib/python3.6/site-packages/pandas/core/frame.py:3027: SettingWithCopyWarning: \n",
      "A value is trying to be set on a copy of a slice from a DataFrame\n",
      "\n",
      "See the caveats in the documentation: http://pandas.pydata.org/pandas-docs/stable/indexing.html#indexing-view-versus-copy\n",
      "  return super(DataFrame, self).rename(**kwargs)\n"
     ]
    },
    {
     "data": {
      "text/html": [
       "<div>\n",
       "<style scoped>\n",
       "    .dataframe tbody tr th:only-of-type {\n",
       "        vertical-align: middle;\n",
       "    }\n",
       "\n",
       "    .dataframe tbody tr th {\n",
       "        vertical-align: top;\n",
       "    }\n",
       "\n",
       "    .dataframe thead th {\n",
       "        text-align: right;\n",
       "    }\n",
       "</style>\n",
       "<table border=\"1\" class=\"dataframe\">\n",
       "  <thead>\n",
       "    <tr style=\"text-align: right;\">\n",
       "      <th></th>\n",
       "      <th>weather_description</th>\n",
       "      <th>humidity</th>\n",
       "      <th>wind_direction</th>\n",
       "      <th>temperature</th>\n",
       "      <th>pressure</th>\n",
       "      <th>wind_speed</th>\n",
       "    </tr>\n",
       "    <tr>\n",
       "      <th>datetime</th>\n",
       "      <th></th>\n",
       "      <th></th>\n",
       "      <th></th>\n",
       "      <th></th>\n",
       "      <th></th>\n",
       "      <th></th>\n",
       "    </tr>\n",
       "  </thead>\n",
       "  <tbody>\n",
       "    <tr>\n",
       "      <th>2012-10-01 12:00:00</th>\n",
       "      <td>NaN</td>\n",
       "      <td>NaN</td>\n",
       "      <td>NaN</td>\n",
       "      <td>NaN</td>\n",
       "      <td>NaN</td>\n",
       "      <td>NaN</td>\n",
       "    </tr>\n",
       "    <tr>\n",
       "      <th>2012-10-01 13:00:00</th>\n",
       "      <td>few clouds</td>\n",
       "      <td>58.0</td>\n",
       "      <td>260.0</td>\n",
       "      <td>288.220000</td>\n",
       "      <td>1012.0</td>\n",
       "      <td>7.0</td>\n",
       "    </tr>\n",
       "    <tr>\n",
       "      <th>2012-10-01 14:00:00</th>\n",
       "      <td>few clouds</td>\n",
       "      <td>57.0</td>\n",
       "      <td>260.0</td>\n",
       "      <td>288.247676</td>\n",
       "      <td>1012.0</td>\n",
       "      <td>7.0</td>\n",
       "    </tr>\n",
       "    <tr>\n",
       "      <th>2012-10-01 15:00:00</th>\n",
       "      <td>few clouds</td>\n",
       "      <td>57.0</td>\n",
       "      <td>260.0</td>\n",
       "      <td>288.326940</td>\n",
       "      <td>1012.0</td>\n",
       "      <td>7.0</td>\n",
       "    </tr>\n",
       "    <tr>\n",
       "      <th>2012-10-01 16:00:00</th>\n",
       "      <td>few clouds</td>\n",
       "      <td>57.0</td>\n",
       "      <td>260.0</td>\n",
       "      <td>288.406203</td>\n",
       "      <td>1012.0</td>\n",
       "      <td>7.0</td>\n",
       "    </tr>\n",
       "  </tbody>\n",
       "</table>\n",
       "</div>"
      ],
      "text/plain": [
       "                    weather_description  humidity  wind_direction  \\\n",
       "datetime                                                            \n",
       "2012-10-01 12:00:00                 NaN       NaN             NaN   \n",
       "2012-10-01 13:00:00          few clouds      58.0           260.0   \n",
       "2012-10-01 14:00:00          few clouds      57.0           260.0   \n",
       "2012-10-01 15:00:00          few clouds      57.0           260.0   \n",
       "2012-10-01 16:00:00          few clouds      57.0           260.0   \n",
       "\n",
       "                     temperature  pressure  wind_speed  \n",
       "datetime                                                \n",
       "2012-10-01 12:00:00          NaN       NaN         NaN  \n",
       "2012-10-01 13:00:00   288.220000    1012.0         7.0  \n",
       "2012-10-01 14:00:00   288.247676    1012.0         7.0  \n",
       "2012-10-01 15:00:00   288.326940    1012.0         7.0  \n",
       "2012-10-01 16:00:00   288.406203    1012.0         7.0  "
      ]
     },
     "execution_count": 170,
     "metadata": {},
     "output_type": "execute_result"
    }
   ],
   "source": [
    "dataset_dir = 'historical-hourly-weather-data'\n",
    "city='New York'\n",
    "ny_df=create_city_dataset(dataset_dir, city)\n",
    "ny_df.head()"
   ]
  },
  {
   "cell_type": "code",
   "execution_count": 5,
   "metadata": {
    "collapsed": false
   },
   "outputs": [
    {
     "data": {
      "text/plain": [
       "weather_description     793\n",
       "humidity               1624\n",
       "wind_direction          793\n",
       "temperature             793\n",
       "pressure               1041\n",
       "wind_speed              793\n",
       "dtype: int64"
      ]
     },
     "execution_count": 5,
     "metadata": {},
     "output_type": "execute_result"
    }
   ],
   "source": [
    "# check if there is any invalid field in the dataset\n",
    "ny_df.isnull().sum()"
   ]
  },
  {
   "cell_type": "markdown",
   "metadata": {},
   "source": [
    "For humidity, wind_direction, temperature, pressure, and wind_speed, since all the data samples are collected hourly. I think it is reasonble to fill in the missing data with its previous valid record."
   ]
  },
  {
   "cell_type": "code",
   "execution_count": 6,
   "metadata": {
    "collapsed": false
   },
   "outputs": [
    {
     "data": {
      "text/plain": [
       "weather_description    0\n",
       "humidity               0\n",
       "wind_direction         0\n",
       "temperature            0\n",
       "pressure               0\n",
       "wind_speed             0\n",
       "dtype: int64"
      ]
     },
     "execution_count": 6,
     "metadata": {},
     "output_type": "execute_result"
    }
   ],
   "source": [
    "# Fill in missing values\n",
    "ny_df['weather_description'].fillna('None', axis=0, inplace=True)\n",
    "ny_df.fillna(method='ffill', axis=0, inplace=True)\n",
    "ny_df.fillna(method='bfill', axis=0, inplace=True)\n",
    "ny_df.isnull().sum()"
   ]
  },
  {
   "cell_type": "markdown",
   "metadata": {},
   "source": [
    "#### Now add another column with rain / no rain  label inferred from weather description column,"
   ]
  },
  {
   "cell_type": "code",
   "execution_count": 7,
   "metadata": {
    "collapsed": true
   },
   "outputs": [],
   "source": [
    "def is_rainny(value):\n",
    "    keywords = ['rain','thunderstorm', 'drizzle'] # will label all instances containing these keywords as \"rain\", otherwise \"no rain\"\n",
    "    for x in keywords:\n",
    "        if x in value:\n",
    "            return 1\n",
    "    return 0"
   ]
  },
  {
   "cell_type": "code",
   "execution_count": 8,
   "metadata": {
    "collapsed": false
   },
   "outputs": [
    {
     "data": {
      "text/html": [
       "<div>\n",
       "<style scoped>\n",
       "    .dataframe tbody tr th:only-of-type {\n",
       "        vertical-align: middle;\n",
       "    }\n",
       "\n",
       "    .dataframe tbody tr th {\n",
       "        vertical-align: top;\n",
       "    }\n",
       "\n",
       "    .dataframe thead th {\n",
       "        text-align: right;\n",
       "    }\n",
       "</style>\n",
       "<table border=\"1\" class=\"dataframe\">\n",
       "  <thead>\n",
       "    <tr style=\"text-align: right;\">\n",
       "      <th></th>\n",
       "      <th>weather_description</th>\n",
       "      <th>humidity</th>\n",
       "      <th>wind_direction</th>\n",
       "      <th>temperature</th>\n",
       "      <th>pressure</th>\n",
       "      <th>wind_speed</th>\n",
       "      <th>rainny</th>\n",
       "    </tr>\n",
       "    <tr>\n",
       "      <th>datetime</th>\n",
       "      <th></th>\n",
       "      <th></th>\n",
       "      <th></th>\n",
       "      <th></th>\n",
       "      <th></th>\n",
       "      <th></th>\n",
       "      <th></th>\n",
       "    </tr>\n",
       "  </thead>\n",
       "  <tbody>\n",
       "    <tr>\n",
       "      <th>2017-11-29 20:00:00</th>\n",
       "      <td>None</td>\n",
       "      <td>58.0</td>\n",
       "      <td>0.0</td>\n",
       "      <td>284.98</td>\n",
       "      <td>1020.0</td>\n",
       "      <td>2.0</td>\n",
       "      <td>0</td>\n",
       "    </tr>\n",
       "    <tr>\n",
       "      <th>2017-11-29 21:00:00</th>\n",
       "      <td>None</td>\n",
       "      <td>58.0</td>\n",
       "      <td>0.0</td>\n",
       "      <td>284.98</td>\n",
       "      <td>1020.0</td>\n",
       "      <td>2.0</td>\n",
       "      <td>0</td>\n",
       "    </tr>\n",
       "    <tr>\n",
       "      <th>2017-11-29 22:00:00</th>\n",
       "      <td>None</td>\n",
       "      <td>58.0</td>\n",
       "      <td>0.0</td>\n",
       "      <td>284.98</td>\n",
       "      <td>1020.0</td>\n",
       "      <td>2.0</td>\n",
       "      <td>0</td>\n",
       "    </tr>\n",
       "    <tr>\n",
       "      <th>2017-11-29 23:00:00</th>\n",
       "      <td>None</td>\n",
       "      <td>58.0</td>\n",
       "      <td>0.0</td>\n",
       "      <td>284.98</td>\n",
       "      <td>1020.0</td>\n",
       "      <td>2.0</td>\n",
       "      <td>0</td>\n",
       "    </tr>\n",
       "    <tr>\n",
       "      <th>2017-11-30 00:00:00</th>\n",
       "      <td>None</td>\n",
       "      <td>58.0</td>\n",
       "      <td>0.0</td>\n",
       "      <td>284.98</td>\n",
       "      <td>1020.0</td>\n",
       "      <td>2.0</td>\n",
       "      <td>0</td>\n",
       "    </tr>\n",
       "  </tbody>\n",
       "</table>\n",
       "</div>"
      ],
      "text/plain": [
       "                    weather_description  humidity  wind_direction  \\\n",
       "datetime                                                            \n",
       "2017-11-29 20:00:00                None      58.0             0.0   \n",
       "2017-11-29 21:00:00                None      58.0             0.0   \n",
       "2017-11-29 22:00:00                None      58.0             0.0   \n",
       "2017-11-29 23:00:00                None      58.0             0.0   \n",
       "2017-11-30 00:00:00                None      58.0             0.0   \n",
       "\n",
       "                     temperature  pressure  wind_speed  rainny  \n",
       "datetime                                                        \n",
       "2017-11-29 20:00:00       284.98    1020.0         2.0       0  \n",
       "2017-11-29 21:00:00       284.98    1020.0         2.0       0  \n",
       "2017-11-29 22:00:00       284.98    1020.0         2.0       0  \n",
       "2017-11-29 23:00:00       284.98    1020.0         2.0       0  \n",
       "2017-11-30 00:00:00       284.98    1020.0         2.0       0  "
      ]
     },
     "execution_count": 8,
     "metadata": {},
     "output_type": "execute_result"
    }
   ],
   "source": [
    "ny_df['rainny']=ny_df['weather_description'].apply(is_rainny)\n",
    "ny_df.tail()"
   ]
  },
  {
   "cell_type": "code",
   "execution_count": 10,
   "metadata": {
    "collapsed": false
   },
   "outputs": [],
   "source": [
    "# drop weather description\n",
    "cleaned_ny_df = ny_df[['humidity','temperature','pressure','wind_direction','wind_speed','rainny']]"
   ]
  },
  {
   "cell_type": "markdown",
   "metadata": {},
   "source": [
    "### Step 2: Explore the data and select features"
   ]
  },
  {
   "cell_type": "markdown",
   "metadata": {},
   "source": [
    "Let's explore the data a bit more to see what variables may have bigger impact on rain conditions.\n",
    "I'm going to exam the existing 5 features. But there may be some additional features we can extract to help on the prediction task.\n",
    "From common sense, rain or not should have nothing to do with a specific day. But I suspect it may have some correlation with:<br>\n",
    "- month\n",
    "- time (hour) of the day\n",
    "- humidity diff\n",
    "- temperature diff\n",
    "- pressure diff\n",
    "- wind direction change\n",
    "- etc.\n",
    "<br><br>Let's add more features."
   ]
  },
  {
   "cell_type": "code",
   "execution_count": 11,
   "metadata": {
    "collapsed": false
   },
   "outputs": [
    {
     "name": "stderr",
     "output_type": "stream",
     "text": [
      "/usr/local/lib/python3.6/site-packages/ipykernel_launcher.py:2: SettingWithCopyWarning: \n",
      "A value is trying to be set on a copy of a slice from a DataFrame.\n",
      "Try using .loc[row_indexer,col_indexer] = value instead\n",
      "\n",
      "See the caveats in the documentation: http://pandas.pydata.org/pandas-docs/stable/indexing.html#indexing-view-versus-copy\n",
      "  \n",
      "/usr/local/lib/python3.6/site-packages/ipykernel_launcher.py:3: SettingWithCopyWarning: \n",
      "A value is trying to be set on a copy of a slice from a DataFrame.\n",
      "Try using .loc[row_indexer,col_indexer] = value instead\n",
      "\n",
      "See the caveats in the documentation: http://pandas.pydata.org/pandas-docs/stable/indexing.html#indexing-view-versus-copy\n",
      "  This is separate from the ipykernel package so we can avoid doing imports until\n",
      "/usr/local/lib/python3.6/site-packages/ipykernel_launcher.py:4: SettingWithCopyWarning: \n",
      "A value is trying to be set on a copy of a slice from a DataFrame.\n",
      "Try using .loc[row_indexer,col_indexer] = value instead\n",
      "\n",
      "See the caveats in the documentation: http://pandas.pydata.org/pandas-docs/stable/indexing.html#indexing-view-versus-copy\n",
      "  after removing the cwd from sys.path.\n",
      "/usr/local/lib/python3.6/site-packages/ipykernel_launcher.py:5: SettingWithCopyWarning: \n",
      "A value is trying to be set on a copy of a slice from a DataFrame.\n",
      "Try using .loc[row_indexer,col_indexer] = value instead\n",
      "\n",
      "See the caveats in the documentation: http://pandas.pydata.org/pandas-docs/stable/indexing.html#indexing-view-versus-copy\n",
      "  \"\"\"\n",
      "/usr/local/lib/python3.6/site-packages/ipykernel_launcher.py:6: SettingWithCopyWarning: \n",
      "A value is trying to be set on a copy of a slice from a DataFrame.\n",
      "Try using .loc[row_indexer,col_indexer] = value instead\n",
      "\n",
      "See the caveats in the documentation: http://pandas.pydata.org/pandas-docs/stable/indexing.html#indexing-view-versus-copy\n",
      "  \n",
      "/usr/local/lib/python3.6/site-packages/ipykernel_launcher.py:7: SettingWithCopyWarning: \n",
      "A value is trying to be set on a copy of a slice from a DataFrame.\n",
      "Try using .loc[row_indexer,col_indexer] = value instead\n",
      "\n",
      "See the caveats in the documentation: http://pandas.pydata.org/pandas-docs/stable/indexing.html#indexing-view-versus-copy\n",
      "  import sys\n",
      "/usr/local/lib/python3.6/site-packages/ipykernel_launcher.py:8: SettingWithCopyWarning: \n",
      "A value is trying to be set on a copy of a slice from a DataFrame.\n",
      "Try using .loc[row_indexer,col_indexer] = value instead\n",
      "\n",
      "See the caveats in the documentation: http://pandas.pydata.org/pandas-docs/stable/indexing.html#indexing-view-versus-copy\n",
      "  \n",
      "/usr/local/lib/python3.6/site-packages/pandas/core/frame.py:3035: SettingWithCopyWarning: \n",
      "A value is trying to be set on a copy of a slice from a DataFrame\n",
      "\n",
      "See the caveats in the documentation: http://pandas.pydata.org/pandas-docs/stable/indexing.html#indexing-view-versus-copy\n",
      "  downcast=downcast, **kwargs)\n"
     ]
    }
   ],
   "source": [
    "# Generate more feature columns\n",
    "cleaned_ny_df['humidity_diff']=cleaned_ny_df['humidity'].diff()\n",
    "cleaned_ny_df['temperature_diff']=cleaned_ny_df['temperature'].diff()\n",
    "cleaned_ny_df['pressure_diff']=cleaned_ny_df['pressure'].diff()\n",
    "cleaned_ny_df['wind_direction_diff']=cleaned_ny_df['wind_direction'].diff()\n",
    "cleaned_ny_df['wind_speed_diff']=cleaned_ny_df['wind_speed'].diff()\n",
    "cleaned_ny_df['month']=pd.to_datetime(cleaned_ny_df.index).month\n",
    "cleaned_ny_df['hour']=pd.to_datetime(cleaned_ny_df.index).hour\n",
    "cleaned_ny_df.fillna(0., inplace=True)"
   ]
  },
  {
   "cell_type": "code",
   "execution_count": 12,
   "metadata": {
    "collapsed": false
   },
   "outputs": [
    {
     "data": {
      "image/png": "[encoded data removed]",
      "text/plain": [
       "<Figure size 432x288 with 1 Axes>"
      ]
     },
     "metadata": {
      "needs_background": "light"
     },
     "output_type": "display_data"
    }
   ],
   "source": [
    "ax_h = sns.boxplot(x=\"rainny\", y=\"humidity\", data=cleaned_ny_df)"
   ]
  },
  {
   "cell_type": "code",
   "execution_count": null,
   "metadata": {
    "collapsed": false
   },
   "outputs": [],
   "source": [
    "ax_t = sns.boxplot(x=\"rainny\", y=\"temperature\", data=cleaned_ny_df)"
   ]
  },
  {
   "cell_type": "code",
   "execution_count": null,
   "metadata": {
    "collapsed": false
   },
   "outputs": [],
   "source": [
    "ax_wd = sns.boxplot(x=\"rainny\", y=\"wind_direction\", data=cleaned_ny_df)"
   ]
  },
  {
   "cell_type": "code",
   "execution_count": null,
   "metadata": {
    "collapsed": false
   },
   "outputs": [],
   "source": [
    "ax_p = sns.boxplot(x=\"rainny\", y=\"pressure\", data=cleaned_ny_df)"
   ]
  },
  {
   "cell_type": "code",
   "execution_count": null,
   "metadata": {
    "collapsed": false
   },
   "outputs": [],
   "source": [
    "ax_ws = sns.boxplot(x=\"rainny\", y=\"wind_speed\", data=cleaned_ny_df)"
   ]
  },
  {
   "cell_type": "code",
   "execution_count": null,
   "metadata": {
    "collapsed": false
   },
   "outputs": [],
   "source": [
    "ax_m = sns.boxplot(x=\"rainny\", y=\"month\", data=cleaned_ny_df)"
   ]
  },
  {
   "cell_type": "code",
   "execution_count": null,
   "metadata": {
    "collapsed": false
   },
   "outputs": [],
   "source": [
    "ax_m = sns.boxplot(x=\"rainny\", y=\"hour\", data=cleaned_ny_df)"
   ]
  },
  {
   "cell_type": "code",
   "execution_count": null,
   "metadata": {
    "collapsed": false
   },
   "outputs": [],
   "source": [
    "ax_wsd = sns.boxplot(x=\"rainny\", y=\"wind_speed_diff\", data=cleaned_ny_df)"
   ]
  },
  {
   "cell_type": "code",
   "execution_count": null,
   "metadata": {
    "collapsed": false
   },
   "outputs": [],
   "source": [
    "ax_wdd = sns.boxplot(x=\"rainny\", y=\"wind_direction_diff\", data=cleaned_ny_df)"
   ]
  },
  {
   "cell_type": "code",
   "execution_count": null,
   "metadata": {
    "collapsed": false
   },
   "outputs": [],
   "source": [
    "ax_td = sns.boxplot(x=\"rainny\", y=\"temperature_diff\", data=cleaned_ny_df)"
   ]
  },
  {
   "cell_type": "code",
   "execution_count": null,
   "metadata": {
    "collapsed": false
   },
   "outputs": [],
   "source": [
    "ax_pd = sns.boxplot(x=\"rainny\", y=\"pressure_diff\", data=cleaned_ny_df)"
   ]
  },
  {
   "cell_type": "code",
   "execution_count": null,
   "metadata": {
    "collapsed": false
   },
   "outputs": [],
   "source": [
    "ax_hd = sns.boxplot(x=\"rainny\", y=\"humidity_diff\", data=cleaned_ny_df)"
   ]
  },
  {
   "cell_type": "markdown",
   "metadata": {},
   "source": [
    "From all the above plots, we can tell that rain or not have big correlation with:\n",
    "- humidity<br>\n",
    "Maybe some correlation with:\n",
    "- temperature\n",
    "- wind direction\n",
    "- wind speed\n",
    "- month<br>\n",
    "Not much to do with:\n",
    "- pressure \n",
    "- hour\n",
    "- all the hourly diff values <br>\n",
    "<br>\n",
    "So Let's pick humidity, temperature, wind_direction, wind_speed, and month as features for the model."
   ]
  },
  {
   "cell_type": "code",
   "execution_count": 119,
   "metadata": {
    "collapsed": false
   },
   "outputs": [
    {
     "name": "stdout",
     "output_type": "stream",
     "text": [
      "(45253, 6)\n",
      "(45253,)\n"
     ]
    }
   ],
   "source": [
    "X = cleaned_ny_df[['humidity', 'temperature', 'wind_direction', 'wind_speed', 'month','rainny']].values# can potentially add rainny label as another feature\n",
    "y = cleaned_ny_df['rainny'].values\n",
    "\n",
    "print(X.shape)\n",
    "print(y.shape)"
   ]
  },
  {
   "cell_type": "code",
   "execution_count": 120,
   "metadata": {
    "collapsed": true
   },
   "outputs": [],
   "source": [
    "# generated windowed sequence inputs with [# timestep, # features]\n",
    "def generate_sequence_data(ts_x, ts_y, input_step, output_step):\n",
    "    inputs=[]\n",
    "    outputs=[]\n",
    "    for i in range(len(ts_x)-input_step-output_step):\n",
    "        sample=ts_x[i:i+input_step]\n",
    "        label=ts_y[i+input_step:i+input_step+output_step]\n",
    "        inputs.append(sample)\n",
    "        outputs.append(label)\n",
    "    return np.array(inputs), np.array(outputs)"
   ]
  },
  {
   "cell_type": "code",
   "execution_count": 121,
   "metadata": {
    "collapsed": false
   },
   "outputs": [
    {
     "name": "stdout",
     "output_type": "stream",
     "text": [
      "(44509, 720, 6)\n",
      "(44509, 24)\n"
     ]
    }
   ],
   "source": [
    "input_step=30*24 # past N days as input\n",
    "output_step=24 # next 24 hour forecast\n",
    "sequence_inputs,sequence_labels = generate_sequence_data(X,y,input_step,output_step)\n",
    "print(sequence_inputs.shape)\n",
    "print(sequence_labels.shape)"
   ]
  },
  {
   "cell_type": "code",
   "execution_count": 122,
   "metadata": {
    "collapsed": false
   },
   "outputs": [
    {
     "name": "stdout",
     "output_type": "stream",
     "text": [
      "(34049, 720, 6)\n",
      "(34049, 24)\n",
      "(6009, 720, 6)\n",
      "(6009, 24)\n",
      "(4451, 720, 6)\n",
      "(4451, 24)\n"
     ]
    }
   ],
   "source": [
    "Xtrain, Xtest, ytrain, ytest = train_test_split(sequence_inputs, sequence_labels, test_size=0.1)\n",
    "Xtrain, Xval, ytrain, yval = train_test_split(Xtrain, ytrain, test_size=0.15)\n",
    "print(Xtrain.shape)\n",
    "print(ytrain.shape)\n",
    "print(Xval.shape)\n",
    "print(yval.shape)\n",
    "print(Xtest.shape)\n",
    "print(ytest.shape)"
   ]
  },
  {
   "cell_type": "code",
   "execution_count": 123,
   "metadata": {
    "collapsed": false
   },
   "outputs": [],
   "source": [
    "def scale_features(start, end, source, target):\n",
    "#     print(target.shape)\n",
    "    feature_min = np.min(source[start:end], axis=0)\n",
    "    feature_max = np.max(source[start:end], axis=0)\n",
    "    denom_factor=np.subtract(feature_max,feature_min)\n",
    "#     print(feature_max)\n",
    "#     print(feature_min)\n",
    "#     print(denom_factor)\n",
    "    results = np.array([np.divide(np.subtract(x,feature_min),denom_factor) for x in target])\n",
    "#     print(results.shape)\n",
    "    return results\n",
    "# scale_features(34049, 34049+6009, X, Xval)"
   ]
  },
  {
   "cell_type": "code",
   "execution_count": 124,
   "metadata": {
    "collapsed": true
   },
   "outputs": [],
   "source": [
    "Xtrain_scaled = scale_features(0, Xtrain.shape[0], X, Xtrain)\n",
    "Xval_scaled = scale_features(Xtrain.shape[0], Xtrain.shape[0]+Xval.shape[0], X, Xval)\n",
    "Xtest_scaled = scale_features(Xtrain.shape[0]+Xval.shape[0], len(X), X, Xtest)"
   ]
  },
  {
   "cell_type": "code",
   "execution_count": 125,
   "metadata": {
    "collapsed": true
   },
   "outputs": [],
   "source": [
    "def plot_loss_history(history, start=None, end=None):\n",
    "    if start == None: start=1\n",
    "    if end == None: end=len(history.history['loss'])\n",
    "    assert start<end\n",
    "    assert end<=len(history.history['loss'])\n",
    "    # Get training and test loss histories\n",
    "    training_loss = history.history['loss'][start:end]\n",
    "    test_loss = history.history['val_loss'][start:end]\n",
    "\n",
    "    # Create count of the number of epochs\n",
    "    epoch_count = range(start, end)\n",
    "\n",
    "    # Visualize loss history\n",
    "    plt.plot(epoch_count, training_loss, 'r--')\n",
    "    plt.plot(epoch_count, test_loss, 'b-')\n",
    "    plt.legend(['Training Loss', 'Validation Loss'])\n",
    "    plt.xlabel('Epoch')\n",
    "    plt.ylabel('Loss')\n",
    "    plt.show();"
   ]
  },
  {
   "cell_type": "markdown",
   "metadata": {},
   "source": [
    "### Step 3: Generate dataset for supervised learning purpose\n",
    "#### 3.1 Simple Baseline\n",
    "- just simple 1D CNN + Classifier layer"
   ]
  },
  {
   "cell_type": "code",
   "execution_count": 129,
   "metadata": {
    "collapsed": false,
    "scrolled": true
   },
   "outputs": [
    {
     "name": "stdout",
     "output_type": "stream",
     "text": [
      "Model: \"sequential_25\"\n",
      "_________________________________________________________________\n",
      "Layer (type)                 Output Shape              Param #   \n",
      "=================================================================\n",
      "conv1d_22 (Conv1D)           (None, 718, 64)           1216      \n",
      "_________________________________________________________________\n",
      "max_pooling1d_21 (MaxPooling (None, 179, 64)           0         \n",
      "_________________________________________________________________\n",
      "flatten_17 (Flatten)         (None, 11456)             0         \n",
      "_________________________________________________________________\n",
      "dense_24 (Dense)             (None, 50)                572850    \n",
      "_________________________________________________________________\n",
      "dense_25 (Dense)             (None, 24)                1224      \n",
      "=================================================================\n",
      "Total params: 575,290\n",
      "Trainable params: 575,290\n",
      "Non-trainable params: 0\n",
      "_________________________________________________________________\n"
     ]
    }
   ],
   "source": [
    "# define model\n",
    "cnn_model = tf.keras.Sequential()\n",
    "cnn_model.add(Conv1D(filters=64, kernel_size=3, activation='relu', input_shape=(Xtrain_scaled.shape[1], Xtrain_scaled.shape[2])))\n",
    "cnn_model.add(MaxPool1D(pool_size=4))\n",
    "cnn_model.add(Flatten())\n",
    "cnn_model.add(Dense(50, activation='relu'))\n",
    "cnn_model.add(Dense(output_step,activation='sigmoid'))\n",
    "cnn_model.compile(optimizer='adam', loss='binary_crossentropy', metrics=['accuracy'])\n",
    "cnn_model.summary()"
   ]
  },
  {
   "cell_type": "markdown",
   "metadata": {},
   "source": [
    "Since train and validation losses may fluctuate over the number of epochs, we may have achieved at best model before end of training.<br> So it is best practice to save the best model in the middle of the training. I'm adding a callback during training to only save based on the lowest validation loss."
   ]
  },
  {
   "cell_type": "code",
   "execution_count": 130,
   "metadata": {
    "collapsed": false
   },
   "outputs": [],
   "source": [
    "saved_model_path=os.path.join(os.getcwd(),'CNN.hdf5')\n",
    "model_checkpoint_callback = tf.keras.callbacks.ModelCheckpoint(\n",
    "        filepath=saved_model_path,\n",
    "        save_best_only=True,\n",
    "        monitor='val_loss',\n",
    "        save_weights_only=True,\n",
    "        verbose=1\n",
    "    )"
   ]
  },
  {
   "cell_type": "code",
   "execution_count": 131,
   "metadata": {
    "collapsed": false
   },
   "outputs": [
    {
     "name": "stdout",
     "output_type": "stream",
     "text": [
      "Train on 34049 samples, validate on 6009 samples\n",
      "Epoch 1/20\n",
      "33952/34049 [============================>.] - ETA: 0s - loss: 0.3736 - accuracy: 0.8593\n",
      "Epoch 00001: val_loss improved from inf to 0.37229, saving model to /Users/tinawang/ml_experiments/new_york_rain_prediction/CNN.hdf5\n",
      "34049/34049 [==============================] - 19s 550us/sample - loss: 0.3733 - accuracy: 0.8594 - val_loss: 0.3723 - val_accuracy: 0.8603\n",
      "Epoch 2/20\n",
      "33984/34049 [============================>.] - ETA: 0s - loss: 0.3333 - accuracy: 0.8656\n",
      "Epoch 00002: val_loss improved from 0.37229 to 0.32613, saving model to /Users/tinawang/ml_experiments/new_york_rain_prediction/CNN.hdf5\n",
      "34049/34049 [==============================] - 17s 506us/sample - loss: 0.3335 - accuracy: 0.8656 - val_loss: 0.3261 - val_accuracy: 0.8688\n",
      "Epoch 3/20\n",
      "34016/34049 [============================>.] - ETA: 0s - loss: 0.3026 - accuracy: 0.8761\n",
      "Epoch 00003: val_loss improved from 0.32613 to 0.31731, saving model to /Users/tinawang/ml_experiments/new_york_rain_prediction/CNN.hdf5\n",
      "34049/34049 [==============================] - 18s 543us/sample - loss: 0.3026 - accuracy: 0.8761 - val_loss: 0.3173 - val_accuracy: 0.8730\n",
      "Epoch 4/20\n",
      "33952/34049 [============================>.] - ETA: 0s - loss: 0.2727 - accuracy: 0.8898\n",
      "Epoch 00004: val_loss improved from 0.31731 to 0.28243, saving model to /Users/tinawang/ml_experiments/new_york_rain_prediction/CNN.hdf5\n",
      "34049/34049 [==============================] - 18s 529us/sample - loss: 0.2727 - accuracy: 0.8898 - val_loss: 0.2824 - val_accuracy: 0.8865\n",
      "Epoch 5/20\n",
      "33952/34049 [============================>.] - ETA: 0s - loss: 0.2468 - accuracy: 0.9012\n",
      "Epoch 00005: val_loss improved from 0.28243 to 0.27008, saving model to /Users/tinawang/ml_experiments/new_york_rain_prediction/CNN.hdf5\n",
      "34049/34049 [==============================] - 19s 555us/sample - loss: 0.2468 - accuracy: 0.9012 - val_loss: 0.2701 - val_accuracy: 0.8920\n",
      "Epoch 6/20\n",
      "34016/34049 [============================>.] - ETA: 0s - loss: 0.2264 - accuracy: 0.9093\n",
      "Epoch 00006: val_loss improved from 0.27008 to 0.25842, saving model to /Users/tinawang/ml_experiments/new_york_rain_prediction/CNN.hdf5\n",
      "34049/34049 [==============================] - 17s 496us/sample - loss: 0.2264 - accuracy: 0.9093 - val_loss: 0.2584 - val_accuracy: 0.8944\n",
      "Epoch 7/20\n",
      "34016/34049 [============================>.] - ETA: 0s - loss: 0.2101 - accuracy: 0.9147\n",
      "Epoch 00007: val_loss improved from 0.25842 to 0.24959, saving model to /Users/tinawang/ml_experiments/new_york_rain_prediction/CNN.hdf5\n",
      "34049/34049 [==============================] - 18s 521us/sample - loss: 0.2101 - accuracy: 0.9147 - val_loss: 0.2496 - val_accuracy: 0.8984\n",
      "Epoch 8/20\n",
      "34048/34049 [============================>.] - ETA: 0s - loss: 0.1981 - accuracy: 0.9182\n",
      "Epoch 00008: val_loss improved from 0.24959 to 0.24234, saving model to /Users/tinawang/ml_experiments/new_york_rain_prediction/CNN.hdf5\n",
      "34049/34049 [==============================] - 20s 583us/sample - loss: 0.1981 - accuracy: 0.9182 - val_loss: 0.2423 - val_accuracy: 0.9004\n",
      "Epoch 9/20\n",
      "33952/34049 [============================>.] - ETA: 0s - loss: 0.1886 - accuracy: 0.9213\n",
      "Epoch 00009: val_loss improved from 0.24234 to 0.23657, saving model to /Users/tinawang/ml_experiments/new_york_rain_prediction/CNN.hdf5\n",
      "34049/34049 [==============================] - 22s 651us/sample - loss: 0.1885 - accuracy: 0.9213 - val_loss: 0.2366 - val_accuracy: 0.9018\n",
      "Epoch 10/20\n",
      "34048/34049 [============================>.] - ETA: 0s - loss: 0.1811 - accuracy: 0.9238\n",
      "Epoch 00010: val_loss improved from 0.23657 to 0.23241, saving model to /Users/tinawang/ml_experiments/new_york_rain_prediction/CNN.hdf5\n",
      "34049/34049 [==============================] - 19s 572us/sample - loss: 0.1811 - accuracy: 0.9238 - val_loss: 0.2324 - val_accuracy: 0.9048\n",
      "Epoch 11/20\n",
      "34016/34049 [============================>.] - ETA: 0s - loss: 0.1747 - accuracy: 0.9256\n",
      "Epoch 00011: val_loss did not improve from 0.23241\n",
      "34049/34049 [==============================] - 20s 597us/sample - loss: 0.1746 - accuracy: 0.9256 - val_loss: 0.2354 - val_accuracy: 0.9023\n",
      "Epoch 12/20\n",
      "33984/34049 [============================>.] - ETA: 0s - loss: 0.1700 - accuracy: 0.9270\n",
      "Epoch 00012: val_loss did not improve from 0.23241\n",
      "34049/34049 [==============================] - 19s 567us/sample - loss: 0.1699 - accuracy: 0.9270 - val_loss: 0.2331 - val_accuracy: 0.9077\n",
      "Epoch 13/20\n",
      "34016/34049 [============================>.] - ETA: 0s - loss: 0.1656 - accuracy: 0.9285\n",
      "Epoch 00013: val_loss improved from 0.23241 to 0.22889, saving model to /Users/tinawang/ml_experiments/new_york_rain_prediction/CNN.hdf5\n",
      "34049/34049 [==============================] - 19s 569us/sample - loss: 0.1656 - accuracy: 0.9286 - val_loss: 0.2289 - val_accuracy: 0.9075\n",
      "Epoch 14/20\n",
      "34048/34049 [============================>.] - ETA: 0s - loss: 0.1616 - accuracy: 0.9299\n",
      "Epoch 00014: val_loss did not improve from 0.22889\n",
      "34049/34049 [==============================] - 19s 571us/sample - loss: 0.1617 - accuracy: 0.9299 - val_loss: 0.2322 - val_accuracy: 0.9052\n",
      "Epoch 15/20\n",
      "34048/34049 [============================>.] - ETA: 0s - loss: 0.1585 - accuracy: 0.9307\n",
      "Epoch 00015: val_loss did not improve from 0.22889\n",
      "34049/34049 [==============================] - 20s 586us/sample - loss: 0.1585 - accuracy: 0.9307 - val_loss: 0.2333 - val_accuracy: 0.9059\n",
      "Epoch 16/20\n",
      "34016/34049 [============================>.] - ETA: 0s - loss: 0.1560 - accuracy: 0.9315\n",
      "Epoch 00016: val_loss did not improve from 0.22889\n",
      "34049/34049 [==============================] - 23s 672us/sample - loss: 0.1559 - accuracy: 0.9315 - val_loss: 0.2309 - val_accuracy: 0.9057\n",
      "Epoch 17/20\n",
      "34048/34049 [============================>.] - ETA: 0s - loss: 0.1529 - accuracy: 0.9324\n",
      "Epoch 00017: val_loss improved from 0.22889 to 0.22863, saving model to /Users/tinawang/ml_experiments/new_york_rain_prediction/CNN.hdf5\n",
      "34049/34049 [==============================] - 21s 617us/sample - loss: 0.1529 - accuracy: 0.9324 - val_loss: 0.2286 - val_accuracy: 0.9049\n",
      "Epoch 18/20\n",
      "33952/34049 [============================>.] - ETA: 0s - loss: 0.1506 - accuracy: 0.9334\n",
      "Epoch 00018: val_loss did not improve from 0.22863\n",
      "34049/34049 [==============================] - 20s 579us/sample - loss: 0.1506 - accuracy: 0.9334 - val_loss: 0.2415 - val_accuracy: 0.8978\n",
      "Epoch 19/20\n",
      "33984/34049 [============================>.] - ETA: 0s - loss: 0.1501 - accuracy: 0.9334\n",
      "Epoch 00019: val_loss did not improve from 0.22863\n",
      "34049/34049 [==============================] - 20s 577us/sample - loss: 0.1502 - accuracy: 0.9334 - val_loss: 0.2345 - val_accuracy: 0.9060\n",
      "Epoch 20/20\n",
      "34048/34049 [============================>.] - ETA: 0s - loss: 0.1468 - accuracy: 0.9348\n",
      "Epoch 00020: val_loss did not improve from 0.22863\n",
      "34049/34049 [==============================] - 19s 560us/sample - loss: 0.1468 - accuracy: 0.9348 - val_loss: 0.2293 - val_accuracy: 0.9089\n"
     ]
    }
   ],
   "source": [
    "# lstm_model.set_weights(initial_weights)\n",
    "cnn_history = cnn_model.fit(Xtrain_scaled,ytrain, epochs=20, validation_data=(Xval_scaled,yval), shuffle=True, callbacks=[model_checkpoint_callback])"
   ]
  },
  {
   "cell_type": "code",
   "execution_count": 132,
   "metadata": {
    "collapsed": false
   },
   "outputs": [
    {
     "data": {
      "image/png": "[encoded data removed]",
      "text/plain": [
       "<Figure size 432x288 with 1 Axes>"
      ]
     },
     "metadata": {
      "needs_background": "light"
     },
     "output_type": "display_data"
    }
   ],
   "source": [
    "plot_loss_history(cnn_history)"
   ]
  },
  {
   "cell_type": "code",
   "execution_count": 44,
   "metadata": {
    "collapsed": false
   },
   "outputs": [],
   "source": [
    "def output_consumer(predictions,threshold):\n",
    "#     print(predictions.shape)\n",
    "    flattened_pred=np.array([x.ravel() for x in predictions])\n",
    "#     print(flattened_pred.shape)\n",
    "    results=[]\n",
    "    for pred in flattened_pred:\n",
    "        result = [0 if x<threshold else 1 for x in pred]\n",
    "        results.append(result)\n",
    "    return np.array(results)"
   ]
  },
  {
   "cell_type": "code",
   "execution_count": 133,
   "metadata": {
    "collapsed": false
   },
   "outputs": [],
   "source": [
    "# Now load the saved best model to use for inference\n",
    "cnn_model.load_weights(saved_model_path)\n",
    "predictions = cnn_model.predict(Xtest_scaled)\n",
    "# results = output_consumer(test_outputs,0.5)"
   ]
  },
  {
   "cell_type": "code",
   "execution_count": 60,
   "metadata": {
    "collapsed": false
   },
   "outputs": [],
   "source": [
    "def evaluate_performance(predictions, labels, assumption):\n",
    "    '''\n",
    "    Assumptions:\n",
    "    A - all 24 hours predictions need to match 1:1 with labels\n",
    "    B - allow certain window size for positive errors +/- hour error margin (predition is center of the window)\n",
    "    ex. \n",
    "    window_size = 3 condition:\n",
    "    prediction:  [0 0 1 0 0 0 0 0 0 0 0 1 0 0 1 0 0 0 0 0 0 0 0 0] ___ OK\n",
    "    labels:      [0 1 0 1 0 0 0 0 0 0 1 0 0 0 0 1 0 0 0 0 0 0 0 0]\n",
    "    prediction:  [0 0 1 0 0 0 0 0 0 0 0 1 0 0 0 0 0 0 0 0 0 0 0 0] ___ NOT OK\n",
    "    labels:      [0 0 0 0 1 0 0 0 0 0 0 0 0 0 0 0 0 0 0 0 0 0 0 0]\n",
    "\n",
    "    C - this is the loosest condition, as long as Union(all preditions) == Union(all labels), we are good\n",
    "    '''\n",
    "    threshold=0.5\n",
    "    results = output_consumer(predictions,threshold)\n",
    "#     print(results.shape)\n",
    "#     print(labels.shape)\n",
    "    assert results.shape == labels.shape\n",
    "    \n",
    "    if assumption == 'A':\n",
    "        comp=[]\n",
    "        for i in range(results.shape[0]):\n",
    "            ret=np.array_equal(results[i],labels[i])\n",
    "            comp.append(ret)\n",
    "        comp=np.array(comp).astype(int)\n",
    "#         print(comp)\n",
    "        return comp\n",
    "    elif assumption == 'B':\n",
    "        window_size=3 # hard coded here for now\n",
    "        pass\n",
    "    elif assumption == 'C':\n",
    "        comp=[]\n",
    "        for i in range(results.shape[0]):\n",
    "            gt=(sum(labels[i])>=1)\n",
    "            pred=(sum(results[i])>=1)\n",
    "            ret=(gt==pred)\n",
    "            comp.append(ret)\n",
    "        comp=np.array(comp).astype(int)\n",
    "        return comp\n",
    "        \n",
    "    else:\n",
    "        print('Not Implemented')\n",
    "    \n",
    "## TINA WRITE LOGICS FOR B HERE!!!!\n",
    "# comp=evaluate_performance(predictions, ytest, 'A')"
   ]
  },
  {
   "cell_type": "code",
   "execution_count": 138,
   "metadata": {
    "collapsed": false
   },
   "outputs": [
    {
     "name": "stdout",
     "output_type": "stream",
     "text": [
      "Total Test Set: 4451\n",
      " Number of all correct predictions for next 24 hours: 1520 Success Rate: 34.14962929678724%\n",
      "Total Test Set: 4451\n",
      " Any rain prediction overlap and all no rain prediction correct in next 24 hours: 3177 Success Rate: 71.37721860256121%\n"
     ]
    }
   ],
   "source": [
    "comp=evaluate_performance(predictions, ytest, 'A')\n",
    "print('Total Test Set: {}\\n Number of all correct predictions for next 24 hours: {} Success Rate: {}%'.format(len(comp),sum(comp),sum(comp)/len(comp)*100.))\n",
    "comp=evaluate_performance(predictions, ytest, 'C')\n",
    "print('Total Test Set: {}\\n Any rain prediction overlap and all no rain prediction correct in next 24 hours: {} Success Rate: {}%'.format(len(comp),sum(comp),sum(comp)/len(comp)*100.))"
   ]
  },
  {
   "cell_type": "markdown",
   "metadata": {},
   "source": [
    "#### Whoops! Performance is not great but okay.\n",
    "The percentage of getting all 24 hours prediction correct is only ~34%, while the success rate for C is ~71% (better than a coin toss)."
   ]
  },
  {
   "cell_type": "markdown",
   "metadata": {},
   "source": [
    "#### 3.2 More Than Baseline\n",
    "- CNN + LSTM\n",
    "- use CNN to help extract some local fetures before feeding into LSTM, which is better designed to detecting trend and seasonality. <br>"
   ]
  },
  {
   "cell_type": "code",
   "execution_count": 149,
   "metadata": {
    "collapsed": false
   },
   "outputs": [
    {
     "name": "stdout",
     "output_type": "stream",
     "text": [
      "Model: \"sequential_34\"\n",
      "_________________________________________________________________\n",
      "Layer (type)                 Output Shape              Param #   \n",
      "=================================================================\n",
      "conv1d_37 (Conv1D)           (None, 718, 64)           1216      \n",
      "_________________________________________________________________\n",
      "max_pooling1d_35 (MaxPooling (None, 359, 64)           0         \n",
      "_________________________________________________________________\n",
      "lstm_34 (LSTM)               (None, 359, 30)           11400     \n",
      "_________________________________________________________________\n",
      "lstm_35 (LSTM)               (None, 359, 10)           1640      \n",
      "_________________________________________________________________\n",
      "flatten_20 (Flatten)         (None, 3590)              0         \n",
      "_________________________________________________________________\n",
      "dense_35 (Dense)             (None, 50)                179550    \n",
      "_________________________________________________________________\n",
      "dense_36 (Dense)             (None, 24)                1224      \n",
      "=================================================================\n",
      "Total params: 195,030\n",
      "Trainable params: 195,030\n",
      "Non-trainable params: 0\n",
      "_________________________________________________________________\n"
     ]
    }
   ],
   "source": [
    "# build model\n",
    "cnn_lstm_model = tf.keras.Sequential()\n",
    "cnn_lstm_model.add(Conv1D(filters=64, kernel_size=3, activation='relu',input_shape=(Xtrain_scaled.shape[1], Xtrain_scaled.shape[2])))\n",
    "cnn_lstm_model.add(MaxPool1D(pool_size=2))\n",
    "# cnn_lstm_model.add(Conv1D(filters=32, kernel_size=3, activation='relu'))\n",
    "# cnn_lstm_model.add(MaxPool1D(pool_size=2))\n",
    "cnn_lstm_model.add(LSTM(30, return_sequences=True))\n",
    "cnn_lstm_model.add(LSTM(10, return_sequences=True))\n",
    "cnn_lstm_model.add(Flatten())\n",
    "cnn_lstm_model.add(Dense(50, activation='relu'))\n",
    "cnn_lstm_model.add(Dense(24, activation='sigmoid'))\n",
    "cnn_lstm_model.compile(optimizer='adam', loss='binary_crossentropy', metrics=['accuracy'])\n",
    "cnn_lstm_model.summary()"
   ]
  },
  {
   "cell_type": "code",
   "execution_count": 150,
   "metadata": {
    "collapsed": true
   },
   "outputs": [],
   "source": [
    "saved_model_path=os.path.join(os.getcwd(),'CNN_LSTM.hdf5')\n",
    "model_checkpoint_callback = tf.keras.callbacks.ModelCheckpoint(\n",
    "        filepath=saved_model_path,\n",
    "        save_best_only=True,\n",
    "        monitor='val_loss',\n",
    "        save_weights_only=True,\n",
    "        verbose=1\n",
    "    )"
   ]
  },
  {
   "cell_type": "code",
   "execution_count": 151,
   "metadata": {
    "collapsed": false
   },
   "outputs": [
    {
     "name": "stdout",
     "output_type": "stream",
     "text": [
      "Train on 34049 samples, validate on 6009 samples\n",
      "Epoch 1/20\n",
      "34048/34049 [============================>.] - ETA: 0s - loss: 0.3791 - accuracy: 0.8592\n",
      "Epoch 00001: val_loss improved from inf to 0.35750, saving model to /Users/tinawang/ml_experiments/new_york_rain_prediction/CNN_LSTM.hdf5\n",
      "34049/34049 [==============================] - 263s 8ms/sample - loss: 0.3791 - accuracy: 0.8592 - val_loss: 0.3575 - val_accuracy: 0.8607\n",
      "Epoch 2/20\n",
      "34048/34049 [============================>.] - ETA: 0s - loss: 0.3424 - accuracy: 0.8658\n",
      "Epoch 00002: val_loss improved from 0.35750 to 0.32651, saving model to /Users/tinawang/ml_experiments/new_york_rain_prediction/CNN_LSTM.hdf5\n",
      "34049/34049 [==============================] - 246s 7ms/sample - loss: 0.3424 - accuracy: 0.8658 - val_loss: 0.3265 - val_accuracy: 0.8734\n",
      "Epoch 3/20\n",
      "34048/34049 [============================>.] - ETA: 0s - loss: 0.3090 - accuracy: 0.8779\n",
      "Epoch 00003: val_loss improved from 0.32651 to 0.30075, saving model to /Users/tinawang/ml_experiments/new_york_rain_prediction/CNN_LSTM.hdf5\n",
      "34049/34049 [==============================] - 247s 7ms/sample - loss: 0.3090 - accuracy: 0.8779 - val_loss: 0.3008 - val_accuracy: 0.8812\n",
      "Epoch 4/20\n",
      "34048/34049 [============================>.] - ETA: 0s - loss: 0.2735 - accuracy: 0.8878\n",
      "Epoch 00004: val_loss improved from 0.30075 to 0.26937, saving model to /Users/tinawang/ml_experiments/new_york_rain_prediction/CNN_LSTM.hdf5\n",
      "34049/34049 [==============================] - 247s 7ms/sample - loss: 0.2735 - accuracy: 0.8878 - val_loss: 0.2694 - val_accuracy: 0.8896\n",
      "Epoch 5/20\n",
      "34048/34049 [============================>.] - ETA: 0s - loss: 0.2477 - accuracy: 0.8961\n",
      "Epoch 00005: val_loss improved from 0.26937 to 0.25782, saving model to /Users/tinawang/ml_experiments/new_york_rain_prediction/CNN_LSTM.hdf5\n",
      "34049/34049 [==============================] - 249s 7ms/sample - loss: 0.2477 - accuracy: 0.8961 - val_loss: 0.2578 - val_accuracy: 0.8930\n",
      "Epoch 6/20\n",
      "34048/34049 [============================>.] - ETA: 0s - loss: 0.2309 - accuracy: 0.9011\n",
      "Epoch 00006: val_loss improved from 0.25782 to 0.24438, saving model to /Users/tinawang/ml_experiments/new_york_rain_prediction/CNN_LSTM.hdf5\n",
      "34049/34049 [==============================] - 257s 8ms/sample - loss: 0.2309 - accuracy: 0.9011 - val_loss: 0.2444 - val_accuracy: 0.8963\n",
      "Epoch 7/20\n",
      "34048/34049 [============================>.] - ETA: 0s - loss: 0.2180 - accuracy: 0.9054\n",
      "Epoch 00007: val_loss improved from 0.24438 to 0.23937, saving model to /Users/tinawang/ml_experiments/new_york_rain_prediction/CNN_LSTM.hdf5\n",
      "34049/34049 [==============================] - 249s 7ms/sample - loss: 0.2180 - accuracy: 0.9054 - val_loss: 0.2394 - val_accuracy: 0.8979\n",
      "Epoch 8/20\n",
      "34048/34049 [============================>.] - ETA: 0s - loss: 0.2085 - accuracy: 0.9088\n",
      "Epoch 00008: val_loss improved from 0.23937 to 0.22549, saving model to /Users/tinawang/ml_experiments/new_york_rain_prediction/CNN_LSTM.hdf5\n",
      "34049/34049 [==============================] - 249s 7ms/sample - loss: 0.2085 - accuracy: 0.9088 - val_loss: 0.2255 - val_accuracy: 0.9019\n",
      "Epoch 9/20\n",
      "34048/34049 [============================>.] - ETA: 0s - loss: 0.2008 - accuracy: 0.9115\n",
      "Epoch 00009: val_loss did not improve from 0.22549\n",
      "34049/34049 [==============================] - 260s 8ms/sample - loss: 0.2008 - accuracy: 0.9115 - val_loss: 0.2275 - val_accuracy: 0.9024\n",
      "Epoch 10/20\n",
      "34048/34049 [============================>.] - ETA: 0s - loss: 0.1942 - accuracy: 0.9137\n",
      "Epoch 00010: val_loss improved from 0.22549 to 0.22288, saving model to /Users/tinawang/ml_experiments/new_york_rain_prediction/CNN_LSTM.hdf5\n",
      "34049/34049 [==============================] - 268s 8ms/sample - loss: 0.1942 - accuracy: 0.9137 - val_loss: 0.2229 - val_accuracy: 0.9035\n",
      "Epoch 11/20\n",
      "34048/34049 [============================>.] - ETA: 0s - loss: 0.1896 - accuracy: 0.9153\n",
      "Epoch 00011: val_loss improved from 0.22288 to 0.21831, saving model to /Users/tinawang/ml_experiments/new_york_rain_prediction/CNN_LSTM.hdf5\n",
      "34049/34049 [==============================] - 263s 8ms/sample - loss: 0.1896 - accuracy: 0.9153 - val_loss: 0.2183 - val_accuracy: 0.9041\n",
      "Epoch 12/20\n",
      "34048/34049 [============================>.] - ETA: 0s - loss: 0.1849 - accuracy: 0.9170\n",
      "Epoch 00012: val_loss did not improve from 0.21831\n",
      "34049/34049 [==============================] - 270s 8ms/sample - loss: 0.1850 - accuracy: 0.9170 - val_loss: 0.2203 - val_accuracy: 0.9030\n",
      "Epoch 13/20\n",
      "34048/34049 [============================>.] - ETA: 0s - loss: 0.1817 - accuracy: 0.9181\n",
      "Epoch 00013: val_loss did not improve from 0.21831\n",
      "34049/34049 [==============================] - 275s 8ms/sample - loss: 0.1817 - accuracy: 0.9181 - val_loss: 0.2216 - val_accuracy: 0.9036\n",
      "Epoch 14/20\n",
      "34048/34049 [============================>.] - ETA: 0s - loss: 0.1777 - accuracy: 0.9195\n",
      "Epoch 00014: val_loss did not improve from 0.21831\n",
      "34049/34049 [==============================] - 264s 8ms/sample - loss: 0.1777 - accuracy: 0.9195 - val_loss: 0.2231 - val_accuracy: 0.9044\n",
      "Epoch 15/20\n",
      "34048/34049 [============================>.] - ETA: 0s - loss: 0.1745 - accuracy: 0.9208\n",
      "Epoch 00015: val_loss improved from 0.21831 to 0.21571, saving model to /Users/tinawang/ml_experiments/new_york_rain_prediction/CNN_LSTM.hdf5\n",
      "34049/34049 [==============================] - 270s 8ms/sample - loss: 0.1745 - accuracy: 0.9208 - val_loss: 0.2157 - val_accuracy: 0.9061\n",
      "Epoch 16/20\n",
      "34048/34049 [============================>.] - ETA: 0s - loss: 0.1713 - accuracy: 0.9221\n",
      "Epoch 00016: val_loss did not improve from 0.21571\n",
      "34049/34049 [==============================] - 261s 8ms/sample - loss: 0.1713 - accuracy: 0.9221 - val_loss: 0.2191 - val_accuracy: 0.9069\n",
      "Epoch 17/20\n",
      "34048/34049 [============================>.] - ETA: 0s - loss: 0.1690 - accuracy: 0.9231\n",
      "Epoch 00017: val_loss did not improve from 0.21571\n",
      "34049/34049 [==============================] - 263s 8ms/sample - loss: 0.1690 - accuracy: 0.9231 - val_loss: 0.2160 - val_accuracy: 0.9067\n",
      "Epoch 18/20\n",
      "34048/34049 [============================>.] - ETA: 0s - loss: 0.1665 - accuracy: 0.9240\n",
      "Epoch 00018: val_loss improved from 0.21571 to 0.21413, saving model to /Users/tinawang/ml_experiments/new_york_rain_prediction/CNN_LSTM.hdf5\n",
      "34049/34049 [==============================] - 271s 8ms/sample - loss: 0.1665 - accuracy: 0.9240 - val_loss: 0.2141 - val_accuracy: 0.9071\n",
      "Epoch 19/20\n",
      "34048/34049 [============================>.] - ETA: 0s - loss: 0.1649 - accuracy: 0.9246\n",
      "Epoch 00019: val_loss improved from 0.21413 to 0.20889, saving model to /Users/tinawang/ml_experiments/new_york_rain_prediction/CNN_LSTM.hdf5\n",
      "34049/34049 [==============================] - 260s 8ms/sample - loss: 0.1650 - accuracy: 0.9246 - val_loss: 0.2089 - val_accuracy: 0.9099\n",
      "Epoch 20/20\n",
      "34048/34049 [============================>.] - ETA: 0s - loss: 0.1622 - accuracy: 0.9254\n",
      "Epoch 00020: val_loss did not improve from 0.20889\n",
      "34049/34049 [==============================] - 266s 8ms/sample - loss: 0.1622 - accuracy: 0.9254 - val_loss: 0.2127 - val_accuracy: 0.9084\n"
     ]
    }
   ],
   "source": [
    "cnn_lstm_history = cnn_lstm_model.fit(Xtrain_scaled,ytrain, epochs=20, validation_data=(Xval_scaled,yval), shuffle=True, callbacks=[model_checkpoint_callback])"
   ]
  },
  {
   "cell_type": "code",
   "execution_count": 152,
   "metadata": {
    "collapsed": false
   },
   "outputs": [
    {
     "data": {
      "image/png": "[encoded data removed]",
      "text/plain": [
       "<Figure size 432x288 with 1 Axes>"
      ]
     },
     "metadata": {
      "needs_background": "light"
     },
     "output_type": "display_data"
    }
   ],
   "source": [
    "plot_loss_history(cnn_lstm_history)"
   ]
  },
  {
   "cell_type": "code",
   "execution_count": 153,
   "metadata": {
    "collapsed": false
   },
   "outputs": [],
   "source": [
    "# Now load the saved best model to use for inference\n",
    "cnn_lstm_model.load_weights(saved_model_path)\n",
    "predictions = cnn_lstm_model.predict(Xtest_scaled)\n",
    "# results = output_consumer(test_outputs,0.5)"
   ]
  },
  {
   "cell_type": "code",
   "execution_count": 154,
   "metadata": {
    "collapsed": false
   },
   "outputs": [
    {
     "name": "stdout",
     "output_type": "stream",
     "text": [
      "Total Test Set: 4451\n",
      " Number of all correct predictions for next 24 hours: 1664 Success Rate: 37.38485733543024%\n",
      "Total Test Set: 4451\n",
      " Any rain prediction overlap and all no rain prediction correct in next 24 hours: 2607 Success Rate: 58.571107616266005%\n"
     ]
    }
   ],
   "source": [
    "comp=evaluate_performance(predictions, ytest, 'A')\n",
    "print('Total Test Set: {}\\n Number of all correct predictions for next 24 hours: {} Success Rate: {}%'.format(len(comp),sum(comp),sum(comp)/len(comp)*100.))\n",
    "comp=evaluate_performance(predictions, ytest, 'C')\n",
    "print('Total Test Set: {}\\n Any rain prediction overlap and all no rain prediction correct in next 24 hours: {} Success Rate: {}%'.format(len(comp),sum(comp),sum(comp)/len(comp)*100.))"
   ]
  },
  {
   "cell_type": "markdown",
   "metadata": {},
   "source": [
    "#### Looking at the Loss plot and the performance, there seems to be room for improvement if we train the network longer."
   ]
  },
  {
   "cell_type": "code",
   "execution_count": 116,
   "metadata": {
    "collapsed": false
   },
   "outputs": [
    {
     "name": "stdout",
     "output_type": "stream",
     "text": [
      "(4451, 24)\n",
      "(4451, 24)\n",
      "{0: 0.0, 1: 0.0, 2: 0.0, 3: 0.0, 4: 0.0, 5: 0.0, 6: 0.0, 7: 0.0, 8: 0.0, 9: 0.0, 10: 0.0, 11: 0.0, 12: 0.0, 13: 0.0, 14: 0.0, 15: 0.0, 16: 0.0, 17: 0.0, 18: 0.0, 19: 0.0, 20: 0.0, 21: 0.0, 22: 0.0, 23: 0.0}\n"
     ]
    }
   ],
   "source": [
    "def evaluate_hourly_performance(predictions, labels):\n",
    "    print(predictions.shape)\n",
    "    print(labels.shape)\n",
    "    assert predictions.shape==labels.shape\n",
    "    results={}\n",
    "    for hour in range(labels.shape[1]):\n",
    "        pred=predictions[:,hour]\n",
    "        gt=labels[:,hour]\n",
    "#         print(pred.shape)\n",
    "        comp=np.equal(pred,gt)\n",
    "        acc=sum(comp.astype(int))*1./len(comp)\n",
    "        results[hour]=acc\n",
    "    print(results)\n",
    "evaluate_hourly_performance(predictions, ytest)"
   ]
  },
  {
   "cell_type": "code",
   "execution_count": 117,
   "metadata": {
    "collapsed": false
   },
   "outputs": [
    {
     "name": "stdout",
     "output_type": "stream",
     "text": [
      "Train on 34049 samples, validate on 6009 samples\n",
      "Epoch 1/20\n",
      "34048/34049 [============================>.] - ETA: 0s - loss: 0.3700 - accuracy: 0.8607\n",
      "Epoch 00001: val_loss did not improve from 0.36956\n",
      "34049/34049 [==============================] - 222s 7ms/sample - loss: 0.3700 - accuracy: 0.8607 - val_loss: 0.3720 - val_accuracy: 0.8604\n",
      "Epoch 2/20\n",
      "34048/34049 [============================>.] - ETA: 0s - loss: 0.3704 - accuracy: 0.8607\n",
      "Epoch 00002: val_loss did not improve from 0.36956\n",
      "34049/34049 [==============================] - 222s 7ms/sample - loss: 0.3704 - accuracy: 0.8607 - val_loss: 0.3727 - val_accuracy: 0.8602\n",
      "Epoch 3/20\n",
      "34048/34049 [============================>.] - ETA: 0s - loss: 0.3697 - accuracy: 0.8610\n",
      "Epoch 00003: val_loss did not improve from 0.36956\n",
      "34049/34049 [==============================] - 214s 6ms/sample - loss: 0.3697 - accuracy: 0.8610 - val_loss: 0.3738 - val_accuracy: 0.8612\n",
      "Epoch 4/20\n",
      "34048/34049 [============================>.] - ETA: 0s - loss: 0.3692 - accuracy: 0.8610\n",
      "Epoch 00004: val_loss did not improve from 0.36956\n",
      "34049/34049 [==============================] - 232s 7ms/sample - loss: 0.3691 - accuracy: 0.8610 - val_loss: 0.3703 - val_accuracy: 0.8619\n",
      "Epoch 5/20\n",
      "34048/34049 [============================>.] - ETA: 0s - loss: 0.3686 - accuracy: 0.8612\n",
      "Epoch 00005: val_loss improved from 0.36956 to 0.36907, saving model to /Users/tinawang/ml_experiments/new_york_rain_prediction/CNN_LSTM.hdf5\n",
      "34049/34049 [==============================] - 222s 7ms/sample - loss: 0.3686 - accuracy: 0.8612 - val_loss: 0.3691 - val_accuracy: 0.8624\n",
      "Epoch 6/20\n",
      "34048/34049 [============================>.] - ETA: 0s - loss: 0.3685 - accuracy: 0.8610\n",
      "Epoch 00006: val_loss did not improve from 0.36907\n",
      "34049/34049 [==============================] - 219s 6ms/sample - loss: 0.3685 - accuracy: 0.8610 - val_loss: 0.3731 - val_accuracy: 0.8617\n",
      "Epoch 7/20\n",
      "34048/34049 [============================>.] - ETA: 0s - loss: 0.3677 - accuracy: 0.8612\n",
      "Epoch 00007: val_loss did not improve from 0.36907\n",
      "34049/34049 [==============================] - 214s 6ms/sample - loss: 0.3677 - accuracy: 0.8613 - val_loss: 0.3715 - val_accuracy: 0.8617\n",
      "Epoch 8/20\n",
      "34048/34049 [============================>.] - ETA: 0s - loss: 0.3675 - accuracy: 0.8614\n",
      "Epoch 00008: val_loss did not improve from 0.36907\n",
      "34049/34049 [==============================] - 219s 6ms/sample - loss: 0.3675 - accuracy: 0.8614 - val_loss: 0.3742 - val_accuracy: 0.8581\n",
      "Epoch 9/20\n",
      "34048/34049 [============================>.] - ETA: 0s - loss: 0.3677 - accuracy: 0.8614\n",
      "Epoch 00009: val_loss did not improve from 0.36907\n",
      "34049/34049 [==============================] - 227s 7ms/sample - loss: 0.3677 - accuracy: 0.8614 - val_loss: 0.3701 - val_accuracy: 0.8609\n",
      "Epoch 10/20\n",
      "34048/34049 [============================>.] - ETA: 0s - loss: 0.3702 - accuracy: 0.8604\n",
      "Epoch 00010: val_loss did not improve from 0.36907\n",
      "34049/34049 [==============================] - 229s 7ms/sample - loss: 0.3702 - accuracy: 0.8604 - val_loss: 0.3703 - val_accuracy: 0.8607\n",
      "Epoch 11/20\n",
      "34048/34049 [============================>.] - ETA: 0s - loss: 0.3678 - accuracy: 0.8611\n",
      "Epoch 00011: val_loss did not improve from 0.36907\n",
      "34049/34049 [==============================] - 245s 7ms/sample - loss: 0.3678 - accuracy: 0.8611 - val_loss: 0.3695 - val_accuracy: 0.8603\n",
      "Epoch 12/20\n",
      "34048/34049 [============================>.] - ETA: 0s - loss: 0.3665 - accuracy: 0.8617\n",
      "Epoch 00012: val_loss improved from 0.36907 to 0.36887, saving model to /Users/tinawang/ml_experiments/new_york_rain_prediction/CNN_LSTM.hdf5\n",
      "34049/34049 [==============================] - 225s 7ms/sample - loss: 0.3665 - accuracy: 0.8617 - val_loss: 0.3689 - val_accuracy: 0.8620\n",
      "Epoch 13/20\n",
      "34048/34049 [============================>.] - ETA: 0s - loss: 0.3699 - accuracy: 0.8605\n",
      "Epoch 00013: val_loss did not improve from 0.36887\n",
      "34049/34049 [==============================] - 267s 8ms/sample - loss: 0.3699 - accuracy: 0.8605 - val_loss: 0.3700 - val_accuracy: 0.8609\n",
      "Epoch 14/20\n",
      "34048/34049 [============================>.] - ETA: 0s - loss: 0.3667 - accuracy: 0.8616\n",
      "Epoch 00014: val_loss did not improve from 0.36887\n",
      "34049/34049 [==============================] - 274s 8ms/sample - loss: 0.3667 - accuracy: 0.8616 - val_loss: 0.3704 - val_accuracy: 0.8623\n",
      "Epoch 15/20\n",
      "34048/34049 [============================>.] - ETA: 0s - loss: 0.3697 - accuracy: 0.8613\n",
      "Epoch 00015: val_loss did not improve from 0.36887\n",
      "34049/34049 [==============================] - 236s 7ms/sample - loss: 0.3697 - accuracy: 0.8613 - val_loss: 0.3691 - val_accuracy: 0.8619\n",
      "Epoch 16/20\n",
      "34048/34049 [============================>.] - ETA: 0s - loss: 0.3660 - accuracy: 0.8617\n",
      "Epoch 00016: val_loss improved from 0.36887 to 0.36826, saving model to /Users/tinawang/ml_experiments/new_york_rain_prediction/CNN_LSTM.hdf5\n",
      "34049/34049 [==============================] - 220s 6ms/sample - loss: 0.3660 - accuracy: 0.8617 - val_loss: 0.3683 - val_accuracy: 0.8625\n",
      "Epoch 17/20\n",
      "34048/34049 [============================>.] - ETA: 0s - loss: 0.3660 - accuracy: 0.8618\n",
      "Epoch 00017: val_loss did not improve from 0.36826\n",
      "34049/34049 [==============================] - 229s 7ms/sample - loss: 0.3660 - accuracy: 0.8618 - val_loss: 0.3724 - val_accuracy: 0.8610\n",
      "Epoch 18/20\n",
      "34048/34049 [============================>.] - ETA: 0s - loss: 0.3648 - accuracy: 0.8620\n",
      "Epoch 00018: val_loss improved from 0.36826 to 0.36741, saving model to /Users/tinawang/ml_experiments/new_york_rain_prediction/CNN_LSTM.hdf5\n",
      "34049/34049 [==============================] - 216s 6ms/sample - loss: 0.3648 - accuracy: 0.8620 - val_loss: 0.3674 - val_accuracy: 0.8626\n",
      "Epoch 19/20\n",
      "34048/34049 [============================>.] - ETA: 0s - loss: 0.3661 - accuracy: 0.8618\n",
      "Epoch 00019: val_loss did not improve from 0.36741\n",
      "34049/34049 [==============================] - 222s 7ms/sample - loss: 0.3661 - accuracy: 0.8618 - val_loss: 0.3707 - val_accuracy: 0.8620\n",
      "Epoch 20/20\n",
      "34048/34049 [============================>.] - ETA: 0s - loss: 0.3641 - accuracy: 0.8623\n",
      "Epoch 00020: val_loss improved from 0.36741 to 0.36625, saving model to /Users/tinawang/ml_experiments/new_york_rain_prediction/CNN_LSTM.hdf5\n",
      "34049/34049 [==============================] - 205s 6ms/sample - loss: 0.3641 - accuracy: 0.8623 - val_loss: 0.3662 - val_accuracy: 0.8625\n"
     ]
    }
   ],
   "source": [
    "cnn_lstm_history2 = cnn_lstm_model.fit(Xtrain_scaled,ytrain, epochs=20, validation_data=(Xval_scaled,yval), shuffle=True, callbacks=[model_checkpoint_callback])"
   ]
  },
  {
   "cell_type": "code",
   "execution_count": 118,
   "metadata": {
    "collapsed": false
   },
   "outputs": [
    {
     "name": "stdout",
     "output_type": "stream",
     "text": [
      "Total Test Set: 4451\n",
      " Number of all correct predictions for next 24 hours: 1824 Success Rate: 40.979555156144684%\n",
      "Total Test Set: 4451\n",
      " Any rain prediction overlap and all no rain prediction correct in next 24 hours: 1842 Success Rate: 41.38395866097506%\n"
     ]
    }
   ],
   "source": [
    "# Now load the saved best model to use for inference\n",
    "cnn_lstm_model.load_weights(saved_model_path)\n",
    "predictions = cnn_lstm_model.predict(Xtest_scaled)\n",
    "# results = output_consumer(test_outputs,0.5)\n",
    "comp=evaluate_performance(predictions, ytest, 'A')\n",
    "print('Total Test Set: {}\\n Number of all correct predictions for next 24 hours: {} Success Rate: {}%'.format(len(comp),sum(comp),sum(comp)/len(comp)*100.))\n",
    "comp=evaluate_performance(predictions, ytest, 'C')\n",
    "print('Total Test Set: {}\\n Any rain prediction overlap and all no rain prediction correct in next 24 hours: {} Success Rate: {}%'.format(len(comp),sum(comp),sum(comp)/len(comp)*100.))"
   ]
  },
  {
   "cell_type": "code",
   "execution_count": null,
   "metadata": {
    "collapsed": true
   },
   "outputs": [],
   "source": []
  }
 ],
 "metadata": {
  "kernelspec": {
   "display_name": "Python 3",
   "language": "python",
   "name": "python3"
  },
  "language_info": {
   "codemirror_mode": {
    "name": "ipython",
    "version": 3
   },
   "file_extension": ".py",
   "mimetype": "text/x-python",
   "name": "python",
   "nbconvert_exporter": "python",
   "pygments_lexer": "ipython3",
   "version": "3.6.5"
  }
 },
 "nbformat": 4,
 "nbformat_minor": 0
}
