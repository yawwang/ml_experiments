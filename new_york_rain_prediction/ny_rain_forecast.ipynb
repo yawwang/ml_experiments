{
 "cells": [
  {
   "cell_type": "markdown",
   "metadata": {},
   "source": [
    "# Interview Question:\n",
    "## Tomorrow’s Rain Forecast for New York<br>\n",
    "The Historical Hourly Weather Data 2012-2017 on Kaggle contains 5 years of hourly measurements of various weather attributes, such as temperature, humidity, air pressure, etc. The data are available to download from Kaggle at the following link:<br>\n",
    "https://www.kaggle.com/selfishgene/historical-hourly-weather-data<br>\n",
    "### Task: \n",
    "<br>Given historical weather data, can you predict whether tomorrow will be rainy in New York? Any weather description that is a form of liquid precipitation is considered rainy, such as those containing keywords “rain”, “thunderstorm”, “drizzle”, etc. You have flexibility in defining “rainy\" and “tomorrow” (e.g. next 24 hours from current hour); no matter what your definitions are, please make them clear in the report.\n",
    "In the open-ended quiz, please make sure you address the following questions:\n",
    "- Define metrics to evaluate algorithm performance\n",
    "- What are your training, validation, and testing sets?\n",
    "- Implement a simple baseline\n",
    "- Compare the performance of one more algorithm to the baseline\n",
    "- At least one algorithm should use a machine-learning/deep-learning approach"
   ]
  },
  {
   "cell_type": "markdown",
   "metadata": {},
   "source": [
    "### Tina's Comments:<br>\n",
    "This version of notebook is my first trial. In this trial, I will upsample the weather information from hourly to daily. And then use the historical daily weather data to forecast the next day.The target would be a binary forecast (Rain: 0 or 1) for the next 24 hours. <br>\n",
    "Note in the dataset, a day starts @ 12pm in the middle of the day. But I will split \"today\" and \"tomorrow\" by wall clock midnight and delete the extra info. <br>\n",
    "I'm going to stick with the definition of rainy in the problem statement, any weather contains \"rain\", \"thunderstorm\", or \"drizzle\" is considered as rainy.\n",
    "<br>\n",
    "This is a Multivariate Time Series prediction problem. <br>\n",
    "I will approach this problem with a traditional stats model VAR first. Then use sequence models and frame this as a supervised learning problem."
   ]
  },
  {
   "cell_type": "code",
   "execution_count": 300,
   "metadata": {
    "collapsed": true
   },
   "outputs": [],
   "source": [
    "import os\n",
    "import numpy as np\n",
    "import matplotlib.pyplot as plt\n",
    "import pandas as pd\n",
    "import sklearn\n",
    "import tensorflow as tf\n",
    "from tensorflow.keras.layers import Dense, LSTM, Bidirectional, Flatten, TimeDistributed, Conv1D, MaxPool1D\n",
    "from itertools import product\n",
    "from math import sqrt\n",
    "from warnings import catch_warnings\n",
    "from warnings import filterwarnings\n",
    "from statsmodels.tsa.statespace.sarimax import SARIMAX\n",
    "from sklearn.metrics import mean_squared_error\n",
    "import seaborn as sns\n",
    "from sklearn import preprocessing\n",
    "from sklearn.model_selection import train_test_split\n",
    "from sklearn import metrics\n",
    "%matplotlib inline"
   ]
  },
  {
   "cell_type": "code",
   "execution_count": 301,
   "metadata": {
    "collapsed": true
   },
   "outputs": [],
   "source": [
    "def extract_new_york_info(data_file,column_name,city):\n",
    "    df=pd.read_csv(data_file)\n",
    "    ny_df=df[['datetime',city]]\n",
    "    ny_df.rename(columns={city:column_name}, inplace=True)\n",
    "    ny_df.set_index('datetime',inplace=True)\n",
    "    return ny_df"
   ]
  },
  {
   "cell_type": "code",
   "execution_count": 302,
   "metadata": {
    "collapsed": true
   },
   "outputs": [],
   "source": [
    "def create_city_dataset(dataset_dir, city):\n",
    "    data_files = os.listdir(dataset_dir)\n",
    "    if 'city_attributes.csv' in data_files: data_files.remove('city_attributes.csv') # do not need it for now\n",
    "    column_names = [x.replace('.csv','') for x in data_files]\n",
    "#     print(column_names)\n",
    "    dfs=[]\n",
    "    for i in range(len(data_files)):\n",
    "        df = extract_new_york_info(os.path.join(dataset_dir,data_files[i]),column_names[i],city)\n",
    "        dfs.append(df)\n",
    "#     print(len(dfs))\n",
    "    ny_df = pd.concat(dfs, axis=1) # We are lucky here because dataset has no missing datetime index across files\n",
    "    return ny_df"
   ]
  },
  {
   "cell_type": "code",
   "execution_count": 303,
   "metadata": {
    "collapsed": true
   },
   "outputs": [],
   "source": [
    "def is_rainny(value):\n",
    "    keywords = ['rain','thunderstorm', 'drizzle'] # will label all instances containing these keywords as \"rain\", otherwise \"no rain\"\n",
    "    rainny=0\n",
    "    for x in keywords:\n",
    "        if x in value:\n",
    "            return 1\n",
    "    return 0"
   ]
  },
  {
   "cell_type": "code",
   "execution_count": 304,
   "metadata": {
    "collapsed": true
   },
   "outputs": [],
   "source": [
    "def plot_roc(y,y_pred,name):\n",
    "    fpr, tpr, threshold = metrics.roc_curve(y, y_pred)\n",
    "    roc_auc = metrics.auc(fpr, tpr)\n",
    "\n",
    "    fig, ax = plt.subplots(1, figsize=(12, 6))\n",
    "    plt.plot(fpr, tpr, color='darkorange', label = 'AUC = %0.2f' % roc_auc)\n",
    "    plt.plot([0, 1], [0, 1], color='gray', label='Random Performace')\n",
    "    plt.xlabel('False Positive Rate')\n",
    "    plt.ylabel('True Positive Rate')\n",
    "    plt.title('Seattle Rain ROC Curve {}'.format(name))\n",
    "    plt.legend(loc=\"lower right\")"
   ]
  },
  {
   "cell_type": "code",
   "execution_count": 305,
   "metadata": {
    "collapsed": false
   },
   "outputs": [
    {
     "name": "stderr",
     "output_type": "stream",
     "text": [
      "/usr/local/lib/python3.6/site-packages/pandas/core/frame.py:3027: SettingWithCopyWarning: \n",
      "A value is trying to be set on a copy of a slice from a DataFrame\n",
      "\n",
      "See the caveats in the documentation: http://pandas.pydata.org/pandas-docs/stable/indexing.html#indexing-view-versus-copy\n",
      "  return super(DataFrame, self).rename(**kwargs)\n"
     ]
    },
    {
     "data": {
      "text/html": [
       "<div>\n",
       "<style scoped>\n",
       "    .dataframe tbody tr th:only-of-type {\n",
       "        vertical-align: middle;\n",
       "    }\n",
       "\n",
       "    .dataframe tbody tr th {\n",
       "        vertical-align: top;\n",
       "    }\n",
       "\n",
       "    .dataframe thead th {\n",
       "        text-align: right;\n",
       "    }\n",
       "</style>\n",
       "<table border=\"1\" class=\"dataframe\">\n",
       "  <thead>\n",
       "    <tr style=\"text-align: right;\">\n",
       "      <th></th>\n",
       "      <th>weather_description</th>\n",
       "      <th>humidity</th>\n",
       "      <th>wind_direction</th>\n",
       "      <th>temperature</th>\n",
       "      <th>pressure</th>\n",
       "      <th>wind_speed</th>\n",
       "    </tr>\n",
       "    <tr>\n",
       "      <th>datetime</th>\n",
       "      <th></th>\n",
       "      <th></th>\n",
       "      <th></th>\n",
       "      <th></th>\n",
       "      <th></th>\n",
       "      <th></th>\n",
       "    </tr>\n",
       "  </thead>\n",
       "  <tbody>\n",
       "    <tr>\n",
       "      <th>2012-10-01 12:00:00</th>\n",
       "      <td>NaN</td>\n",
       "      <td>NaN</td>\n",
       "      <td>NaN</td>\n",
       "      <td>NaN</td>\n",
       "      <td>NaN</td>\n",
       "      <td>NaN</td>\n",
       "    </tr>\n",
       "    <tr>\n",
       "      <th>2012-10-01 13:00:00</th>\n",
       "      <td>few clouds</td>\n",
       "      <td>58.0</td>\n",
       "      <td>260.0</td>\n",
       "      <td>288.220000</td>\n",
       "      <td>1012.0</td>\n",
       "      <td>7.0</td>\n",
       "    </tr>\n",
       "    <tr>\n",
       "      <th>2012-10-01 14:00:00</th>\n",
       "      <td>few clouds</td>\n",
       "      <td>57.0</td>\n",
       "      <td>260.0</td>\n",
       "      <td>288.247676</td>\n",
       "      <td>1012.0</td>\n",
       "      <td>7.0</td>\n",
       "    </tr>\n",
       "    <tr>\n",
       "      <th>2012-10-01 15:00:00</th>\n",
       "      <td>few clouds</td>\n",
       "      <td>57.0</td>\n",
       "      <td>260.0</td>\n",
       "      <td>288.326940</td>\n",
       "      <td>1012.0</td>\n",
       "      <td>7.0</td>\n",
       "    </tr>\n",
       "    <tr>\n",
       "      <th>2012-10-01 16:00:00</th>\n",
       "      <td>few clouds</td>\n",
       "      <td>57.0</td>\n",
       "      <td>260.0</td>\n",
       "      <td>288.406203</td>\n",
       "      <td>1012.0</td>\n",
       "      <td>7.0</td>\n",
       "    </tr>\n",
       "  </tbody>\n",
       "</table>\n",
       "</div>"
      ],
      "text/plain": [
       "                    weather_description  humidity  wind_direction  \\\n",
       "datetime                                                            \n",
       "2012-10-01 12:00:00                 NaN       NaN             NaN   \n",
       "2012-10-01 13:00:00          few clouds      58.0           260.0   \n",
       "2012-10-01 14:00:00          few clouds      57.0           260.0   \n",
       "2012-10-01 15:00:00          few clouds      57.0           260.0   \n",
       "2012-10-01 16:00:00          few clouds      57.0           260.0   \n",
       "\n",
       "                     temperature  pressure  wind_speed  \n",
       "datetime                                                \n",
       "2012-10-01 12:00:00          NaN       NaN         NaN  \n",
       "2012-10-01 13:00:00   288.220000    1012.0         7.0  \n",
       "2012-10-01 14:00:00   288.247676    1012.0         7.0  \n",
       "2012-10-01 15:00:00   288.326940    1012.0         7.0  \n",
       "2012-10-01 16:00:00   288.406203    1012.0         7.0  "
      ]
     },
     "execution_count": 305,
     "metadata": {},
     "output_type": "execute_result"
    }
   ],
   "source": [
    "dataset_dir = 'historical-hourly-weather-data'\n",
    "city='New York'\n",
    "ny_df = create_city_dataset(dataset_dir, city)\n",
    "ny_df.head()"
   ]
  },
  {
   "cell_type": "code",
   "execution_count": 306,
   "metadata": {
    "collapsed": false
   },
   "outputs": [
    {
     "data": {
      "text/plain": [
       "weather_description     793\n",
       "humidity               1624\n",
       "wind_direction          793\n",
       "temperature             793\n",
       "pressure               1041\n",
       "wind_speed              793\n",
       "dtype: int64"
      ]
     },
     "execution_count": 306,
     "metadata": {},
     "output_type": "execute_result"
    }
   ],
   "source": [
    "# check if there is any invalid field in the dataset\n",
    "ny_df.isnull().sum()"
   ]
  },
  {
   "cell_type": "code",
   "execution_count": 307,
   "metadata": {
    "collapsed": false
   },
   "outputs": [
    {
     "data": {
      "text/plain": [
       "weather_description    0\n",
       "humidity               0\n",
       "wind_direction         0\n",
       "temperature            0\n",
       "pressure               0\n",
       "wind_speed             0\n",
       "dtype: int64"
      ]
     },
     "execution_count": 307,
     "metadata": {},
     "output_type": "execute_result"
    }
   ],
   "source": [
    "# Fill in missing values\n",
    "ny_df['weather_description'].fillna('None', axis=0, inplace=True)\n",
    "ny_df.fillna(method='ffill', axis=0, inplace=True)\n",
    "ny_df.fillna(method='bfill', axis=0, inplace=True)\n",
    "ny_df.isnull().sum()"
   ]
  },
  {
   "cell_type": "code",
   "execution_count": 308,
   "metadata": {
    "collapsed": false
   },
   "outputs": [
    {
     "data": {
      "text/html": [
       "<div>\n",
       "<style scoped>\n",
       "    .dataframe tbody tr th:only-of-type {\n",
       "        vertical-align: middle;\n",
       "    }\n",
       "\n",
       "    .dataframe tbody tr th {\n",
       "        vertical-align: top;\n",
       "    }\n",
       "\n",
       "    .dataframe thead th {\n",
       "        text-align: right;\n",
       "    }\n",
       "</style>\n",
       "<table border=\"1\" class=\"dataframe\">\n",
       "  <thead>\n",
       "    <tr style=\"text-align: right;\">\n",
       "      <th></th>\n",
       "      <th>weather_description</th>\n",
       "      <th>humidity</th>\n",
       "      <th>wind_direction</th>\n",
       "      <th>temperature</th>\n",
       "      <th>pressure</th>\n",
       "      <th>wind_speed</th>\n",
       "      <th>rainny</th>\n",
       "    </tr>\n",
       "    <tr>\n",
       "      <th>datetime</th>\n",
       "      <th></th>\n",
       "      <th></th>\n",
       "      <th></th>\n",
       "      <th></th>\n",
       "      <th></th>\n",
       "      <th></th>\n",
       "      <th></th>\n",
       "    </tr>\n",
       "  </thead>\n",
       "  <tbody>\n",
       "    <tr>\n",
       "      <th>2012-10-01 12:00:00</th>\n",
       "      <td>None</td>\n",
       "      <td>58.0</td>\n",
       "      <td>260.0</td>\n",
       "      <td>288.220000</td>\n",
       "      <td>1012.0</td>\n",
       "      <td>7.0</td>\n",
       "      <td>0</td>\n",
       "    </tr>\n",
       "    <tr>\n",
       "      <th>2012-10-01 13:00:00</th>\n",
       "      <td>few clouds</td>\n",
       "      <td>58.0</td>\n",
       "      <td>260.0</td>\n",
       "      <td>288.220000</td>\n",
       "      <td>1012.0</td>\n",
       "      <td>7.0</td>\n",
       "      <td>0</td>\n",
       "    </tr>\n",
       "    <tr>\n",
       "      <th>2012-10-01 14:00:00</th>\n",
       "      <td>few clouds</td>\n",
       "      <td>57.0</td>\n",
       "      <td>260.0</td>\n",
       "      <td>288.247676</td>\n",
       "      <td>1012.0</td>\n",
       "      <td>7.0</td>\n",
       "      <td>0</td>\n",
       "    </tr>\n",
       "    <tr>\n",
       "      <th>2012-10-01 15:00:00</th>\n",
       "      <td>few clouds</td>\n",
       "      <td>57.0</td>\n",
       "      <td>260.0</td>\n",
       "      <td>288.326940</td>\n",
       "      <td>1012.0</td>\n",
       "      <td>7.0</td>\n",
       "      <td>0</td>\n",
       "    </tr>\n",
       "    <tr>\n",
       "      <th>2012-10-01 16:00:00</th>\n",
       "      <td>few clouds</td>\n",
       "      <td>57.0</td>\n",
       "      <td>260.0</td>\n",
       "      <td>288.406203</td>\n",
       "      <td>1012.0</td>\n",
       "      <td>7.0</td>\n",
       "      <td>0</td>\n",
       "    </tr>\n",
       "  </tbody>\n",
       "</table>\n",
       "</div>"
      ],
      "text/plain": [
       "                    weather_description  humidity  wind_direction  \\\n",
       "datetime                                                            \n",
       "2012-10-01 12:00:00                None      58.0           260.0   \n",
       "2012-10-01 13:00:00          few clouds      58.0           260.0   \n",
       "2012-10-01 14:00:00          few clouds      57.0           260.0   \n",
       "2012-10-01 15:00:00          few clouds      57.0           260.0   \n",
       "2012-10-01 16:00:00          few clouds      57.0           260.0   \n",
       "\n",
       "                     temperature  pressure  wind_speed  rainny  \n",
       "datetime                                                        \n",
       "2012-10-01 12:00:00   288.220000    1012.0         7.0       0  \n",
       "2012-10-01 13:00:00   288.220000    1012.0         7.0       0  \n",
       "2012-10-01 14:00:00   288.247676    1012.0         7.0       0  \n",
       "2012-10-01 15:00:00   288.326940    1012.0         7.0       0  \n",
       "2012-10-01 16:00:00   288.406203    1012.0         7.0       0  "
      ]
     },
     "execution_count": 308,
     "metadata": {},
     "output_type": "execute_result"
    }
   ],
   "source": [
    "ny_df['rainny']=ny_df['weather_description'].apply(is_rainny)\n",
    "ny_df.head()"
   ]
  },
  {
   "cell_type": "code",
   "execution_count": 326,
   "metadata": {
    "collapsed": false,
    "scrolled": true
   },
   "outputs": [
    {
     "name": "stderr",
     "output_type": "stream",
     "text": [
      "/usr/local/lib/python3.6/site-packages/ipykernel_launcher.py:4: SettingWithCopyWarning: \n",
      "A value is trying to be set on a copy of a slice from a DataFrame.\n",
      "Try using .loc[row_indexer,col_indexer] = value instead\n",
      "\n",
      "See the caveats in the documentation: http://pandas.pydata.org/pandas-docs/stable/indexing.html#indexing-view-versus-copy\n",
      "  after removing the cwd from sys.path.\n",
      "/usr/local/lib/python3.6/site-packages/ipykernel_launcher.py:5: SettingWithCopyWarning: \n",
      "A value is trying to be set on a copy of a slice from a DataFrame.\n",
      "Try using .loc[row_indexer,col_indexer] = value instead\n",
      "\n",
      "See the caveats in the documentation: http://pandas.pydata.org/pandas-docs/stable/indexing.html#indexing-view-versus-copy\n",
      "  \"\"\"\n",
      "/usr/local/lib/python3.6/site-packages/ipykernel_launcher.py:6: SettingWithCopyWarning: \n",
      "A value is trying to be set on a copy of a slice from a DataFrame.\n",
      "Try using .loc[row_indexer,col_indexer] = value instead\n",
      "\n",
      "See the caveats in the documentation: http://pandas.pydata.org/pandas-docs/stable/indexing.html#indexing-view-versus-copy\n",
      "  \n"
     ]
    },
    {
     "data": {
      "text/html": [
       "<div>\n",
       "<style scoped>\n",
       "    .dataframe tbody tr th:only-of-type {\n",
       "        vertical-align: middle;\n",
       "    }\n",
       "\n",
       "    .dataframe tbody tr th {\n",
       "        vertical-align: top;\n",
       "    }\n",
       "\n",
       "    .dataframe thead th {\n",
       "        text-align: right;\n",
       "    }\n",
       "</style>\n",
       "<table border=\"1\" class=\"dataframe\">\n",
       "  <thead>\n",
       "    <tr style=\"text-align: right;\">\n",
       "      <th></th>\n",
       "      <th>weather_description</th>\n",
       "      <th>humidity</th>\n",
       "      <th>wind_direction</th>\n",
       "      <th>temperature</th>\n",
       "      <th>pressure</th>\n",
       "      <th>wind_speed</th>\n",
       "      <th>rainny</th>\n",
       "      <th>date</th>\n",
       "      <th>month</th>\n",
       "      <th>day</th>\n",
       "    </tr>\n",
       "    <tr>\n",
       "      <th>datetime</th>\n",
       "      <th></th>\n",
       "      <th></th>\n",
       "      <th></th>\n",
       "      <th></th>\n",
       "      <th></th>\n",
       "      <th></th>\n",
       "      <th></th>\n",
       "      <th></th>\n",
       "      <th></th>\n",
       "      <th></th>\n",
       "    </tr>\n",
       "  </thead>\n",
       "  <tbody>\n",
       "    <tr>\n",
       "      <th>2012-10-02 00:00:00</th>\n",
       "      <td>few clouds</td>\n",
       "      <td>55.0</td>\n",
       "      <td>264.0</td>\n",
       "      <td>289.040311</td>\n",
       "      <td>1012.0</td>\n",
       "      <td>6.0</td>\n",
       "      <td>0</td>\n",
       "      <td>2012-10-02</td>\n",
       "      <td>10</td>\n",
       "      <td>2</td>\n",
       "    </tr>\n",
       "    <tr>\n",
       "      <th>2012-10-02 01:00:00</th>\n",
       "      <td>few clouds</td>\n",
       "      <td>54.0</td>\n",
       "      <td>264.0</td>\n",
       "      <td>289.119575</td>\n",
       "      <td>1012.0</td>\n",
       "      <td>6.0</td>\n",
       "      <td>0</td>\n",
       "      <td>2012-10-02</td>\n",
       "      <td>10</td>\n",
       "      <td>2</td>\n",
       "    </tr>\n",
       "    <tr>\n",
       "      <th>2012-10-02 02:00:00</th>\n",
       "      <td>few clouds</td>\n",
       "      <td>54.0</td>\n",
       "      <td>265.0</td>\n",
       "      <td>289.198838</td>\n",
       "      <td>1012.0</td>\n",
       "      <td>6.0</td>\n",
       "      <td>0</td>\n",
       "      <td>2012-10-02</td>\n",
       "      <td>10</td>\n",
       "      <td>2</td>\n",
       "    </tr>\n",
       "    <tr>\n",
       "      <th>2012-10-02 03:00:00</th>\n",
       "      <td>few clouds</td>\n",
       "      <td>54.0</td>\n",
       "      <td>265.0</td>\n",
       "      <td>289.278102</td>\n",
       "      <td>1012.0</td>\n",
       "      <td>6.0</td>\n",
       "      <td>0</td>\n",
       "      <td>2012-10-02</td>\n",
       "      <td>10</td>\n",
       "      <td>2</td>\n",
       "    </tr>\n",
       "    <tr>\n",
       "      <th>2012-10-02 04:00:00</th>\n",
       "      <td>few clouds</td>\n",
       "      <td>53.0</td>\n",
       "      <td>265.0</td>\n",
       "      <td>289.357365</td>\n",
       "      <td>1012.0</td>\n",
       "      <td>6.0</td>\n",
       "      <td>0</td>\n",
       "      <td>2012-10-02</td>\n",
       "      <td>10</td>\n",
       "      <td>2</td>\n",
       "    </tr>\n",
       "  </tbody>\n",
       "</table>\n",
       "</div>"
      ],
      "text/plain": [
       "                    weather_description  humidity  wind_direction  \\\n",
       "datetime                                                            \n",
       "2012-10-02 00:00:00          few clouds      55.0           264.0   \n",
       "2012-10-02 01:00:00          few clouds      54.0           264.0   \n",
       "2012-10-02 02:00:00          few clouds      54.0           265.0   \n",
       "2012-10-02 03:00:00          few clouds      54.0           265.0   \n",
       "2012-10-02 04:00:00          few clouds      53.0           265.0   \n",
       "\n",
       "                     temperature  pressure  wind_speed  rainny        date  \\\n",
       "datetime                                                                     \n",
       "2012-10-02 00:00:00   289.040311    1012.0         6.0       0  2012-10-02   \n",
       "2012-10-02 01:00:00   289.119575    1012.0         6.0       0  2012-10-02   \n",
       "2012-10-02 02:00:00   289.198838    1012.0         6.0       0  2012-10-02   \n",
       "2012-10-02 03:00:00   289.278102    1012.0         6.0       0  2012-10-02   \n",
       "2012-10-02 04:00:00   289.357365    1012.0         6.0       0  2012-10-02   \n",
       "\n",
       "                     month  day  \n",
       "datetime                         \n",
       "2012-10-02 00:00:00     10    2  \n",
       "2012-10-02 01:00:00     10    2  \n",
       "2012-10-02 02:00:00     10    2  \n",
       "2012-10-02 03:00:00     10    2  \n",
       "2012-10-02 04:00:00     10    2  "
      ]
     },
     "execution_count": 326,
     "metadata": {},
     "output_type": "execute_result"
    }
   ],
   "source": [
    "# downsample the data\n",
    "target_df=ny_df['2012-10-02':]\n",
    "# target_df.drop('weather_description',inplace=True)\n",
    "target_df['date']=pd.DatetimeIndex(target_df.index).date\n",
    "target_df['month']=pd.DatetimeIndex(target_df.index).month\n",
    "target_df['day']=pd.DatetimeIndex(target_df.index).day\n",
    "target_df.head()"
   ]
  },
  {
   "cell_type": "code",
   "execution_count": 327,
   "metadata": {
    "collapsed": false
   },
   "outputs": [],
   "source": [
    "# new_df_max=target_df[['humidity','wind_direction','temperature','pressure','wind_speed','date','month','day']].groupby('date').apply(max)\n",
    "# titles={'humidity':'humidity_max',\n",
    "#         'wind_direction':'wind_direction_max',\n",
    "#         'temperature':'temperature_max',\n",
    "#         'pressure':'pressure_max',\n",
    "#         'wind_speed':'wind_speed_max'\n",
    "#        }\n",
    "# new_df_max.rename(columns=titles, inplace=True)\n",
    "# new_df_max.head()"
   ]
  },
  {
   "cell_type": "code",
   "execution_count": 328,
   "metadata": {
    "collapsed": false
   },
   "outputs": [],
   "source": [
    "# new_df_min=target_df[['humidity','wind_direction','temperature','pressure','wind_speed','date','month','day']].groupby('date').min()\n",
    "# titles={'humidity':'humidity_min',\n",
    "#         'wind_direction':'wind_direction_min',\n",
    "#         'temperature':'temperature_min',\n",
    "#         'pressure':'pressure_min',\n",
    "#         'wind_speed':'wind_speed_min'\n",
    "#        }\n",
    "# new_df_min.rename(columns=titles, inplace=True)\n",
    "# new_df_min.head()"
   ]
  },
  {
   "cell_type": "code",
   "execution_count": 329,
   "metadata": {
    "collapsed": false
   },
   "outputs": [
    {
     "data": {
      "text/html": [
       "<div>\n",
       "<style scoped>\n",
       "    .dataframe tbody tr th:only-of-type {\n",
       "        vertical-align: middle;\n",
       "    }\n",
       "\n",
       "    .dataframe tbody tr th {\n",
       "        vertical-align: top;\n",
       "    }\n",
       "\n",
       "    .dataframe thead th {\n",
       "        text-align: right;\n",
       "    }\n",
       "</style>\n",
       "<table border=\"1\" class=\"dataframe\">\n",
       "  <thead>\n",
       "    <tr style=\"text-align: right;\">\n",
       "      <th></th>\n",
       "      <th>rain_count</th>\n",
       "      <th>label</th>\n",
       "    </tr>\n",
       "    <tr>\n",
       "      <th>date</th>\n",
       "      <th></th>\n",
       "      <th></th>\n",
       "    </tr>\n",
       "  </thead>\n",
       "  <tbody>\n",
       "    <tr>\n",
       "      <th>2012-10-02</th>\n",
       "      <td>0</td>\n",
       "      <td>0</td>\n",
       "    </tr>\n",
       "    <tr>\n",
       "      <th>2012-10-03</th>\n",
       "      <td>3</td>\n",
       "      <td>1</td>\n",
       "    </tr>\n",
       "    <tr>\n",
       "      <th>2012-10-04</th>\n",
       "      <td>5</td>\n",
       "      <td>1</td>\n",
       "    </tr>\n",
       "    <tr>\n",
       "      <th>2012-10-05</th>\n",
       "      <td>7</td>\n",
       "      <td>1</td>\n",
       "    </tr>\n",
       "    <tr>\n",
       "      <th>2012-10-06</th>\n",
       "      <td>0</td>\n",
       "      <td>0</td>\n",
       "    </tr>\n",
       "  </tbody>\n",
       "</table>\n",
       "</div>"
      ],
      "text/plain": [
       "            rain_count  label\n",
       "date                         \n",
       "2012-10-02           0      0\n",
       "2012-10-03           3      1\n",
       "2012-10-04           5      1\n",
       "2012-10-05           7      1\n",
       "2012-10-06           0      0"
      ]
     },
     "execution_count": 329,
     "metadata": {},
     "output_type": "execute_result"
    }
   ],
   "source": [
    "new_df_rain_label=target_df[['rainny','date']].groupby('date').sum()\n",
    "new_df_rain_label['label']=new_df_rain_label['rainny'].apply(lambda x: 1 if x>0 else 0)\n",
    "new_df_rain_label.rename(columns={'rainny':'rain_count'},inplace=True)\n",
    "new_df_rain_label.head()"
   ]
  },
  {
   "cell_type": "code",
   "execution_count": 316,
   "metadata": {
    "collapsed": false
   },
   "outputs": [
    {
     "data": {
      "text/html": [
       "<div>\n",
       "<style scoped>\n",
       "    .dataframe tbody tr th:only-of-type {\n",
       "        vertical-align: middle;\n",
       "    }\n",
       "\n",
       "    .dataframe tbody tr th {\n",
       "        vertical-align: top;\n",
       "    }\n",
       "\n",
       "    .dataframe thead th {\n",
       "        text-align: right;\n",
       "    }\n",
       "</style>\n",
       "<table border=\"1\" class=\"dataframe\">\n",
       "  <thead>\n",
       "    <tr style=\"text-align: right;\">\n",
       "      <th></th>\n",
       "      <th>humidity_max</th>\n",
       "      <th>wind_direction_max</th>\n",
       "      <th>temperature_max</th>\n",
       "      <th>pressure_max</th>\n",
       "      <th>wind_speed_max</th>\n",
       "      <th>date</th>\n",
       "      <th>month</th>\n",
       "      <th>day</th>\n",
       "      <th>humidity_min</th>\n",
       "      <th>wind_direction_min</th>\n",
       "      <th>temperature_min</th>\n",
       "      <th>pressure_min</th>\n",
       "      <th>wind_speed_min</th>\n",
       "      <th>month</th>\n",
       "      <th>day</th>\n",
       "      <th>rain_count</th>\n",
       "      <th>label</th>\n",
       "    </tr>\n",
       "    <tr>\n",
       "      <th>date</th>\n",
       "      <th></th>\n",
       "      <th></th>\n",
       "      <th></th>\n",
       "      <th></th>\n",
       "      <th></th>\n",
       "      <th></th>\n",
       "      <th></th>\n",
       "      <th></th>\n",
       "      <th></th>\n",
       "      <th></th>\n",
       "      <th></th>\n",
       "      <th></th>\n",
       "      <th></th>\n",
       "      <th></th>\n",
       "      <th></th>\n",
       "      <th></th>\n",
       "      <th></th>\n",
       "    </tr>\n",
       "  </thead>\n",
       "  <tbody>\n",
       "    <tr>\n",
       "      <th>2012-10-02</th>\n",
       "      <td>55.0</td>\n",
       "      <td>303.0</td>\n",
       "      <td>294.85</td>\n",
       "      <td>1013.0</td>\n",
       "      <td>6.0</td>\n",
       "      <td>2012-10-02</td>\n",
       "      <td>10</td>\n",
       "      <td>2</td>\n",
       "      <td>43.0</td>\n",
       "      <td>240.0</td>\n",
       "      <td>289.040311</td>\n",
       "      <td>1011.0</td>\n",
       "      <td>1.0</td>\n",
       "      <td>10</td>\n",
       "      <td>2</td>\n",
       "      <td>0</td>\n",
       "      <td>0</td>\n",
       "    </tr>\n",
       "    <tr>\n",
       "      <th>2012-10-03</th>\n",
       "      <td>100.0</td>\n",
       "      <td>330.0</td>\n",
       "      <td>292.88</td>\n",
       "      <td>1017.0</td>\n",
       "      <td>5.0</td>\n",
       "      <td>2012-10-03</td>\n",
       "      <td>10</td>\n",
       "      <td>3</td>\n",
       "      <td>46.0</td>\n",
       "      <td>0.0</td>\n",
       "      <td>288.540000</td>\n",
       "      <td>1014.0</td>\n",
       "      <td>0.0</td>\n",
       "      <td>10</td>\n",
       "      <td>3</td>\n",
       "      <td>3</td>\n",
       "      <td>1</td>\n",
       "    </tr>\n",
       "    <tr>\n",
       "      <th>2012-10-04</th>\n",
       "      <td>100.0</td>\n",
       "      <td>340.0</td>\n",
       "      <td>295.27</td>\n",
       "      <td>1018.0</td>\n",
       "      <td>3.0</td>\n",
       "      <td>2012-10-04</td>\n",
       "      <td>10</td>\n",
       "      <td>4</td>\n",
       "      <td>83.0</td>\n",
       "      <td>0.0</td>\n",
       "      <td>290.120000</td>\n",
       "      <td>1015.0</td>\n",
       "      <td>0.0</td>\n",
       "      <td>10</td>\n",
       "      <td>4</td>\n",
       "      <td>5</td>\n",
       "      <td>1</td>\n",
       "    </tr>\n",
       "    <tr>\n",
       "      <th>2012-10-05</th>\n",
       "      <td>100.0</td>\n",
       "      <td>170.0</td>\n",
       "      <td>296.27</td>\n",
       "      <td>1020.0</td>\n",
       "      <td>4.0</td>\n",
       "      <td>2012-10-05</td>\n",
       "      <td>10</td>\n",
       "      <td>5</td>\n",
       "      <td>78.0</td>\n",
       "      <td>0.0</td>\n",
       "      <td>291.580000</td>\n",
       "      <td>1017.0</td>\n",
       "      <td>0.0</td>\n",
       "      <td>10</td>\n",
       "      <td>5</td>\n",
       "      <td>7</td>\n",
       "      <td>1</td>\n",
       "    </tr>\n",
       "    <tr>\n",
       "      <th>2012-10-06</th>\n",
       "      <td>100.0</td>\n",
       "      <td>320.0</td>\n",
       "      <td>299.78</td>\n",
       "      <td>1018.0</td>\n",
       "      <td>4.0</td>\n",
       "      <td>2012-10-06</td>\n",
       "      <td>10</td>\n",
       "      <td>6</td>\n",
       "      <td>39.0</td>\n",
       "      <td>0.0</td>\n",
       "      <td>287.780000</td>\n",
       "      <td>1014.0</td>\n",
       "      <td>0.0</td>\n",
       "      <td>10</td>\n",
       "      <td>6</td>\n",
       "      <td>0</td>\n",
       "      <td>0</td>\n",
       "    </tr>\n",
       "  </tbody>\n",
       "</table>\n",
       "</div>"
      ],
      "text/plain": [
       "            humidity_max  wind_direction_max  temperature_max  pressure_max  \\\n",
       "date                                                                          \n",
       "2012-10-02          55.0               303.0           294.85        1013.0   \n",
       "2012-10-03         100.0               330.0           292.88        1017.0   \n",
       "2012-10-04         100.0               340.0           295.27        1018.0   \n",
       "2012-10-05         100.0               170.0           296.27        1020.0   \n",
       "2012-10-06         100.0               320.0           299.78        1018.0   \n",
       "\n",
       "            wind_speed_max        date  month  day  humidity_min  \\\n",
       "date                                                               \n",
       "2012-10-02             6.0  2012-10-02     10    2          43.0   \n",
       "2012-10-03             5.0  2012-10-03     10    3          46.0   \n",
       "2012-10-04             3.0  2012-10-04     10    4          83.0   \n",
       "2012-10-05             4.0  2012-10-05     10    5          78.0   \n",
       "2012-10-06             4.0  2012-10-06     10    6          39.0   \n",
       "\n",
       "            wind_direction_min  temperature_min  pressure_min  wind_speed_min  \\\n",
       "date                                                                            \n",
       "2012-10-02               240.0       289.040311        1011.0             1.0   \n",
       "2012-10-03                 0.0       288.540000        1014.0             0.0   \n",
       "2012-10-04                 0.0       290.120000        1015.0             0.0   \n",
       "2012-10-05                 0.0       291.580000        1017.0             0.0   \n",
       "2012-10-06                 0.0       287.780000        1014.0             0.0   \n",
       "\n",
       "            month  day  rain_count  label  \n",
       "date                                       \n",
       "2012-10-02     10    2           0      0  \n",
       "2012-10-03     10    3           3      1  \n",
       "2012-10-04     10    4           5      1  \n",
       "2012-10-05     10    5           7      1  \n",
       "2012-10-06     10    6           0      0  "
      ]
     },
     "execution_count": 316,
     "metadata": {},
     "output_type": "execute_result"
    }
   ],
   "source": [
    "downsampled_df= pd.concat([new_df_max,new_df_min,new_df_rain_label], axis=1)\n",
    "downsampled_df.head()"
   ]
  },
  {
   "cell_type": "code",
   "execution_count": 319,
   "metadata": {
    "collapsed": false
   },
   "outputs": [
    {
     "data": {
      "text/plain": [
       "<matplotlib.axes._subplots.AxesSubplot at 0x1616fc3c8>"
      ]
     },
     "execution_count": 319,
     "metadata": {},
     "output_type": "execute_result"
    },
    {
     "data": {
      "image/png": "[encoded data removed]",
      "text/plain": [
       "<Figure size 432x288 with 1 Axes>"
      ]
     },
     "metadata": {
      "needs_background": "light"
     },
     "output_type": "display_data"
    }
   ],
   "source": [
    "downsampled_df['rain_count'].plot()"
   ]
  },
  {
   "cell_type": "code",
   "execution_count": 165,
   "metadata": {
    "collapsed": false
   },
   "outputs": [
    {
     "name": "stdout",
     "output_type": "stream",
     "text": [
      "(1885, 16) (1885, 1)\n"
     ]
    }
   ],
   "source": [
    "interested_features=['humidity_max', 'temperature_max', 'wind_direction_max', 'wind_speed_max', 'pressure_max','humidity_min', 'temperature_min', 'wind_direction_min', 'wind_speed_min', 'pressure_min','month','day','rain_count','label']\n",
    "# interested_features=['humidity_max', 'temperature_max', 'wind_direction_max', 'wind_speed_max', 'pressure_max', 'month','rain_count']\n",
    "X = downsampled_df[interested_features].values\n",
    "y = downsampled_df[['label']].values\n",
    "X = X[:-1]\n",
    "y = y[1:] # target is label one timestep in the future\n",
    "print(X.shape,y.shape)"
   ]
  },
  {
   "cell_type": "code",
   "execution_count": 166,
   "metadata": {
    "collapsed": true
   },
   "outputs": [],
   "source": [
    "# use first 4 years as training and last year as test set\n",
    "X_scaled = preprocessing.scale(X)\n",
    "X_train, X_test = X_scaled[:len(X)-365],X_scaled[len(X)-365:]\n",
    "y_train, y_test = y[:len(X)-365],y[len(X)-365:]"
   ]
  },
  {
   "cell_type": "code",
   "execution_count": 167,
   "metadata": {
    "collapsed": false
   },
   "outputs": [
    {
     "name": "stderr",
     "output_type": "stream",
     "text": [
      "/usr/local/lib/python3.6/site-packages/sklearn/utils/validation.py:724: DataConversionWarning: A column-vector y was passed when a 1d array was expected. Please change the shape of y to (n_samples, ), for example using ravel().\n",
      "  y = column_or_1d(y, warn=True)\n"
     ]
    },
    {
     "name": "stdout",
     "output_type": "stream",
     "text": [
      "Accuracy: 0.6; Precision: 0.6049382716049383; Recall: 0.7461928934010152\n",
      "[[ 72  96]\n",
      " [ 50 147]]\n"
     ]
    },
    {
     "data": {
      "image/png": "[encoded data removed]",
      "text/plain": [
       "<Figure size 864x432 with 1 Axes>"
      ]
     },
     "metadata": {
      "needs_background": "light"
     },
     "output_type": "display_data"
    }
   ],
   "source": [
    "from sklearn.naive_bayes import GaussianNB\n",
    "# Assume the likelihood of the features is Gaussian\n",
    "from sklearn import metrics\n",
    "\n",
    "naive = GaussianNB()\n",
    "naive.fit(X_train,y_train)\n",
    "y_predicted_nb = naive.predict(X_test)\n",
    "acc = metrics.accuracy_score(y_test,y_predicted_nb)\n",
    "precision_score = metrics.precision_score(y_test,y_predicted_nb)\n",
    "recall_score = metrics.recall_score(y_test,y_predicted_nb)\n",
    "print('Accuracy: {}; Precision: {}; Recall: {}'.format(acc,precision_score,recall_score))\n",
    "print(metrics.confusion_matrix(y_test,y_predicted_nb))\n",
    "plot_roc(y_test,y_predicted_nb,'Naive Bayes')"
   ]
  },
  {
   "cell_type": "code",
   "execution_count": 168,
   "metadata": {
    "collapsed": false
   },
   "outputs": [
    {
     "name": "stderr",
     "output_type": "stream",
     "text": [
      "/usr/local/lib/python3.6/site-packages/sklearn/ensemble/forest.py:245: FutureWarning: The default value of n_estimators will change from 10 in version 0.20 to 100 in 0.22.\n",
      "  \"10 in version 0.20 to 100 in 0.22.\", FutureWarning)\n",
      "/usr/local/lib/python3.6/site-packages/ipykernel_launcher.py:3: DataConversionWarning: A column-vector y was passed when a 1d array was expected. Please change the shape of y to (n_samples,), for example using ravel().\n",
      "  This is separate from the ipykernel package so we can avoid doing imports until\n"
     ]
    },
    {
     "name": "stdout",
     "output_type": "stream",
     "text": [
      "Accuracy: 0.6575342465753424; Precision: 0.6730769230769231; Recall: 0.7106598984771574\n",
      "[[100  68]\n",
      " [ 57 140]]\n"
     ]
    },
    {
     "data": {
      "image/png": "[encoded data removed]",
      "text/plain": [
       "<Figure size 864x432 with 1 Axes>"
      ]
     },
     "metadata": {
      "needs_background": "light"
     },
     "output_type": "display_data"
    }
   ],
   "source": [
    "from sklearn.ensemble import RandomForestClassifier\n",
    "rfc = RandomForestClassifier()\n",
    "rfc.fit(X_train,y_train)\n",
    "y_predicted_rfc = rfc.predict(X_test)\n",
    "acc = metrics.accuracy_score(y_test,y_predicted_rfc)\n",
    "precision_score = metrics.precision_score(y_test,y_predicted_rfc)\n",
    "recall_score = metrics.recall_score(y_test,y_predicted_rfc)\n",
    "print('Accuracy: {}; Precision: {}; Recall: {}'.format(acc,precision_score,recall_score))\n",
    "print(metrics.confusion_matrix(y_test,y_predicted_rfc))\n",
    "plot_roc(y_test,y_predicted_rfc,'Random Forest')"
   ]
  },
  {
   "cell_type": "code",
   "execution_count": 170,
   "metadata": {
    "collapsed": false
   },
   "outputs": [
    {
     "name": "stderr",
     "output_type": "stream",
     "text": [
      "/usr/local/lib/python3.6/site-packages/sklearn/utils/validation.py:724: DataConversionWarning: A column-vector y was passed when a 1d array was expected. Please change the shape of y to (n_samples, ), for example using ravel().\n",
      "  y = column_or_1d(y, warn=True)\n",
      "/usr/local/lib/python3.6/site-packages/sklearn/svm/base.py:193: FutureWarning: The default value of gamma will change from 'auto' to 'scale' in version 0.22 to account better for unscaled features. Set gamma explicitly to 'auto' or 'scale' to avoid this warning.\n",
      "  \"avoid this warning.\", FutureWarning)\n"
     ]
    },
    {
     "name": "stdout",
     "output_type": "stream",
     "text": [
      "Accuracy: 0.6465753424657534; Precision: 0.6317829457364341; Recall: 0.8274111675126904\n",
      "[[ 73  95]\n",
      " [ 34 163]]\n"
     ]
    },
    {
     "data": {
      "image/png": "[encoded data removed]",
      "text/plain": [
       "<Figure size 864x432 with 1 Axes>"
      ]
     },
     "metadata": {
      "needs_background": "light"
     },
     "output_type": "display_data"
    }
   ],
   "source": [
    "from sklearn.svm import SVC, LinearSVC\n",
    "svc = SVC()\n",
    "svc.fit(X_train,y_train)\n",
    "y_predicted_svc = svc.predict(X_test)\n",
    "acc = metrics.accuracy_score(y_test,y_predicted_svc)\n",
    "precision_score = metrics.precision_score(y_test,y_predicted_svc)\n",
    "recall_score = metrics.recall_score(y_test,y_predicted_svc)\n",
    "print('Accuracy: {}; Precision: {}; Recall: {}'.format(acc,precision_score,recall_score))\n",
    "print(metrics.confusion_matrix(y_test,y_predicted_svc))\n",
    "plot_roc(y_test,y_predicted_svc,'SVM')"
   ]
  },
  {
   "cell_type": "code",
   "execution_count": 82,
   "metadata": {
    "collapsed": true
   },
   "outputs": [],
   "source": [
    "def plot_loss_history(history, start=None, end=None):\n",
    "    if start == None: start=1\n",
    "    if end == None: end=len(history.history['loss'])\n",
    "    assert start<end\n",
    "    assert end<=len(history.history['loss'])\n",
    "    # Get training and test loss histories\n",
    "    training_loss = history.history['loss'][start:end]\n",
    "    test_loss = history.history['val_loss'][start:end]\n",
    "\n",
    "    # Create count of the number of epochs\n",
    "    epoch_count = range(start, end)\n",
    "\n",
    "    # Visualize loss history\n",
    "    plt.plot(epoch_count, training_loss, 'r--')\n",
    "    plt.plot(epoch_count, test_loss, 'b-')\n",
    "    plt.legend(['Training Loss', 'Validation Loss'])\n",
    "    plt.xlabel('Epoch')\n",
    "    plt.ylabel('Loss')\n",
    "    plt.show();"
   ]
  },
  {
   "cell_type": "code",
   "execution_count": 80,
   "metadata": {
    "collapsed": true
   },
   "outputs": [],
   "source": [
    "def scale_features(start, end, source, target):\n",
    "#     print(target.shape)\n",
    "    feature_min = np.min(source[start:end], axis=0)\n",
    "    feature_max = np.max(source[start:end], axis=0)\n",
    "    denom_factor=np.subtract(feature_max,feature_min)\n",
    "#     print(feature_max)\n",
    "#     print(feature_min)\n",
    "#     print(denom_factor)\n",
    "    results = np.array([np.divide(np.subtract(x,feature_min),denom_factor) for x in target])\n",
    "#     print(results.shape)\n",
    "    return results\n",
    "# scale_features(34049, 34049+6009, X, Xval)"
   ]
  },
  {
   "cell_type": "code",
   "execution_count": 77,
   "metadata": {
    "collapsed": true
   },
   "outputs": [],
   "source": [
    "# generated windowed sequence inputs with [# timestep, # features]\n",
    "def generate_sequence_data(ts_x, ts_y, window_size):\n",
    "    inputs=[]\n",
    "    outputs=[]\n",
    "    for i in range(len(ts_x)-window_size):\n",
    "        sample=ts_x[i:i+window_size]\n",
    "        gt=ts_y[i+window_size-1]\n",
    "        inputs.append(sample)\n",
    "        outputs.append(gt)\n",
    "    return np.array(inputs), np.array(outputs)"
   ]
  },
  {
   "cell_type": "code",
   "execution_count": 171,
   "metadata": {
    "collapsed": false
   },
   "outputs": [
    {
     "name": "stdout",
     "output_type": "stream",
     "text": [
      "(1878, 7, 16)\n",
      "(1878, 1)\n"
     ]
    }
   ],
   "source": [
    "input_step=7 # past N days as input\n",
    "output_step=1 # next day\n",
    "sequence_inputs,sequence_labels = generate_sequence_data(X,y,input_step)\n",
    "print(sequence_inputs.shape)\n",
    "print(sequence_labels.shape)"
   ]
  },
  {
   "cell_type": "code",
   "execution_count": 172,
   "metadata": {
    "collapsed": false
   },
   "outputs": [
    {
     "name": "stdout",
     "output_type": "stream",
     "text": [
      "(1126, 7, 16)\n",
      "(1126, 1)\n",
      "(376, 7, 16)\n",
      "(376, 1)\n",
      "(376, 7, 16)\n",
      "(376, 1)\n"
     ]
    }
   ],
   "source": [
    "train=0.6\n",
    "val=0.2\n",
    "test=0.2\n",
    "train_idx=int(train*len(sequence_inputs))\n",
    "val_idx=int((train+val)*len(sequence_inputs))\n",
    "Xtrain, Xval, Xtest = sequence_inputs[:train_idx],sequence_inputs[train_idx:val_idx],sequence_inputs[val_idx:]\n",
    "ytrain, yval, ytest = sequence_labels[:train_idx],sequence_labels[train_idx:val_idx],sequence_labels[val_idx:]\n",
    "print(Xtrain.shape)\n",
    "print(ytrain.shape)\n",
    "print(Xval.shape)\n",
    "print(yval.shape)\n",
    "print(Xtest.shape)\n",
    "print(ytest.shape)"
   ]
  },
  {
   "cell_type": "code",
   "execution_count": 173,
   "metadata": {
    "collapsed": true
   },
   "outputs": [],
   "source": [
    "Xtrain_scaled = scale_features(0, Xtrain.shape[0], X, Xtrain)\n",
    "Xval_scaled = scale_features(Xtrain.shape[0], Xtrain.shape[0]+Xval.shape[0], X, Xval)\n",
    "Xtest_scaled = scale_features(Xtrain.shape[0]+Xval.shape[0], len(X), X, Xtest)"
   ]
  },
  {
   "cell_type": "markdown",
   "metadata": {},
   "source": [
    "### Method 1: vanilla LSTM"
   ]
  },
  {
   "cell_type": "code",
   "execution_count": 174,
   "metadata": {
    "collapsed": false
   },
   "outputs": [
    {
     "name": "stdout",
     "output_type": "stream",
     "text": [
      "Model: \"sequential_15\"\n",
      "_________________________________________________________________\n",
      "Layer (type)                 Output Shape              Param #   \n",
      "=================================================================\n",
      "lstm_12 (LSTM)               (None, 20)                2960      \n",
      "_________________________________________________________________\n",
      "dense_20 (Dense)             (None, 1)                 21        \n",
      "=================================================================\n",
      "Total params: 2,981\n",
      "Trainable params: 2,981\n",
      "Non-trainable params: 0\n",
      "_________________________________________________________________\n"
     ]
    }
   ],
   "source": [
    "# Build vanilla LSTM model\n",
    "lstm_model = tf.keras.Sequential()\n",
    "lstm_model.add(LSTM(20, activation='relu', input_shape=(Xtrain_scaled.shape[1], Xtrain_scaled.shape[2])))\n",
    "lstm_model.add(Dense(1, activation='sigmoid'))\n",
    "lstm_model.compile(optimizer='adam', loss='binary_crossentropy', metrics=['accuracy'])\n",
    "lstm_model.summary()"
   ]
  },
  {
   "cell_type": "code",
   "execution_count": 175,
   "metadata": {
    "collapsed": true
   },
   "outputs": [],
   "source": [
    "saved_model_path=os.path.join(os.getcwd(),'LSTM.hdf5')\n",
    "model_checkpoint_callback = tf.keras.callbacks.ModelCheckpoint(\n",
    "        filepath=saved_model_path,\n",
    "        save_best_only=True,\n",
    "        monitor='val_loss',\n",
    "        save_weights_only=True,\n",
    "        verbose=1\n",
    "    )"
   ]
  },
  {
   "cell_type": "code",
   "execution_count": 176,
   "metadata": {
    "collapsed": false
   },
   "outputs": [
    {
     "name": "stdout",
     "output_type": "stream",
     "text": [
      "Train on 1126 samples, validate on 376 samples\n",
      "Epoch 1/50\n",
      " 800/1126 [====================>.........] - ETA: 0s - loss: 0.6734 - accuracy: 0.5863\n",
      "Epoch 00001: val_loss improved from inf to 0.64287, saving model to /Users/tinawang/ml_experiments/new_york_rain_prediction/LSTM.hdf5\n",
      "1126/1126 [==============================] - 1s 1ms/sample - loss: 0.6723 - accuracy: 0.5835 - val_loss: 0.6429 - val_accuracy: 0.6330\n",
      "Epoch 2/50\n",
      " 800/1126 [====================>.........] - ETA: 0s - loss: 0.6642 - accuracy: 0.5700\n",
      "Epoch 00002: val_loss improved from 0.64287 to 0.62119, saving model to /Users/tinawang/ml_experiments/new_york_rain_prediction/LSTM.hdf5\n",
      "1126/1126 [==============================] - 0s 160us/sample - loss: 0.6568 - accuracy: 0.5861 - val_loss: 0.6212 - val_accuracy: 0.6330\n",
      "Epoch 3/50\n",
      " 864/1126 [======================>.......] - ETA: 0s - loss: 0.6456 - accuracy: 0.6146\n",
      "Epoch 00003: val_loss improved from 0.62119 to 0.60281, saving model to /Users/tinawang/ml_experiments/new_york_rain_prediction/LSTM.hdf5\n",
      "1126/1126 [==============================] - 0s 153us/sample - loss: 0.6405 - accuracy: 0.6297 - val_loss: 0.6028 - val_accuracy: 0.6410\n",
      "Epoch 4/50\n",
      "1056/1126 [===========================>..] - ETA: 0s - loss: 0.6177 - accuracy: 0.6610\n",
      "Epoch 00004: val_loss improved from 0.60281 to 0.59366, saving model to /Users/tinawang/ml_experiments/new_york_rain_prediction/LSTM.hdf5\n",
      "1126/1126 [==============================] - 0s 183us/sample - loss: 0.6196 - accuracy: 0.6572 - val_loss: 0.5937 - val_accuracy: 0.7021\n",
      "Epoch 5/50\n",
      " 832/1126 [=====================>........] - ETA: 0s - loss: 0.6083 - accuracy: 0.6779\n",
      "Epoch 00005: val_loss improved from 0.59366 to 0.58319, saving model to /Users/tinawang/ml_experiments/new_york_rain_prediction/LSTM.hdf5\n",
      "1126/1126 [==============================] - 0s 155us/sample - loss: 0.6066 - accuracy: 0.6838 - val_loss: 0.5832 - val_accuracy: 0.7101\n",
      "Epoch 6/50\n",
      " 864/1126 [======================>.......] - ETA: 0s - loss: 0.5933 - accuracy: 0.6852\n",
      "Epoch 00006: val_loss did not improve from 0.58319\n",
      "1126/1126 [==============================] - 0s 149us/sample - loss: 0.5987 - accuracy: 0.6741 - val_loss: 0.5931 - val_accuracy: 0.7128\n",
      "Epoch 7/50\n",
      " 864/1126 [======================>.......] - ETA: 0s - loss: 0.5894 - accuracy: 0.6933\n",
      "Epoch 00007: val_loss did not improve from 0.58319\n",
      "1126/1126 [==============================] - 0s 154us/sample - loss: 0.5870 - accuracy: 0.7007 - val_loss: 0.6231 - val_accuracy: 0.6809\n",
      "Epoch 8/50\n",
      " 864/1126 [======================>.......] - ETA: 0s - loss: 0.6024 - accuracy: 0.6759\n",
      "Epoch 00008: val_loss improved from 0.58319 to 0.57898, saving model to /Users/tinawang/ml_experiments/new_york_rain_prediction/LSTM.hdf5\n",
      "1126/1126 [==============================] - 0s 149us/sample - loss: 0.6065 - accuracy: 0.6696 - val_loss: 0.5790 - val_accuracy: 0.6862\n",
      "Epoch 9/50\n",
      " 864/1126 [======================>.......] - ETA: 0s - loss: 0.6014 - accuracy: 0.6736\n",
      "Epoch 00009: val_loss improved from 0.57898 to 0.57441, saving model to /Users/tinawang/ml_experiments/new_york_rain_prediction/LSTM.hdf5\n",
      "1126/1126 [==============================] - 0s 151us/sample - loss: 0.5882 - accuracy: 0.6892 - val_loss: 0.5744 - val_accuracy: 0.6941\n",
      "Epoch 10/50\n",
      " 896/1126 [======================>.......] - ETA: 0s - loss: 0.5794 - accuracy: 0.6987\n",
      "Epoch 00010: val_loss did not improve from 0.57441\n",
      "1126/1126 [==============================] - 0s 149us/sample - loss: 0.5819 - accuracy: 0.6945 - val_loss: 0.5942 - val_accuracy: 0.6995\n",
      "Epoch 11/50\n",
      " 864/1126 [======================>.......] - ETA: 0s - loss: 0.5697 - accuracy: 0.7083\n",
      "Epoch 00011: val_loss did not improve from 0.57441\n",
      "1126/1126 [==============================] - 0s 147us/sample - loss: 0.5763 - accuracy: 0.7025 - val_loss: 0.5774 - val_accuracy: 0.6835\n",
      "Epoch 12/50\n",
      " 928/1126 [=======================>......] - ETA: 0s - loss: 0.5653 - accuracy: 0.7058\n",
      "Epoch 00012: val_loss did not improve from 0.57441\n",
      "1126/1126 [==============================] - 0s 142us/sample - loss: 0.5720 - accuracy: 0.6998 - val_loss: 0.5855 - val_accuracy: 0.6835\n",
      "Epoch 13/50\n",
      " 928/1126 [=======================>......] - ETA: 0s - loss: 0.5765 - accuracy: 0.6983\n",
      "Epoch 00013: val_loss did not improve from 0.57441\n",
      "1126/1126 [==============================] - 0s 143us/sample - loss: 0.5728 - accuracy: 0.7034 - val_loss: 0.5758 - val_accuracy: 0.6782\n",
      "Epoch 14/50\n",
      " 864/1126 [======================>.......] - ETA: 0s - loss: 0.5656 - accuracy: 0.6991\n",
      "Epoch 00014: val_loss improved from 0.57441 to 0.57435, saving model to /Users/tinawang/ml_experiments/new_york_rain_prediction/LSTM.hdf5\n",
      "1126/1126 [==============================] - 0s 152us/sample - loss: 0.5674 - accuracy: 0.6980 - val_loss: 0.5743 - val_accuracy: 0.6941\n",
      "Epoch 15/50\n",
      "1120/1126 [============================>.] - ETA: 0s - loss: 0.5775 - accuracy: 0.6938\n",
      "Epoch 00015: val_loss did not improve from 0.57435\n",
      "1126/1126 [==============================] - 0s 179us/sample - loss: 0.5764 - accuracy: 0.6945 - val_loss: 0.5911 - val_accuracy: 0.6596\n",
      "Epoch 16/50\n",
      " 736/1126 [==================>...........] - ETA: 0s - loss: 0.5792 - accuracy: 0.7011\n",
      "Epoch 00016: val_loss did not improve from 0.57435\n",
      "1126/1126 [==============================] - 0s 166us/sample - loss: 0.5690 - accuracy: 0.7185 - val_loss: 0.5758 - val_accuracy: 0.6968\n",
      "Epoch 17/50\n",
      "1088/1126 [===========================>..] - ETA: 0s - loss: 0.5628 - accuracy: 0.7142\n",
      "Epoch 00017: val_loss did not improve from 0.57435\n",
      "1126/1126 [==============================] - 0s 176us/sample - loss: 0.5650 - accuracy: 0.7114 - val_loss: 0.5843 - val_accuracy: 0.6835\n",
      "Epoch 18/50\n",
      "1120/1126 [============================>.] - ETA: 0s - loss: 0.5636 - accuracy: 0.7018\n",
      "Epoch 00018: val_loss did not improve from 0.57435\n",
      "1126/1126 [==============================] - 0s 191us/sample - loss: 0.5626 - accuracy: 0.7034 - val_loss: 0.6141 - val_accuracy: 0.6915\n",
      "Epoch 19/50\n",
      " 864/1126 [======================>.......] - ETA: 0s - loss: 0.5615 - accuracy: 0.7130\n",
      "Epoch 00019: val_loss did not improve from 0.57435\n",
      "1126/1126 [==============================] - 0s 271us/sample - loss: 0.5576 - accuracy: 0.7211 - val_loss: 0.6028 - val_accuracy: 0.6915\n",
      "Epoch 20/50\n",
      " 800/1126 [====================>.........] - ETA: 0s - loss: 0.5567 - accuracy: 0.7163\n",
      "Epoch 00020: val_loss did not improve from 0.57435\n",
      "1126/1126 [==============================] - 0s 166us/sample - loss: 0.5565 - accuracy: 0.7149 - val_loss: 0.5870 - val_accuracy: 0.6888\n",
      "Epoch 21/50\n",
      " 864/1126 [======================>.......] - ETA: 0s - loss: 0.5723 - accuracy: 0.6991\n",
      "Epoch 00021: val_loss did not improve from 0.57435\n",
      "1126/1126 [==============================] - 0s 148us/sample - loss: 0.5599 - accuracy: 0.7096 - val_loss: 0.5829 - val_accuracy: 0.6835\n",
      "Epoch 22/50\n",
      " 864/1126 [======================>.......] - ETA: 0s - loss: 0.5760 - accuracy: 0.6782\n",
      "Epoch 00022: val_loss did not improve from 0.57435\n",
      "1126/1126 [==============================] - 0s 144us/sample - loss: 0.5591 - accuracy: 0.7016 - val_loss: 0.5860 - val_accuracy: 0.6968\n",
      "Epoch 23/50\n",
      " 928/1126 [=======================>......] - ETA: 0s - loss: 0.5515 - accuracy: 0.7209\n",
      "Epoch 00023: val_loss did not improve from 0.57435\n",
      "1126/1126 [==============================] - 0s 155us/sample - loss: 0.5519 - accuracy: 0.7149 - val_loss: 0.5855 - val_accuracy: 0.6915\n",
      "Epoch 24/50\n",
      " 832/1126 [=====================>........] - ETA: 0s - loss: 0.5462 - accuracy: 0.7260\n",
      "Epoch 00024: val_loss did not improve from 0.57435\n",
      "1126/1126 [==============================] - 0s 216us/sample - loss: 0.5539 - accuracy: 0.7211 - val_loss: 0.6385 - val_accuracy: 0.6782\n",
      "Epoch 25/50\n",
      " 928/1126 [=======================>......] - ETA: 0s - loss: 0.5449 - accuracy: 0.7166\n",
      "Epoch 00025: val_loss did not improve from 0.57435\n",
      "1126/1126 [==============================] - 0s 140us/sample - loss: 0.5478 - accuracy: 0.7167 - val_loss: 0.6724 - val_accuracy: 0.6596\n",
      "Epoch 26/50\n",
      " 928/1126 [=======================>......] - ETA: 0s - loss: 0.5548 - accuracy: 0.7101\n",
      "Epoch 00026: val_loss did not improve from 0.57435\n",
      "1126/1126 [==============================] - 0s 141us/sample - loss: 0.5534 - accuracy: 0.7131 - val_loss: 0.6034 - val_accuracy: 0.6835\n",
      "Epoch 27/50\n",
      " 928/1126 [=======================>......] - ETA: 0s - loss: 0.5423 - accuracy: 0.7134\n",
      "Epoch 00027: val_loss did not improve from 0.57435\n",
      "1126/1126 [==============================] - 0s 142us/sample - loss: 0.5436 - accuracy: 0.7167 - val_loss: 0.6606 - val_accuracy: 0.6755\n",
      "Epoch 28/50\n",
      " 960/1126 [========================>.....] - ETA: 0s - loss: 0.5507 - accuracy: 0.7104\n",
      "Epoch 00028: val_loss did not improve from 0.57435\n",
      "1126/1126 [==============================] - 0s 139us/sample - loss: 0.5496 - accuracy: 0.7096 - val_loss: 0.5966 - val_accuracy: 0.7074\n",
      "Epoch 29/50\n",
      " 960/1126 [========================>.....] - ETA: 0s - loss: 0.5642 - accuracy: 0.6979\n",
      "Epoch 00029: val_loss did not improve from 0.57435\n",
      "1126/1126 [==============================] - 0s 140us/sample - loss: 0.5487 - accuracy: 0.7176 - val_loss: 0.6027 - val_accuracy: 0.7021\n",
      "Epoch 30/50\n",
      " 896/1126 [======================>.......] - ETA: 0s - loss: 0.5366 - accuracy: 0.7143\n",
      "Epoch 00030: val_loss did not improve from 0.57435\n",
      "1126/1126 [==============================] - 0s 148us/sample - loss: 0.5454 - accuracy: 0.7096 - val_loss: 0.6663 - val_accuracy: 0.6436\n",
      "Epoch 31/50\n",
      " 832/1126 [=====================>........] - ETA: 0s - loss: 0.5609 - accuracy: 0.7043\n",
      "Epoch 00031: val_loss did not improve from 0.57435\n",
      "1126/1126 [==============================] - 0s 155us/sample - loss: 0.5514 - accuracy: 0.7167 - val_loss: 0.5912 - val_accuracy: 0.6995\n",
      "Epoch 32/50\n",
      " 832/1126 [=====================>........] - ETA: 0s - loss: 0.5422 - accuracy: 0.7224\n",
      "Epoch 00032: val_loss did not improve from 0.57435\n",
      "1126/1126 [==============================] - 0s 153us/sample - loss: 0.5472 - accuracy: 0.7185 - val_loss: 0.6105 - val_accuracy: 0.6862\n",
      "Epoch 33/50\n",
      "1056/1126 [===========================>..] - ETA: 0s - loss: 0.5390 - accuracy: 0.7244\n",
      "Epoch 00033: val_loss did not improve from 0.57435\n",
      "1126/1126 [==============================] - 0s 201us/sample - loss: 0.5412 - accuracy: 0.7202 - val_loss: 0.6167 - val_accuracy: 0.7074\n",
      "Epoch 34/50\n",
      "1056/1126 [===========================>..] - ETA: 0s - loss: 0.5486 - accuracy: 0.7121\n",
      "Epoch 00034: val_loss did not improve from 0.57435\n",
      "1126/1126 [==============================] - 0s 242us/sample - loss: 0.5524 - accuracy: 0.7078 - val_loss: 0.5985 - val_accuracy: 0.6968\n",
      "Epoch 35/50\n",
      " 928/1126 [=======================>......] - ETA: 0s - loss: 0.5349 - accuracy: 0.7317\n",
      "Epoch 00035: val_loss did not improve from 0.57435\n",
      "1126/1126 [==============================] - 0s 246us/sample - loss: 0.5417 - accuracy: 0.7256 - val_loss: 0.5967 - val_accuracy: 0.6676\n",
      "Epoch 36/50\n",
      "1056/1126 [===========================>..] - ETA: 0s - loss: 0.5452 - accuracy: 0.7206\n",
      "Epoch 00036: val_loss did not improve from 0.57435\n",
      "1126/1126 [==============================] - 0s 293us/sample - loss: 0.5476 - accuracy: 0.7185 - val_loss: 0.5970 - val_accuracy: 0.6729\n",
      "Epoch 37/50\n",
      " 896/1126 [======================>.......] - ETA: 0s - loss: 0.5385 - accuracy: 0.7176\n",
      "Epoch 00037: val_loss did not improve from 0.57435\n",
      "1126/1126 [==============================] - 0s 153us/sample - loss: 0.5421 - accuracy: 0.7087 - val_loss: 0.6220 - val_accuracy: 0.6941\n",
      "Epoch 38/50\n",
      " 928/1126 [=======================>......] - ETA: 0s - loss: 0.5309 - accuracy: 0.7349\n",
      "Epoch 00038: val_loss did not improve from 0.57435\n",
      "1126/1126 [==============================] - 0s 146us/sample - loss: 0.5376 - accuracy: 0.7256 - val_loss: 0.6739 - val_accuracy: 0.6729\n",
      "Epoch 39/50\n",
      " 960/1126 [========================>.....] - ETA: 0s - loss: 0.5332 - accuracy: 0.7198\n",
      "Epoch 00039: val_loss did not improve from 0.57435\n",
      "1126/1126 [==============================] - 0s 138us/sample - loss: 0.5382 - accuracy: 0.7247 - val_loss: 0.6548 - val_accuracy: 0.6649\n",
      "Epoch 40/50\n",
      " 928/1126 [=======================>......] - ETA: 0s - loss: 0.5312 - accuracy: 0.7306\n",
      "Epoch 00040: val_loss did not improve from 0.57435\n",
      "1126/1126 [==============================] - 0s 157us/sample - loss: 0.5342 - accuracy: 0.7274 - val_loss: 0.6245 - val_accuracy: 0.6968\n",
      "Epoch 41/50\n",
      " 896/1126 [======================>.......] - ETA: 0s - loss: 0.5367 - accuracy: 0.7176\n",
      "Epoch 00041: val_loss did not improve from 0.57435\n",
      "1126/1126 [==============================] - 0s 208us/sample - loss: 0.5335 - accuracy: 0.7247 - val_loss: 0.6896 - val_accuracy: 0.6755\n",
      "Epoch 42/50\n",
      " 864/1126 [======================>.......] - ETA: 0s - loss: 0.5287 - accuracy: 0.7269\n",
      "Epoch 00042: val_loss did not improve from 0.57435\n",
      "1126/1126 [==============================] - 0s 146us/sample - loss: 0.5351 - accuracy: 0.7256 - val_loss: 0.6566 - val_accuracy: 0.6676\n",
      "Epoch 43/50\n",
      " 928/1126 [=======================>......] - ETA: 0s - loss: 0.5287 - accuracy: 0.7252\n",
      "Epoch 00043: val_loss did not improve from 0.57435\n",
      "1126/1126 [==============================] - 0s 142us/sample - loss: 0.5285 - accuracy: 0.7300 - val_loss: 0.6723 - val_accuracy: 0.6729\n",
      "Epoch 44/50\n",
      " 928/1126 [=======================>......] - ETA: 0s - loss: 0.5421 - accuracy: 0.7220\n",
      "Epoch 00044: val_loss did not improve from 0.57435\n",
      "1126/1126 [==============================] - 0s 140us/sample - loss: 0.5325 - accuracy: 0.7274 - val_loss: 0.7210 - val_accuracy: 0.6622\n",
      "Epoch 45/50\n",
      " 928/1126 [=======================>......] - ETA: 0s - loss: 0.5280 - accuracy: 0.7295\n",
      "Epoch 00045: val_loss did not improve from 0.57435\n",
      "1126/1126 [==============================] - 0s 142us/sample - loss: 0.5272 - accuracy: 0.7336 - val_loss: 0.7185 - val_accuracy: 0.6463\n",
      "Epoch 46/50\n",
      " 960/1126 [========================>.....] - ETA: 0s - loss: 0.5284 - accuracy: 0.7312\n",
      "Epoch 00046: val_loss did not improve from 0.57435\n",
      "1126/1126 [==============================] - 0s 141us/sample - loss: 0.5261 - accuracy: 0.7256 - val_loss: 0.6685 - val_accuracy: 0.6755\n",
      "Epoch 47/50\n",
      " 928/1126 [=======================>......] - ETA: 0s - loss: 0.5406 - accuracy: 0.7241\n",
      "Epoch 00047: val_loss did not improve from 0.57435\n",
      "1126/1126 [==============================] - 0s 141us/sample - loss: 0.5470 - accuracy: 0.7185 - val_loss: 0.6061 - val_accuracy: 0.6809\n",
      "Epoch 48/50\n",
      " 928/1126 [=======================>......] - ETA: 0s - loss: 0.5341 - accuracy: 0.7209\n",
      "Epoch 00048: val_loss did not improve from 0.57435\n",
      "1126/1126 [==============================] - 0s 142us/sample - loss: 0.5350 - accuracy: 0.7238 - val_loss: 0.7363 - val_accuracy: 0.6596\n",
      "Epoch 49/50\n",
      " 928/1126 [=======================>......] - ETA: 0s - loss: 0.5262 - accuracy: 0.7252\n",
      "Epoch 00049: val_loss did not improve from 0.57435\n",
      "1126/1126 [==============================] - 0s 142us/sample - loss: 0.5266 - accuracy: 0.7256 - val_loss: 0.7719 - val_accuracy: 0.6463\n",
      "Epoch 50/50\n",
      " 928/1126 [=======================>......] - ETA: 0s - loss: 0.5312 - accuracy: 0.7403\n",
      "Epoch 00050: val_loss did not improve from 0.57435\n",
      "1126/1126 [==============================] - 0s 140us/sample - loss: 0.5330 - accuracy: 0.7362 - val_loss: 0.6430 - val_accuracy: 0.6915\n"
     ]
    }
   ],
   "source": [
    "lstm_history = lstm_model.fit(Xtrain_scaled,ytrain, epochs=50, validation_data=(Xval_scaled,yval), shuffle=True, callbacks=[model_checkpoint_callback])"
   ]
  },
  {
   "cell_type": "code",
   "execution_count": 177,
   "metadata": {
    "collapsed": false
   },
   "outputs": [
    {
     "data": {
      "image/png": "[encoded data removed]",
      "text/plain": [
       "<Figure size 432x288 with 1 Axes>"
      ]
     },
     "metadata": {
      "needs_background": "light"
     },
     "output_type": "display_data"
    }
   ],
   "source": [
    "plot_loss_history(lstm_history)"
   ]
  },
  {
   "cell_type": "code",
   "execution_count": 178,
   "metadata": {
    "collapsed": true
   },
   "outputs": [],
   "source": [
    "def output_consumer(predictions,threshold):\n",
    "#     print(predictions.shape)\n",
    "    flattened_pred=predictions.ravel()\n",
    "#     print(flattened_pred.shape)\n",
    "    results=[0 if x<threshold else 1 for x in flattened_pred]\n",
    "    return np.array(results)"
   ]
  },
  {
   "cell_type": "code",
   "execution_count": 179,
   "metadata": {
    "collapsed": false
   },
   "outputs": [
    {
     "name": "stdout",
     "output_type": "stream",
     "text": [
      "(376, 1)\n"
     ]
    }
   ],
   "source": [
    "# Now load the saved best model to use for inference\n",
    "lstm_model.load_weights(saved_model_path)\n",
    "predictions = lstm_model.predict(Xtest_scaled)\n",
    "print(predictions.shape)"
   ]
  },
  {
   "cell_type": "code",
   "execution_count": 180,
   "metadata": {
    "collapsed": false
   },
   "outputs": [
    {
     "name": "stdout",
     "output_type": "stream",
     "text": [
      "(376,)\n",
      "(376,)\n"
     ]
    }
   ],
   "source": [
    "threshold=0.5\n",
    "test_outputs=output_consumer(predictions,threshold)\n",
    "test_outputs=test_outputs.ravel()\n",
    "ytest=ytest.ravel()\n",
    "print(test_outputs.shape)\n",
    "print(ytest.shape)"
   ]
  },
  {
   "cell_type": "code",
   "execution_count": 181,
   "metadata": {
    "collapsed": false
   },
   "outputs": [
    {
     "name": "stdout",
     "output_type": "stream",
     "text": [
      "Accuracy: 0.6117021276595744; Precision: 0.6020408163265306; Recall: 0.8592233009708737\n",
      "[[ 53 117]\n",
      " [ 29 177]]\n"
     ]
    },
    {
     "data": {
      "image/png": "[encoded data removed]",
      "text/plain": [
       "<Figure size 864x432 with 1 Axes>"
      ]
     },
     "metadata": {
      "needs_background": "light"
     },
     "output_type": "display_data"
    }
   ],
   "source": [
    "# evaluate performance\n",
    "acc = metrics.accuracy_score(ytest,test_outputs)\n",
    "precision_score = metrics.precision_score(ytest,test_outputs)\n",
    "recall_score = metrics.recall_score(ytest,test_outputs)\n",
    "print('Accuracy: {}; Precision: {}; Recall: {}'.format(acc,precision_score,recall_score))\n",
    "print(metrics.confusion_matrix(ytest,test_outputs))\n",
    "plot_roc(ytest,test_outputs,'LSTM')"
   ]
  },
  {
   "cell_type": "markdown",
   "metadata": {},
   "source": [
    "#### Looks like both validation and test sets are performing okay with a vanilla LSTM, but it is actually worse than Random Forest Classifier or even just Naive Bayes. <br> Let's make the model a bit more complicated to see if the performance improves."
   ]
  },
  {
   "cell_type": "markdown",
   "metadata": {},
   "source": [
    "### Method 2: stacked LSTM"
   ]
  },
  {
   "cell_type": "code",
   "execution_count": 196,
   "metadata": {
    "collapsed": false
   },
   "outputs": [
    {
     "name": "stdout",
     "output_type": "stream",
     "text": [
      "Model: \"sequential_18\"\n",
      "_________________________________________________________________\n",
      "Layer (type)                 Output Shape              Param #   \n",
      "=================================================================\n",
      "lstm_15 (LSTM)               (None, 7, 50)             13400     \n",
      "_________________________________________________________________\n",
      "lstm_16 (LSTM)               (None, 20)                5680      \n",
      "_________________________________________________________________\n",
      "dense_24 (Dense)             (None, 1)                 21        \n",
      "=================================================================\n",
      "Total params: 19,101\n",
      "Trainable params: 19,101\n",
      "Non-trainable params: 0\n",
      "_________________________________________________________________\n"
     ]
    }
   ],
   "source": [
    "# Build stacked LSTM model\n",
    "stacked_lstm_model = tf.keras.Sequential()\n",
    "stacked_lstm_model.add(tf.keras.layers.LSTM(50, activation='relu', input_shape=(Xtrain_scaled.shape[1], Xtrain_scaled.shape[2]),return_sequences=True))\n",
    "stacked_lstm_model.add(tf.keras.layers.LSTM(20, activation='relu'))\n",
    "stacked_lstm_model.add(tf.keras.layers.Dense(1, activation='sigmoid'))\n",
    "stacked_lstm_model.compile(optimizer='adam', loss='binary_crossentropy', metrics=['accuracy'])\n",
    "stacked_lstm_model.summary()"
   ]
  },
  {
   "cell_type": "code",
   "execution_count": 197,
   "metadata": {
    "collapsed": false
   },
   "outputs": [],
   "source": [
    "saved_model_path=os.path.join(os.getcwd(),'stackedLSTM.hdf5')\n",
    "model_checkpoint_callback = tf.keras.callbacks.ModelCheckpoint(\n",
    "        filepath=saved_model_path,\n",
    "        save_best_only=True,\n",
    "        monitor='val_loss',\n",
    "        save_weights_only=True,\n",
    "        verbose=1\n",
    "    )"
   ]
  },
  {
   "cell_type": "code",
   "execution_count": 198,
   "metadata": {
    "collapsed": false
   },
   "outputs": [
    {
     "name": "stdout",
     "output_type": "stream",
     "text": [
      "Train on 1126 samples, validate on 376 samples\n",
      "Epoch 1/50\n",
      "1120/1126 [============================>.] - ETA: 0s - loss: 0.6753 - accuracy: 0.5821\n",
      "Epoch 00001: val_loss improved from inf to 0.65245, saving model to /Users/tinawang/ml_experiments/new_york_rain_prediction/stackedLSTM.hdf5\n",
      "1126/1126 [==============================] - 3s 2ms/sample - loss: 0.6745 - accuracy: 0.5835 - val_loss: 0.6524 - val_accuracy: 0.6330\n",
      "Epoch 2/50\n",
      " 960/1126 [========================>.....] - ETA: 0s - loss: 0.6615 - accuracy: 0.5813\n",
      "Epoch 00002: val_loss improved from 0.65245 to 0.64935, saving model to /Users/tinawang/ml_experiments/new_york_rain_prediction/stackedLSTM.hdf5\n",
      "1126/1126 [==============================] - 0s 265us/sample - loss: 0.6569 - accuracy: 0.5879 - val_loss: 0.6494 - val_accuracy: 0.6330\n",
      "Epoch 3/50\n",
      "1024/1126 [==========================>...] - ETA: 0s - loss: 0.6498 - accuracy: 0.6270\n",
      "Epoch 00003: val_loss improved from 0.64935 to 0.64229, saving model to /Users/tinawang/ml_experiments/new_york_rain_prediction/stackedLSTM.hdf5\n",
      "1126/1126 [==============================] - 0s 251us/sample - loss: 0.6517 - accuracy: 0.6243 - val_loss: 0.6423 - val_accuracy: 0.6356\n",
      "Epoch 4/50\n",
      "1024/1126 [==========================>...] - ETA: 0s - loss: 0.6397 - accuracy: 0.6318\n",
      "Epoch 00004: val_loss did not improve from 0.64229\n",
      "1126/1126 [==============================] - 0s 246us/sample - loss: 0.6490 - accuracy: 0.6243 - val_loss: 0.6423 - val_accuracy: 0.6117\n",
      "Epoch 5/50\n",
      " 992/1126 [=========================>....] - ETA: 0s - loss: 0.6476 - accuracy: 0.6472\n",
      "Epoch 00005: val_loss improved from 0.64229 to 0.63136, saving model to /Users/tinawang/ml_experiments/new_york_rain_prediction/stackedLSTM.hdf5\n",
      "1126/1126 [==============================] - 0s 255us/sample - loss: 0.6507 - accuracy: 0.6421 - val_loss: 0.6314 - val_accuracy: 0.6516\n",
      "Epoch 6/50\n",
      "1024/1126 [==========================>...] - ETA: 0s - loss: 0.6412 - accuracy: 0.6338\n",
      "Epoch 00006: val_loss improved from 0.63136 to 0.63034, saving model to /Users/tinawang/ml_experiments/new_york_rain_prediction/stackedLSTM.hdf5\n",
      "1126/1126 [==============================] - 0s 250us/sample - loss: 0.6363 - accuracy: 0.6412 - val_loss: 0.6303 - val_accuracy: 0.6303\n",
      "Epoch 7/50\n",
      " 992/1126 [=========================>....] - ETA: 0s - loss: 0.6419 - accuracy: 0.6341\n",
      "Epoch 00007: val_loss improved from 0.63034 to 0.62904, saving model to /Users/tinawang/ml_experiments/new_york_rain_prediction/stackedLSTM.hdf5\n",
      "1126/1126 [==============================] - 0s 256us/sample - loss: 0.6382 - accuracy: 0.6359 - val_loss: 0.6290 - val_accuracy: 0.6489\n",
      "Epoch 8/50\n",
      " 992/1126 [=========================>....] - ETA: 0s - loss: 0.6296 - accuracy: 0.6492\n",
      "Epoch 00008: val_loss improved from 0.62904 to 0.62829, saving model to /Users/tinawang/ml_experiments/new_york_rain_prediction/stackedLSTM.hdf5\n",
      "1126/1126 [==============================] - 0s 267us/sample - loss: 0.6309 - accuracy: 0.6448 - val_loss: 0.6283 - val_accuracy: 0.6516\n",
      "Epoch 9/50\n",
      " 992/1126 [=========================>....] - ETA: 0s - loss: 0.6227 - accuracy: 0.6522\n",
      "Epoch 00009: val_loss improved from 0.62829 to 0.60688, saving model to /Users/tinawang/ml_experiments/new_york_rain_prediction/stackedLSTM.hdf5\n",
      "1126/1126 [==============================] - 0s 260us/sample - loss: 0.6230 - accuracy: 0.6519 - val_loss: 0.6069 - val_accuracy: 0.6782\n",
      "Epoch 10/50\n",
      "1088/1126 [===========================>..] - ETA: 0s - loss: 0.6114 - accuracy: 0.6700\n",
      "Epoch 00010: val_loss improved from 0.60688 to 0.59063, saving model to /Users/tinawang/ml_experiments/new_york_rain_prediction/stackedLSTM.hdf5\n",
      "1126/1126 [==============================] - 0s 295us/sample - loss: 0.6109 - accuracy: 0.6696 - val_loss: 0.5906 - val_accuracy: 0.6676\n",
      "Epoch 11/50\n",
      " 928/1126 [=======================>......] - ETA: 0s - loss: 0.5825 - accuracy: 0.6897\n",
      "Epoch 00011: val_loss did not improve from 0.59063\n",
      "1126/1126 [==============================] - 0s 263us/sample - loss: 0.5889 - accuracy: 0.6794 - val_loss: 0.5940 - val_accuracy: 0.6809\n",
      "Epoch 12/50\n",
      " 992/1126 [=========================>....] - ETA: 0s - loss: 0.5802 - accuracy: 0.7067\n",
      "Epoch 00012: val_loss did not improve from 0.59063\n",
      "1126/1126 [==============================] - 0s 313us/sample - loss: 0.5855 - accuracy: 0.7034 - val_loss: 0.6530 - val_accuracy: 0.6676\n",
      "Epoch 13/50\n",
      "1056/1126 [===========================>..] - ETA: 0s - loss: 0.5934 - accuracy: 0.6970\n",
      "Epoch 00013: val_loss improved from 0.59063 to 0.58233, saving model to /Users/tinawang/ml_experiments/new_york_rain_prediction/stackedLSTM.hdf5\n",
      "1126/1126 [==============================] - 0s 311us/sample - loss: 0.5929 - accuracy: 0.6936 - val_loss: 0.5823 - val_accuracy: 0.6809\n",
      "Epoch 14/50\n",
      " 992/1126 [=========================>....] - ETA: 0s - loss: 0.5864 - accuracy: 0.7006\n",
      "Epoch 00014: val_loss did not improve from 0.58233\n",
      "1126/1126 [==============================] - 0s 286us/sample - loss: 0.5747 - accuracy: 0.7087 - val_loss: 0.5905 - val_accuracy: 0.6649\n",
      "Epoch 15/50\n",
      " 960/1126 [========================>.....] - ETA: 0s - loss: 0.5670 - accuracy: 0.7000\n",
      "Epoch 00015: val_loss did not improve from 0.58233\n",
      "1126/1126 [==============================] - 0s 390us/sample - loss: 0.5647 - accuracy: 0.7025 - val_loss: 0.5971 - val_accuracy: 0.6755\n",
      "Epoch 16/50\n",
      "1088/1126 [===========================>..] - ETA: 0s - loss: 0.5713 - accuracy: 0.7169\n",
      "Epoch 00016: val_loss did not improve from 0.58233\n",
      "1126/1126 [==============================] - 0s 357us/sample - loss: 0.5733 - accuracy: 0.7123 - val_loss: 0.5869 - val_accuracy: 0.6809\n",
      "Epoch 17/50\n",
      "1024/1126 [==========================>...] - ETA: 0s - loss: 0.5537 - accuracy: 0.7109\n",
      "Epoch 00017: val_loss did not improve from 0.58233\n",
      "1126/1126 [==============================] - 0s 312us/sample - loss: 0.5594 - accuracy: 0.7069 - val_loss: 0.6000 - val_accuracy: 0.6755\n",
      "Epoch 18/50\n",
      "1056/1126 [===========================>..] - ETA: 0s - loss: 0.5582 - accuracy: 0.7150\n",
      "Epoch 00018: val_loss did not improve from 0.58233\n",
      "1126/1126 [==============================] - 0s 375us/sample - loss: 0.5607 - accuracy: 0.7158 - val_loss: 0.5976 - val_accuracy: 0.6755\n",
      "Epoch 19/50\n",
      "1024/1126 [==========================>...] - ETA: 0s - loss: 0.5703 - accuracy: 0.7070\n",
      "Epoch 00019: val_loss did not improve from 0.58233\n",
      "1126/1126 [==============================] - 0s 374us/sample - loss: 0.5702 - accuracy: 0.7025 - val_loss: 0.6012 - val_accuracy: 0.6915\n",
      "Epoch 20/50\n",
      " 928/1126 [=======================>......] - ETA: 0s - loss: 0.5402 - accuracy: 0.7220\n",
      "Epoch 00020: val_loss did not improve from 0.58233\n",
      "1126/1126 [==============================] - 0s 277us/sample - loss: 0.5489 - accuracy: 0.7158 - val_loss: 0.6290 - val_accuracy: 0.6702\n",
      "Epoch 21/50\n",
      " 928/1126 [=======================>......] - ETA: 0s - loss: 0.5401 - accuracy: 0.7209\n",
      "Epoch 00021: val_loss did not improve from 0.58233\n",
      "1126/1126 [==============================] - 0s 388us/sample - loss: 0.5455 - accuracy: 0.7158 - val_loss: 0.6465 - val_accuracy: 0.6383\n",
      "Epoch 22/50\n",
      " 928/1126 [=======================>......] - ETA: 0s - loss: 0.5523 - accuracy: 0.7101\n",
      "Epoch 00022: val_loss did not improve from 0.58233\n",
      "1126/1126 [==============================] - 0s 262us/sample - loss: 0.5530 - accuracy: 0.7105 - val_loss: 0.5965 - val_accuracy: 0.6755\n",
      "Epoch 23/50\n",
      "1056/1126 [===========================>..] - ETA: 0s - loss: 0.5406 - accuracy: 0.7197\n",
      "Epoch 00023: val_loss did not improve from 0.58233\n",
      "1126/1126 [==============================] - 0s 239us/sample - loss: 0.5422 - accuracy: 0.7220 - val_loss: 0.6265 - val_accuracy: 0.6995\n",
      "Epoch 24/50\n",
      " 864/1126 [======================>.......] - ETA: 0s - loss: 0.5483 - accuracy: 0.7257\n",
      "Epoch 00024: val_loss did not improve from 0.58233\n",
      "1126/1126 [==============================] - 0s 228us/sample - loss: 0.5499 - accuracy: 0.7105 - val_loss: 0.6429 - val_accuracy: 0.6729\n",
      "Epoch 25/50\n",
      "1120/1126 [============================>.] - ETA: 0s - loss: 0.5397 - accuracy: 0.7259\n",
      "Epoch 00025: val_loss did not improve from 0.58233\n",
      "1126/1126 [==============================] - 0s 272us/sample - loss: 0.5387 - accuracy: 0.7265 - val_loss: 0.6111 - val_accuracy: 0.6888\n",
      "Epoch 26/50\n",
      "1056/1126 [===========================>..] - ETA: 0s - loss: 0.5301 - accuracy: 0.7263\n",
      "Epoch 00026: val_loss did not improve from 0.58233\n",
      "1126/1126 [==============================] - 1s 548us/sample - loss: 0.5298 - accuracy: 0.7274 - val_loss: 0.6298 - val_accuracy: 0.6543\n",
      "Epoch 27/50\n",
      "1120/1126 [============================>.] - ETA: 0s - loss: 0.5584 - accuracy: 0.7152\n",
      "Epoch 00027: val_loss did not improve from 0.58233\n",
      "1126/1126 [==============================] - 1s 463us/sample - loss: 0.5586 - accuracy: 0.7149 - val_loss: 0.6643 - val_accuracy: 0.6330\n",
      "Epoch 28/50\n",
      "1088/1126 [===========================>..] - ETA: 0s - loss: 0.5418 - accuracy: 0.7261\n",
      "Epoch 00028: val_loss did not improve from 0.58233\n",
      "1126/1126 [==============================] - 0s 403us/sample - loss: 0.5398 - accuracy: 0.7265 - val_loss: 0.6103 - val_accuracy: 0.6436\n",
      "Epoch 29/50\n",
      "1056/1126 [===========================>..] - ETA: 0s - loss: 0.5239 - accuracy: 0.7339\n",
      "Epoch 00029: val_loss did not improve from 0.58233\n",
      "1126/1126 [==============================] - 0s 241us/sample - loss: 0.5289 - accuracy: 0.7300 - val_loss: 0.6129 - val_accuracy: 0.6676\n",
      "Epoch 30/50\n",
      "1056/1126 [===========================>..] - ETA: 0s - loss: 0.5161 - accuracy: 0.7301\n",
      "Epoch 00030: val_loss did not improve from 0.58233\n",
      "1126/1126 [==============================] - 0s 239us/sample - loss: 0.5235 - accuracy: 0.7274 - val_loss: 0.6559 - val_accuracy: 0.6622\n",
      "Epoch 31/50\n",
      "1056/1126 [===========================>..] - ETA: 0s - loss: 0.5147 - accuracy: 0.7358\n",
      "Epoch 00031: val_loss did not improve from 0.58233\n",
      "1126/1126 [==============================] - 0s 238us/sample - loss: 0.5188 - accuracy: 0.7336 - val_loss: 0.6360 - val_accuracy: 0.6569\n",
      "Epoch 32/50\n",
      "1024/1126 [==========================>...] - ETA: 0s - loss: 0.5335 - accuracy: 0.7354\n",
      "Epoch 00032: val_loss did not improve from 0.58233\n",
      "1126/1126 [==============================] - 0s 240us/sample - loss: 0.5308 - accuracy: 0.7380 - val_loss: 0.6296 - val_accuracy: 0.6463\n",
      "Epoch 33/50\n",
      "1056/1126 [===========================>..] - ETA: 0s - loss: 0.5190 - accuracy: 0.7348\n",
      "Epoch 00033: val_loss did not improve from 0.58233\n",
      "1126/1126 [==============================] - 0s 242us/sample - loss: 0.5146 - accuracy: 0.7389 - val_loss: 0.6279 - val_accuracy: 0.6516\n",
      "Epoch 34/50\n",
      "1056/1126 [===========================>..] - ETA: 0s - loss: 0.5160 - accuracy: 0.7453\n",
      "Epoch 00034: val_loss did not improve from 0.58233\n",
      "1126/1126 [==============================] - 0s 237us/sample - loss: 0.5163 - accuracy: 0.7433 - val_loss: 0.7076 - val_accuracy: 0.6277\n",
      "Epoch 35/50\n",
      " 992/1126 [=========================>....] - ETA: 0s - loss: 0.5013 - accuracy: 0.7540\n",
      "Epoch 00035: val_loss did not improve from 0.58233\n",
      "1126/1126 [==============================] - 0s 257us/sample - loss: 0.5069 - accuracy: 0.7478 - val_loss: 0.6434 - val_accuracy: 0.6356\n",
      "Epoch 36/50\n",
      " 928/1126 [=======================>......] - ETA: 0s - loss: 0.5249 - accuracy: 0.7241\n",
      "Epoch 00036: val_loss did not improve from 0.58233\n",
      "1126/1126 [==============================] - 0s 264us/sample - loss: 0.5176 - accuracy: 0.7291 - val_loss: 0.6161 - val_accuracy: 0.6596\n",
      "Epoch 37/50\n",
      "1056/1126 [===========================>..] - ETA: 0s - loss: 0.5059 - accuracy: 0.7358\n",
      "Epoch 00037: val_loss did not improve from 0.58233\n",
      "1126/1126 [==============================] - 0s 238us/sample - loss: 0.5004 - accuracy: 0.7425 - val_loss: 0.6378 - val_accuracy: 0.6569\n",
      "Epoch 38/50\n",
      "1056/1126 [===========================>..] - ETA: 0s - loss: 0.4976 - accuracy: 0.7472\n",
      "Epoch 00038: val_loss did not improve from 0.58233\n",
      "1126/1126 [==============================] - 0s 237us/sample - loss: 0.4945 - accuracy: 0.7522 - val_loss: 0.6389 - val_accuracy: 0.6303\n",
      "Epoch 39/50\n",
      "1024/1126 [==========================>...] - ETA: 0s - loss: 0.4918 - accuracy: 0.7451\n",
      "Epoch 00039: val_loss did not improve from 0.58233\n",
      "1126/1126 [==============================] - 0s 239us/sample - loss: 0.4978 - accuracy: 0.7460 - val_loss: 0.6615 - val_accuracy: 0.6543\n",
      "Epoch 40/50\n",
      "1088/1126 [===========================>..] - ETA: 0s - loss: 0.4943 - accuracy: 0.7537\n",
      "Epoch 00040: val_loss did not improve from 0.58233\n",
      "1126/1126 [==============================] - 0s 235us/sample - loss: 0.4959 - accuracy: 0.7540 - val_loss: 0.6393 - val_accuracy: 0.6383\n",
      "Epoch 41/50\n",
      "1056/1126 [===========================>..] - ETA: 0s - loss: 0.4920 - accuracy: 0.7614\n",
      "Epoch 00041: val_loss did not improve from 0.58233\n",
      "1126/1126 [==============================] - 0s 239us/sample - loss: 0.4955 - accuracy: 0.7549 - val_loss: 0.6415 - val_accuracy: 0.6170\n",
      "Epoch 42/50\n",
      "1056/1126 [===========================>..] - ETA: 0s - loss: 0.4908 - accuracy: 0.7509\n",
      "Epoch 00042: val_loss did not improve from 0.58233\n",
      "1126/1126 [==============================] - 0s 237us/sample - loss: 0.4929 - accuracy: 0.7487 - val_loss: 0.6585 - val_accuracy: 0.6543\n",
      "Epoch 43/50\n",
      "1056/1126 [===========================>..] - ETA: 0s - loss: 0.4764 - accuracy: 0.7670\n",
      "Epoch 00043: val_loss did not improve from 0.58233\n",
      "1126/1126 [==============================] - 0s 239us/sample - loss: 0.4830 - accuracy: 0.7629 - val_loss: 0.6496 - val_accuracy: 0.6277\n",
      "Epoch 44/50\n",
      "1056/1126 [===========================>..] - ETA: 0s - loss: 0.4760 - accuracy: 0.7708\n",
      "Epoch 00044: val_loss did not improve from 0.58233\n",
      "1126/1126 [==============================] - 0s 236us/sample - loss: 0.4751 - accuracy: 0.7726 - val_loss: 0.6867 - val_accuracy: 0.6170\n",
      "Epoch 45/50\n",
      "1024/1126 [==========================>...] - ETA: 0s - loss: 0.4912 - accuracy: 0.7666\n",
      "Epoch 00045: val_loss did not improve from 0.58233\n",
      "1126/1126 [==============================] - 0s 243us/sample - loss: 0.4825 - accuracy: 0.7682 - val_loss: 0.6788 - val_accuracy: 0.6410\n",
      "Epoch 46/50\n",
      "1056/1126 [===========================>..] - ETA: 0s - loss: 0.4723 - accuracy: 0.7595\n",
      "Epoch 00046: val_loss did not improve from 0.58233\n",
      "1126/1126 [==============================] - 0s 242us/sample - loss: 0.4722 - accuracy: 0.7567 - val_loss: 0.6755 - val_accuracy: 0.6330\n",
      "Epoch 47/50\n",
      "1056/1126 [===========================>..] - ETA: 0s - loss: 0.4583 - accuracy: 0.7633\n",
      "Epoch 00047: val_loss did not improve from 0.58233\n",
      "1126/1126 [==============================] - 0s 239us/sample - loss: 0.4669 - accuracy: 0.7602 - val_loss: 0.6939 - val_accuracy: 0.6250\n",
      "Epoch 48/50\n",
      "1056/1126 [===========================>..] - ETA: 0s - loss: 0.4633 - accuracy: 0.7642\n",
      "Epoch 00048: val_loss did not improve from 0.58233\n",
      "1126/1126 [==============================] - 0s 237us/sample - loss: 0.4578 - accuracy: 0.7700 - val_loss: 0.7055 - val_accuracy: 0.6223\n",
      "Epoch 49/50\n",
      "1056/1126 [===========================>..] - ETA: 0s - loss: 0.4533 - accuracy: 0.7850\n",
      "Epoch 00049: val_loss did not improve from 0.58233\n",
      "1126/1126 [==============================] - 0s 243us/sample - loss: 0.4543 - accuracy: 0.7824 - val_loss: 0.6742 - val_accuracy: 0.6197\n",
      "Epoch 50/50\n",
      " 960/1126 [========================>.....] - ETA: 0s - loss: 0.4367 - accuracy: 0.7844\n",
      "Epoch 00050: val_loss did not improve from 0.58233\n",
      "1126/1126 [==============================] - 0s 276us/sample - loss: 0.4503 - accuracy: 0.7780 - val_loss: 0.7250 - val_accuracy: 0.6090\n"
     ]
    }
   ],
   "source": [
    "stacked_lstm_history = stacked_lstm_model.fit(Xtrain_scaled,ytrain, epochs=50, validation_data=(Xval_scaled,yval), shuffle=True, callbacks=[model_checkpoint_callback])"
   ]
  },
  {
   "cell_type": "code",
   "execution_count": 185,
   "metadata": {
    "collapsed": false
   },
   "outputs": [
    {
     "data": {
      "image/png": "[encoded data removed]",
      "text/plain": [
       "<Figure size 432x288 with 1 Axes>"
      ]
     },
     "metadata": {
      "needs_background": "light"
     },
     "output_type": "display_data"
    }
   ],
   "source": [
    "plot_loss_history(stacked_lstm_history)"
   ]
  },
  {
   "cell_type": "code",
   "execution_count": 186,
   "metadata": {
    "collapsed": true
   },
   "outputs": [],
   "source": [
    "# Now load the saved best model to use for inference\n",
    "stacked_lstm_model.load_weights(saved_model_path)\n",
    "predictions = stacked_lstm_model.predict(Xtest_scaled)"
   ]
  },
  {
   "cell_type": "code",
   "execution_count": 187,
   "metadata": {
    "collapsed": false
   },
   "outputs": [
    {
     "name": "stdout",
     "output_type": "stream",
     "text": [
      "(376,)\n",
      "(376,)\n"
     ]
    }
   ],
   "source": [
    "threshold=0.5\n",
    "test_outputs=output_consumer(predictions,threshold)\n",
    "test_outputs=test_outputs.ravel()\n",
    "ytest=ytest.ravel()\n",
    "print(test_outputs.shape)\n",
    "print(ytest.shape)"
   ]
  },
  {
   "cell_type": "code",
   "execution_count": 188,
   "metadata": {
    "collapsed": false
   },
   "outputs": [
    {
     "name": "stdout",
     "output_type": "stream",
     "text": [
      "Accuracy: 0.6648936170212766; Precision: 0.6515151515151515; Recall: 0.8349514563106796\n",
      "[[ 78  92]\n",
      " [ 34 172]]\n"
     ]
    },
    {
     "data": {
      "image/png": "[encoded data removed]",
      "text/plain": [
       "<Figure size 864x432 with 1 Axes>"
      ]
     },
     "metadata": {
      "needs_background": "light"
     },
     "output_type": "display_data"
    }
   ],
   "source": [
    "# evaluate performance\n",
    "acc = metrics.accuracy_score(ytest,test_outputs)\n",
    "precision_score = metrics.precision_score(ytest,test_outputs)\n",
    "recall_score = metrics.recall_score(ytest,test_outputs)\n",
    "print('Accuracy: {}; Precision: {}; Recall: {}'.format(acc,precision_score,recall_score))\n",
    "print(metrics.confusion_matrix(ytest,test_outputs))\n",
    "plot_roc(ytest,test_outputs,'stackedLSTM')"
   ]
  },
  {
   "cell_type": "markdown",
   "metadata": {},
   "source": [
    "Addding more layers does seem to help on the performance. But can we do better?"
   ]
  },
  {
   "cell_type": "markdown",
   "metadata": {},
   "source": [
    "### Method 3:  CNN"
   ]
  },
  {
   "cell_type": "code",
   "execution_count": 263,
   "metadata": {
    "collapsed": false
   },
   "outputs": [
    {
     "name": "stdout",
     "output_type": "stream",
     "text": [
      "Model: \"sequential_31\"\n",
      "_________________________________________________________________\n",
      "Layer (type)                 Output Shape              Param #   \n",
      "=================================================================\n",
      "conv1d_22 (Conv1D)           (None, 5, 64)             3136      \n",
      "_________________________________________________________________\n",
      "max_pooling1d_19 (MaxPooling (None, 2, 64)             0         \n",
      "_________________________________________________________________\n",
      "flatten_17 (Flatten)         (None, 128)               0         \n",
      "_________________________________________________________________\n",
      "dense_46 (Dense)             (None, 50)                6450      \n",
      "_________________________________________________________________\n",
      "dense_47 (Dense)             (None, 1)                 51        \n",
      "=================================================================\n",
      "Total params: 9,637\n",
      "Trainable params: 9,637\n",
      "Non-trainable params: 0\n",
      "_________________________________________________________________\n"
     ]
    }
   ],
   "source": [
    "# Build CNN model\n",
    "cnn_model = tf.keras.Sequential()\n",
    "cnn_model.add(Conv1D(filters=64, kernel_size=3, activation='relu', input_shape=(Xtrain_scaled.shape[1], Xtrain_scaled.shape[2])))\n",
    "cnn_model.add(MaxPool1D(pool_size=2))\n",
    "cnn_model.add(Flatten())\n",
    "cnn_model.add(Dense(50, activation='relu'))\n",
    "cnn_model.add(Dense(1,activation='sigmoid'))\n",
    "cnn_model.compile(optimizer='adam', loss='binary_crossentropy', metrics=['accuracy'])\n",
    "cnn_model.summary()"
   ]
  },
  {
   "cell_type": "code",
   "execution_count": 264,
   "metadata": {
    "collapsed": true
   },
   "outputs": [],
   "source": [
    "saved_model_path=os.path.join(os.getcwd(),'CNN.hdf5')\n",
    "model_checkpoint_callback = tf.keras.callbacks.ModelCheckpoint(\n",
    "        filepath=saved_model_path,\n",
    "        save_best_only=True,\n",
    "        monitor='val_loss',\n",
    "        save_weights_only=True,\n",
    "        verbose=1\n",
    "    )"
   ]
  },
  {
   "cell_type": "code",
   "execution_count": 265,
   "metadata": {
    "collapsed": false
   },
   "outputs": [
    {
     "name": "stdout",
     "output_type": "stream",
     "text": [
      "Train on 1126 samples, validate on 376 samples\n",
      "Epoch 1/50\n",
      " 992/1126 [=========================>....] - ETA: 0s - loss: 0.6695 - accuracy: 0.5887 \n",
      "Epoch 00001: val_loss improved from inf to 0.64338, saving model to /Users/tinawang/ml_experiments/new_york_rain_prediction/CNN.hdf5\n",
      "1126/1126 [==============================] - 1s 489us/sample - loss: 0.6678 - accuracy: 0.5897 - val_loss: 0.6434 - val_accuracy: 0.6303\n",
      "Epoch 2/50\n",
      " 864/1126 [======================>.......] - ETA: 0s - loss: 0.6557 - accuracy: 0.6215\n",
      "Epoch 00002: val_loss improved from 0.64338 to 0.64028, saving model to /Users/tinawang/ml_experiments/new_york_rain_prediction/CNN.hdf5\n",
      "1126/1126 [==============================] - 0s 91us/sample - loss: 0.6527 - accuracy: 0.6243 - val_loss: 0.6403 - val_accuracy: 0.6250\n",
      "Epoch 3/50\n",
      " 768/1126 [===================>..........] - ETA: 0s - loss: 0.6501 - accuracy: 0.6198\n",
      "Epoch 00003: val_loss improved from 0.64028 to 0.63567, saving model to /Users/tinawang/ml_experiments/new_york_rain_prediction/CNN.hdf5\n",
      "1126/1126 [==============================] - 0s 96us/sample - loss: 0.6462 - accuracy: 0.6261 - val_loss: 0.6357 - val_accuracy: 0.6330\n",
      "Epoch 4/50\n",
      " 832/1126 [=====================>........] - ETA: 0s - loss: 0.6467 - accuracy: 0.6226\n",
      "Epoch 00004: val_loss did not improve from 0.63567\n",
      "1126/1126 [==============================] - 0s 85us/sample - loss: 0.6424 - accuracy: 0.6314 - val_loss: 0.6370 - val_accuracy: 0.6250\n",
      "Epoch 5/50\n",
      " 832/1126 [=====================>........] - ETA: 0s - loss: 0.6362 - accuracy: 0.6466\n",
      "Epoch 00005: val_loss did not improve from 0.63567\n",
      "1126/1126 [==============================] - 0s 84us/sample - loss: 0.6335 - accuracy: 0.6421 - val_loss: 0.6380 - val_accuracy: 0.6250\n",
      "Epoch 6/50\n",
      " 832/1126 [=====================>........] - ETA: 0s - loss: 0.6200 - accuracy: 0.6623\n",
      "Epoch 00006: val_loss did not improve from 0.63567\n",
      "1126/1126 [==============================] - 0s 88us/sample - loss: 0.6309 - accuracy: 0.6519 - val_loss: 0.6835 - val_accuracy: 0.5824\n",
      "Epoch 7/50\n",
      " 672/1126 [================>.............] - ETA: 0s - loss: 0.6436 - accuracy: 0.6146\n",
      "Epoch 00007: val_loss did not improve from 0.63567\n",
      "1126/1126 [==============================] - 0s 94us/sample - loss: 0.6430 - accuracy: 0.6226 - val_loss: 0.6372 - val_accuracy: 0.6277\n",
      "Epoch 8/50\n",
      " 864/1126 [======================>.......] - ETA: 0s - loss: 0.6381 - accuracy: 0.6296\n",
      "Epoch 00008: val_loss improved from 0.63567 to 0.63499, saving model to /Users/tinawang/ml_experiments/new_york_rain_prediction/CNN.hdf5\n",
      "1126/1126 [==============================] - 0s 90us/sample - loss: 0.6381 - accuracy: 0.6332 - val_loss: 0.6350 - val_accuracy: 0.6436\n",
      "Epoch 9/50\n",
      " 768/1126 [===================>..........] - ETA: 0s - loss: 0.6208 - accuracy: 0.6680\n",
      "Epoch 00009: val_loss improved from 0.63499 to 0.63466, saving model to /Users/tinawang/ml_experiments/new_york_rain_prediction/CNN.hdf5\n",
      "1126/1126 [==============================] - 0s 97us/sample - loss: 0.6229 - accuracy: 0.6616 - val_loss: 0.6347 - val_accuracy: 0.6463\n",
      "Epoch 10/50\n",
      " 800/1126 [====================>.........] - ETA: 0s - loss: 0.6364 - accuracy: 0.6400\n",
      "Epoch 00010: val_loss did not improve from 0.63466\n",
      "1126/1126 [==============================] - 0s 88us/sample - loss: 0.6182 - accuracy: 0.6616 - val_loss: 0.6365 - val_accuracy: 0.6436\n",
      "Epoch 11/50\n",
      " 832/1126 [=====================>........] - ETA: 0s - loss: 0.6282 - accuracy: 0.6526\n",
      "Epoch 00011: val_loss did not improve from 0.63466\n",
      "1126/1126 [==============================] - 0s 88us/sample - loss: 0.6229 - accuracy: 0.6536 - val_loss: 0.6368 - val_accuracy: 0.6436\n",
      "Epoch 12/50\n",
      " 736/1126 [==================>...........] - ETA: 0s - loss: 0.6167 - accuracy: 0.6793\n",
      "Epoch 00012: val_loss did not improve from 0.63466\n",
      "1126/1126 [==============================] - 0s 93us/sample - loss: 0.6147 - accuracy: 0.6732 - val_loss: 0.6374 - val_accuracy: 0.6277\n",
      "Epoch 13/50\n",
      " 640/1126 [================>.............] - ETA: 0s - loss: 0.6013 - accuracy: 0.6781\n",
      "Epoch 00013: val_loss did not improve from 0.63466\n",
      "1126/1126 [==============================] - 0s 132us/sample - loss: 0.6043 - accuracy: 0.6821 - val_loss: 0.6489 - val_accuracy: 0.6277\n",
      "Epoch 14/50\n",
      " 736/1126 [==================>...........] - ETA: 0s - loss: 0.6002 - accuracy: 0.6793\n",
      "Epoch 00014: val_loss did not improve from 0.63466\n",
      "1126/1126 [==============================] - 0s 189us/sample - loss: 0.5966 - accuracy: 0.6856 - val_loss: 0.6357 - val_accuracy: 0.6543\n",
      "Epoch 15/50\n",
      "1120/1126 [============================>.] - ETA: 0s - loss: 0.5921 - accuracy: 0.6920\n",
      "Epoch 00015: val_loss did not improve from 0.63466\n",
      "1126/1126 [==============================] - 0s 122us/sample - loss: 0.5933 - accuracy: 0.6909 - val_loss: 0.6450 - val_accuracy: 0.6144\n",
      "Epoch 16/50\n",
      " 768/1126 [===================>..........] - ETA: 0s - loss: 0.5940 - accuracy: 0.6875\n",
      "Epoch 00016: val_loss did not improve from 0.63466\n",
      "1126/1126 [==============================] - 0s 206us/sample - loss: 0.5866 - accuracy: 0.6874 - val_loss: 0.6710 - val_accuracy: 0.6277\n",
      "Epoch 17/50\n",
      " 960/1126 [========================>.....] - ETA: 0s - loss: 0.5767 - accuracy: 0.7000\n",
      "Epoch 00017: val_loss did not improve from 0.63466\n",
      "1126/1126 [==============================] - 0s 134us/sample - loss: 0.5774 - accuracy: 0.6998 - val_loss: 0.6646 - val_accuracy: 0.6064\n",
      "Epoch 18/50\n",
      " 768/1126 [===================>..........] - ETA: 0s - loss: 0.5679 - accuracy: 0.7148\n",
      "Epoch 00018: val_loss did not improve from 0.63466\n",
      "1126/1126 [==============================] - 0s 88us/sample - loss: 0.5724 - accuracy: 0.7105 - val_loss: 0.6704 - val_accuracy: 0.6170\n",
      "Epoch 19/50\n",
      " 832/1126 [=====================>........] - ETA: 0s - loss: 0.5581 - accuracy: 0.7127\n",
      "Epoch 00019: val_loss did not improve from 0.63466\n",
      "1126/1126 [==============================] - 0s 87us/sample - loss: 0.5661 - accuracy: 0.7052 - val_loss: 0.6502 - val_accuracy: 0.6250\n",
      "Epoch 20/50\n",
      " 768/1126 [===================>..........] - ETA: 0s - loss: 0.5776 - accuracy: 0.7109\n",
      "Epoch 00020: val_loss did not improve from 0.63466\n",
      "1126/1126 [==============================] - 0s 88us/sample - loss: 0.5670 - accuracy: 0.7194 - val_loss: 0.6570 - val_accuracy: 0.6170\n",
      "Epoch 21/50\n",
      " 832/1126 [=====================>........] - ETA: 0s - loss: 0.5565 - accuracy: 0.7236\n",
      "Epoch 00021: val_loss did not improve from 0.63466\n",
      "1126/1126 [==============================] - 0s 88us/sample - loss: 0.5570 - accuracy: 0.7265 - val_loss: 0.6962 - val_accuracy: 0.6064\n",
      "Epoch 22/50\n",
      " 736/1126 [==================>...........] - ETA: 0s - loss: 0.5471 - accuracy: 0.7378\n",
      "Epoch 00022: val_loss did not improve from 0.63466\n",
      "1126/1126 [==============================] - 0s 104us/sample - loss: 0.5422 - accuracy: 0.7442 - val_loss: 0.7270 - val_accuracy: 0.5824\n",
      "Epoch 23/50\n",
      " 672/1126 [================>.............] - ETA: 0s - loss: 0.5366 - accuracy: 0.7426\n",
      "Epoch 00023: val_loss did not improve from 0.63466\n",
      "1126/1126 [==============================] - 0s 108us/sample - loss: 0.5391 - accuracy: 0.7353 - val_loss: 0.7483 - val_accuracy: 0.5585\n",
      "Epoch 24/50\n",
      " 704/1126 [=================>............] - ETA: 0s - loss: 0.5329 - accuracy: 0.7500\n",
      "Epoch 00024: val_loss did not improve from 0.63466\n",
      "1126/1126 [==============================] - 0s 101us/sample - loss: 0.5331 - accuracy: 0.7398 - val_loss: 0.6905 - val_accuracy: 0.5771\n",
      "Epoch 25/50\n",
      "  32/1126 [..............................] - ETA: 0s - loss: 0.4594 - accuracy: 0.7812\n",
      "Epoch 00025: val_loss did not improve from 0.63466\n",
      "1126/1126 [==============================] - 0s 61us/sample - loss: 0.5194 - accuracy: 0.7655 - val_loss: 0.7008 - val_accuracy: 0.5904\n",
      "Epoch 26/50\n",
      "  32/1126 [..............................] - ETA: 0s - loss: 0.6117 - accuracy: 0.6875\n",
      "Epoch 00026: val_loss did not improve from 0.63466\n",
      "1126/1126 [==============================] - 0s 56us/sample - loss: 0.5089 - accuracy: 0.7638 - val_loss: 0.6924 - val_accuracy: 0.6037\n",
      "Epoch 27/50\n",
      "  32/1126 [..............................] - ETA: 0s - loss: 0.3782 - accuracy: 0.8750\n",
      "Epoch 00027: val_loss did not improve from 0.63466\n",
      "1126/1126 [==============================] - 0s 64us/sample - loss: 0.4962 - accuracy: 0.7726 - val_loss: 0.7501 - val_accuracy: 0.5638\n",
      "Epoch 28/50\n",
      "  32/1126 [..............................] - ETA: 0s - loss: 0.3937 - accuracy: 0.9062\n",
      "Epoch 00028: val_loss did not improve from 0.63466\n",
      "1126/1126 [==============================] - 0s 58us/sample - loss: 0.4900 - accuracy: 0.7735 - val_loss: 0.7345 - val_accuracy: 0.5851\n",
      "Epoch 29/50\n",
      "1120/1126 [============================>.] - ETA: 0s - loss: 0.4984 - accuracy: 0.7786\n",
      "Epoch 00029: val_loss did not improve from 0.63466\n",
      "1126/1126 [==============================] - 0s 65us/sample - loss: 0.4989 - accuracy: 0.7780 - val_loss: 0.7786 - val_accuracy: 0.5346\n",
      "Epoch 30/50\n",
      "  32/1126 [..............................] - ETA: 0s - loss: 0.4222 - accuracy: 0.8438\n",
      "Epoch 00030: val_loss did not improve from 0.63466\n",
      "1126/1126 [==============================] - 0s 62us/sample - loss: 0.4793 - accuracy: 0.7842 - val_loss: 0.8216 - val_accuracy: 0.5319\n",
      "Epoch 31/50\n",
      "  32/1126 [..............................] - ETA: 0s - loss: 0.5328 - accuracy: 0.7500\n",
      "Epoch 00031: val_loss did not improve from 0.63466\n",
      "1126/1126 [==============================] - 0s 60us/sample - loss: 0.4664 - accuracy: 0.7869 - val_loss: 0.8680 - val_accuracy: 0.5186\n",
      "Epoch 32/50\n",
      "  32/1126 [..............................] - ETA: 0s - loss: 0.3702 - accuracy: 0.9062\n",
      "Epoch 00032: val_loss did not improve from 0.63466\n",
      "1126/1126 [==============================] - 0s 61us/sample - loss: 0.4671 - accuracy: 0.7975 - val_loss: 0.7682 - val_accuracy: 0.5931\n",
      "Epoch 33/50\n",
      "  32/1126 [..............................] - ETA: 0s - loss: 0.4260 - accuracy: 0.8125\n",
      "Epoch 00033: val_loss did not improve from 0.63466\n",
      "1126/1126 [==============================] - 0s 62us/sample - loss: 0.4535 - accuracy: 0.8082 - val_loss: 0.7717 - val_accuracy: 0.5904\n",
      "Epoch 34/50\n",
      "  32/1126 [..............................] - ETA: 0s - loss: 0.2856 - accuracy: 0.9375\n",
      "Epoch 00034: val_loss did not improve from 0.63466\n",
      "1126/1126 [==============================] - 0s 54us/sample - loss: 0.4441 - accuracy: 0.8020 - val_loss: 0.7830 - val_accuracy: 0.5718\n",
      "Epoch 35/50\n",
      "  32/1126 [..............................] - ETA: 0s - loss: 0.4350 - accuracy: 0.8438\n",
      "Epoch 00035: val_loss did not improve from 0.63466\n",
      "1126/1126 [==============================] - 0s 60us/sample - loss: 0.4420 - accuracy: 0.8099 - val_loss: 0.7684 - val_accuracy: 0.5665\n",
      "Epoch 36/50\n",
      "  32/1126 [..............................] - ETA: 0s - loss: 0.3895 - accuracy: 0.8125\n",
      "Epoch 00036: val_loss did not improve from 0.63466\n",
      "1126/1126 [==============================] - 0s 58us/sample - loss: 0.4531 - accuracy: 0.8002 - val_loss: 0.7709 - val_accuracy: 0.6011\n",
      "Epoch 37/50\n",
      "  32/1126 [..............................] - ETA: 0s - loss: 0.4956 - accuracy: 0.7812\n",
      "Epoch 00037: val_loss did not improve from 0.63466\n",
      "1126/1126 [==============================] - 0s 59us/sample - loss: 0.4219 - accuracy: 0.8268 - val_loss: 0.7836 - val_accuracy: 0.6064\n",
      "Epoch 38/50\n",
      "  32/1126 [..............................] - ETA: 0s - loss: 0.2931 - accuracy: 0.9062\n",
      "Epoch 00038: val_loss did not improve from 0.63466\n",
      "1126/1126 [==============================] - 0s 60us/sample - loss: 0.4471 - accuracy: 0.7771 - val_loss: 0.7944 - val_accuracy: 0.6090\n",
      "Epoch 39/50\n",
      "  32/1126 [..............................] - ETA: 0s - loss: 0.4946 - accuracy: 0.7188\n",
      "Epoch 00039: val_loss did not improve from 0.63466\n",
      "1126/1126 [==============================] - 0s 62us/sample - loss: 0.4289 - accuracy: 0.8037 - val_loss: 0.7999 - val_accuracy: 0.5904\n",
      "Epoch 40/50\n",
      "  32/1126 [..............................] - ETA: 0s - loss: 0.3835 - accuracy: 0.8125\n",
      "Epoch 00040: val_loss did not improve from 0.63466\n",
      "1126/1126 [==============================] - 0s 61us/sample - loss: 0.3999 - accuracy: 0.8357 - val_loss: 0.8579 - val_accuracy: 0.5691\n",
      "Epoch 41/50\n",
      "  32/1126 [..............................] - ETA: 0s - loss: 0.3538 - accuracy: 0.8125\n",
      "Epoch 00041: val_loss did not improve from 0.63466\n",
      "1126/1126 [==============================] - 0s 61us/sample - loss: 0.3974 - accuracy: 0.8339 - val_loss: 0.8493 - val_accuracy: 0.5904\n",
      "Epoch 42/50\n",
      "  32/1126 [..............................] - ETA: 0s - loss: 0.3282 - accuracy: 0.8750\n",
      "Epoch 00042: val_loss did not improve from 0.63466\n",
      "1126/1126 [==============================] - 0s 62us/sample - loss: 0.3897 - accuracy: 0.8375 - val_loss: 0.8905 - val_accuracy: 0.5612\n",
      "Epoch 43/50\n",
      "  32/1126 [..............................] - ETA: 0s - loss: 0.4147 - accuracy: 0.8438\n",
      "Epoch 00043: val_loss did not improve from 0.63466\n",
      "1126/1126 [==============================] - 0s 61us/sample - loss: 0.3757 - accuracy: 0.8455 - val_loss: 0.8892 - val_accuracy: 0.5559\n",
      "Epoch 44/50\n",
      "  32/1126 [..............................] - ETA: 0s - loss: 0.4391 - accuracy: 0.7500\n",
      "Epoch 00044: val_loss did not improve from 0.63466\n",
      "1126/1126 [==============================] - 0s 62us/sample - loss: 0.3924 - accuracy: 0.8224 - val_loss: 0.8397 - val_accuracy: 0.6011\n",
      "Epoch 45/50\n",
      "  32/1126 [..............................] - ETA: 0s - loss: 0.5071 - accuracy: 0.8125\n",
      "Epoch 00045: val_loss did not improve from 0.63466\n",
      "1126/1126 [==============================] - 0s 62us/sample - loss: 0.3753 - accuracy: 0.8428 - val_loss: 0.8850 - val_accuracy: 0.5638\n",
      "Epoch 46/50\n",
      "  32/1126 [..............................] - ETA: 0s - loss: 0.3029 - accuracy: 0.9375\n",
      "Epoch 00046: val_loss did not improve from 0.63466\n",
      "1126/1126 [==============================] - 0s 60us/sample - loss: 0.3623 - accuracy: 0.8535 - val_loss: 0.9633 - val_accuracy: 0.5399\n",
      "Epoch 47/50\n",
      "  32/1126 [..............................] - ETA: 0s - loss: 0.2894 - accuracy: 0.9375\n",
      "Epoch 00047: val_loss did not improve from 0.63466\n",
      "1126/1126 [==============================] - 0s 70us/sample - loss: 0.3585 - accuracy: 0.8499 - val_loss: 0.9125 - val_accuracy: 0.5771\n",
      "Epoch 48/50\n",
      " 640/1126 [================>.............] - ETA: 0s - loss: 0.3459 - accuracy: 0.8687\n",
      "Epoch 00048: val_loss did not improve from 0.63466\n",
      "1126/1126 [==============================] - 0s 119us/sample - loss: 0.3447 - accuracy: 0.8588 - val_loss: 1.0045 - val_accuracy: 0.5293\n",
      "Epoch 49/50\n",
      "1120/1126 [============================>.] - ETA: 0s - loss: 0.3425 - accuracy: 0.8571\n",
      "Epoch 00049: val_loss did not improve from 0.63466\n",
      "1126/1126 [==============================] - 0s 137us/sample - loss: 0.3423 - accuracy: 0.8579 - val_loss: 0.9162 - val_accuracy: 0.5878\n",
      "Epoch 50/50\n",
      " 992/1126 [=========================>....] - ETA: 0s - loss: 0.3257 - accuracy: 0.8690\n",
      "Epoch 00050: val_loss did not improve from 0.63466\n",
      "1126/1126 [==============================] - 0s 158us/sample - loss: 0.3283 - accuracy: 0.8668 - val_loss: 0.9391 - val_accuracy: 0.5691\n"
     ]
    }
   ],
   "source": [
    "cnn_history = cnn_model.fit(Xtrain_scaled,ytrain, epochs=50, validation_data=(Xval_scaled,yval), shuffle=True, callbacks=[model_checkpoint_callback])"
   ]
  },
  {
   "cell_type": "code",
   "execution_count": 266,
   "metadata": {
    "collapsed": false
   },
   "outputs": [
    {
     "data": {
      "image/png": "[encoded data removed]",
      "text/plain": [
       "<Figure size 432x288 with 1 Axes>"
      ]
     },
     "metadata": {
      "needs_background": "light"
     },
     "output_type": "display_data"
    }
   ],
   "source": [
    "plot_loss_history(cnn_history)"
   ]
  },
  {
   "cell_type": "code",
   "execution_count": 267,
   "metadata": {
    "collapsed": false
   },
   "outputs": [],
   "source": [
    "# Now load the saved best model to use for inference\n",
    "cnn_model.load_weights(saved_model_path)\n",
    "predictions = cnn_model.predict(Xtest_scaled)"
   ]
  },
  {
   "cell_type": "code",
   "execution_count": 268,
   "metadata": {
    "collapsed": false
   },
   "outputs": [
    {
     "name": "stdout",
     "output_type": "stream",
     "text": [
      "(376,)\n",
      "(376,)\n"
     ]
    }
   ],
   "source": [
    "threshold=0.5\n",
    "test_outputs=output_consumer(predictions,threshold)\n",
    "test_outputs=test_outputs.ravel()\n",
    "ytest=ytest.ravel()\n",
    "print(test_outputs.shape)\n",
    "print(ytest.shape)"
   ]
  },
  {
   "cell_type": "code",
   "execution_count": 269,
   "metadata": {
    "collapsed": false
   },
   "outputs": [
    {
     "name": "stdout",
     "output_type": "stream",
     "text": [
      "Accuracy: 0.6382978723404256; Precision: 0.6268115942028986; Recall: 0.8398058252427184\n",
      "[[ 67 103]\n",
      " [ 33 173]]\n"
     ]
    },
    {
     "data": {
      "image/png": "[encoded data removed]",
      "text/plain": [
       "<Figure size 864x432 with 1 Axes>"
      ]
     },
     "metadata": {
      "needs_background": "light"
     },
     "output_type": "display_data"
    }
   ],
   "source": [
    "# evaluate performance\n",
    "acc = metrics.accuracy_score(ytest,test_outputs)\n",
    "precision_score = metrics.precision_score(ytest,test_outputs)\n",
    "recall_score = metrics.recall_score(ytest,test_outputs)\n",
    "print('Accuracy: {}; Precision: {}; Recall: {}'.format(acc,precision_score,recall_score))\n",
    "print(metrics.confusion_matrix(ytest,test_outputs))\n",
    "plot_roc(ytest,test_outputs,'CNN')"
   ]
  },
  {
   "cell_type": "markdown",
   "metadata": {},
   "source": [
    "### Method 4: CNN+LSTM"
   ]
  },
  {
   "cell_type": "code",
   "execution_count": 288,
   "metadata": {
    "collapsed": false
   },
   "outputs": [
    {
     "name": "stdout",
     "output_type": "stream",
     "text": [
      "Model: \"sequential_36\"\n",
      "_________________________________________________________________\n",
      "Layer (type)                 Output Shape              Param #   \n",
      "=================================================================\n",
      "conv1d_27 (Conv1D)           (None, 5, 64)             3136      \n",
      "_________________________________________________________________\n",
      "max_pooling1d_24 (MaxPooling (None, 2, 64)             0         \n",
      "_________________________________________________________________\n",
      "lstm_25 (LSTM)               (None, 2, 50)             23000     \n",
      "_________________________________________________________________\n",
      "lstm_26 (LSTM)               (None, 30)                9720      \n",
      "_________________________________________________________________\n",
      "dense_52 (Dense)             (None, 1)                 31        \n",
      "=================================================================\n",
      "Total params: 35,887\n",
      "Trainable params: 35,887\n",
      "Non-trainable params: 0\n",
      "_________________________________________________________________\n"
     ]
    }
   ],
   "source": [
    "cnn_lstm_model = tf.keras.Sequential()\n",
    "cnn_lstm_model.add(Conv1D(filters=64, kernel_size=3, activation='relu',input_shape=(Xtrain_scaled.shape[1], Xtrain_scaled.shape[2])))\n",
    "cnn_lstm_model.add(MaxPool1D(pool_size=2))\n",
    "# cnn_lstm_model.add(Flatten())\n",
    "cnn_lstm_model.add(LSTM(50, return_sequences=True))\n",
    "cnn_lstm_model.add(LSTM(30))\n",
    "cnn_lstm_model.add(Dense(1, activation='sigmoid'))\n",
    "cnn_lstm_model.compile(optimizer='adam', loss='binary_crossentropy', metrics=['accuracy'])\n",
    "cnn_lstm_model.summary()"
   ]
  },
  {
   "cell_type": "code",
   "execution_count": 289,
   "metadata": {
    "collapsed": true
   },
   "outputs": [],
   "source": [
    "saved_model_path=os.path.join(os.getcwd(),'CNN_LSTM_D.hdf5')\n",
    "model_checkpoint_callback = tf.keras.callbacks.ModelCheckpoint(\n",
    "        filepath=saved_model_path,\n",
    "        save_best_only=True,\n",
    "        monitor='val_loss',\n",
    "        save_weights_only=True,\n",
    "        verbose=1\n",
    "    )"
   ]
  },
  {
   "cell_type": "code",
   "execution_count": 290,
   "metadata": {
    "collapsed": false
   },
   "outputs": [
    {
     "name": "stdout",
     "output_type": "stream",
     "text": [
      "Train on 1126 samples, validate on 376 samples\n",
      "Epoch 1/50\n",
      "1088/1126 [===========================>..] - ETA: 0s - loss: 0.6780 - accuracy: 0.5818\n",
      "Epoch 00001: val_loss improved from inf to 0.65255, saving model to /Users/tinawang/ml_experiments/new_york_rain_prediction/CNN_LSTM_D.hdf5\n",
      "1126/1126 [==============================] - 4s 4ms/sample - loss: 0.6775 - accuracy: 0.5826 - val_loss: 0.6525 - val_accuracy: 0.6330\n",
      "Epoch 2/50\n",
      "1088/1126 [===========================>..] - ETA: 0s - loss: 0.6700 - accuracy: 0.5827\n",
      "Epoch 00002: val_loss improved from 0.65255 to 0.64897, saving model to /Users/tinawang/ml_experiments/new_york_rain_prediction/CNN_LSTM_D.hdf5\n",
      "1126/1126 [==============================] - 0s 186us/sample - loss: 0.6692 - accuracy: 0.5853 - val_loss: 0.6490 - val_accuracy: 0.6383\n",
      "Epoch 3/50\n",
      "1088/1126 [===========================>..] - ETA: 0s - loss: 0.6510 - accuracy: 0.6131\n",
      "Epoch 00003: val_loss did not improve from 0.64897\n",
      "1126/1126 [==============================] - 0s 185us/sample - loss: 0.6499 - accuracy: 0.6172 - val_loss: 0.6602 - val_accuracy: 0.5798\n",
      "Epoch 4/50\n",
      "1056/1126 [===========================>..] - ETA: 0s - loss: 0.6461 - accuracy: 0.6335\n",
      "Epoch 00004: val_loss improved from 0.64897 to 0.64488, saving model to /Users/tinawang/ml_experiments/new_york_rain_prediction/CNN_LSTM_D.hdf5\n",
      "1126/1126 [==============================] - 0s 190us/sample - loss: 0.6476 - accuracy: 0.6306 - val_loss: 0.6449 - val_accuracy: 0.6223\n",
      "Epoch 5/50\n",
      " 736/1126 [==================>...........] - ETA: 0s - loss: 0.6442 - accuracy: 0.6304\n",
      "Epoch 00005: val_loss did not improve from 0.64488\n",
      "1126/1126 [==============================] - 0s 170us/sample - loss: 0.6434 - accuracy: 0.6332 - val_loss: 0.6557 - val_accuracy: 0.5904\n",
      "Epoch 6/50\n",
      " 928/1126 [=======================>......] - ETA: 0s - loss: 0.6401 - accuracy: 0.6369\n",
      "Epoch 00006: val_loss improved from 0.64488 to 0.64266, saving model to /Users/tinawang/ml_experiments/new_york_rain_prediction/CNN_LSTM_D.hdf5\n",
      "1126/1126 [==============================] - 0s 209us/sample - loss: 0.6420 - accuracy: 0.6359 - val_loss: 0.6427 - val_accuracy: 0.6277\n",
      "Epoch 7/50\n",
      "1056/1126 [===========================>..] - ETA: 0s - loss: 0.6332 - accuracy: 0.6477\n",
      "Epoch 00007: val_loss did not improve from 0.64266\n",
      "1126/1126 [==============================] - 0s 193us/sample - loss: 0.6326 - accuracy: 0.6465 - val_loss: 0.6513 - val_accuracy: 0.5957\n",
      "Epoch 8/50\n",
      "1088/1126 [===========================>..] - ETA: 0s - loss: 0.6369 - accuracy: 0.6324\n",
      "Epoch 00008: val_loss did not improve from 0.64266\n",
      "1126/1126 [==============================] - 0s 391us/sample - loss: 0.6360 - accuracy: 0.6341 - val_loss: 0.6472 - val_accuracy: 0.6117\n",
      "Epoch 9/50\n",
      " 960/1126 [========================>.....] - ETA: 0s - loss: 0.6278 - accuracy: 0.6406\n",
      "Epoch 00009: val_loss did not improve from 0.64266\n",
      "1126/1126 [==============================] - 0s 194us/sample - loss: 0.6337 - accuracy: 0.6385 - val_loss: 0.6662 - val_accuracy: 0.5931\n",
      "Epoch 10/50\n",
      "1024/1126 [==========================>...] - ETA: 0s - loss: 0.6278 - accuracy: 0.6572\n",
      "Epoch 00010: val_loss did not improve from 0.64266\n",
      "1126/1126 [==============================] - 0s 186us/sample - loss: 0.6283 - accuracy: 0.6545 - val_loss: 0.6574 - val_accuracy: 0.6064\n",
      "Epoch 11/50\n",
      "1056/1126 [===========================>..] - ETA: 0s - loss: 0.6261 - accuracy: 0.6525\n",
      "Epoch 00011: val_loss did not improve from 0.64266\n",
      "1126/1126 [==============================] - 0s 377us/sample - loss: 0.6270 - accuracy: 0.6519 - val_loss: 0.6745 - val_accuracy: 0.5878\n",
      "Epoch 12/50\n",
      "1088/1126 [===========================>..] - ETA: 0s - loss: 0.6339 - accuracy: 0.6480\n",
      "Epoch 00012: val_loss improved from 0.64266 to 0.64059, saving model to /Users/tinawang/ml_experiments/new_york_rain_prediction/CNN_LSTM_D.hdf5\n",
      "1126/1126 [==============================] - 0s 405us/sample - loss: 0.6276 - accuracy: 0.6545 - val_loss: 0.6406 - val_accuracy: 0.6356\n",
      "Epoch 13/50\n",
      "1120/1126 [============================>.] - ETA: 0s - loss: 0.6164 - accuracy: 0.6652\n",
      "Epoch 00013: val_loss did not improve from 0.64059\n",
      "1126/1126 [==============================] - 0s 387us/sample - loss: 0.6160 - accuracy: 0.6652 - val_loss: 0.6569 - val_accuracy: 0.5957\n",
      "Epoch 14/50\n",
      "1056/1126 [===========================>..] - ETA: 0s - loss: 0.6091 - accuracy: 0.6619\n",
      "Epoch 00014: val_loss did not improve from 0.64059\n",
      "1126/1126 [==============================] - 0s 384us/sample - loss: 0.6127 - accuracy: 0.6599 - val_loss: 0.6563 - val_accuracy: 0.5931\n",
      "Epoch 15/50\n",
      " 928/1126 [=======================>......] - ETA: 0s - loss: 0.6099 - accuracy: 0.6638\n",
      "Epoch 00015: val_loss did not improve from 0.64059\n",
      "1126/1126 [==============================] - 0s 202us/sample - loss: 0.6047 - accuracy: 0.6750 - val_loss: 0.6572 - val_accuracy: 0.6037\n",
      "Epoch 16/50\n",
      "1024/1126 [==========================>...] - ETA: 0s - loss: 0.5905 - accuracy: 0.6699\n",
      "Epoch 00016: val_loss did not improve from 0.64059\n",
      "1126/1126 [==============================] - 0s 187us/sample - loss: 0.5974 - accuracy: 0.6661 - val_loss: 0.6989 - val_accuracy: 0.5585\n",
      "Epoch 17/50\n",
      "1024/1126 [==========================>...] - ETA: 0s - loss: 0.5867 - accuracy: 0.6973\n",
      "Epoch 00017: val_loss did not improve from 0.64059\n",
      "1126/1126 [==============================] - 0s 331us/sample - loss: 0.5867 - accuracy: 0.6972 - val_loss: 0.7083 - val_accuracy: 0.5426\n",
      "Epoch 18/50\n",
      " 928/1126 [=======================>......] - ETA: 0s - loss: 0.6036 - accuracy: 0.6735\n",
      "Epoch 00018: val_loss did not improve from 0.64059\n",
      "1126/1126 [==============================] - 0s 203us/sample - loss: 0.6017 - accuracy: 0.6767 - val_loss: 0.6941 - val_accuracy: 0.5878\n",
      "Epoch 19/50\n",
      " 992/1126 [=========================>....] - ETA: 0s - loss: 0.6009 - accuracy: 0.6694\n",
      "Epoch 00019: val_loss did not improve from 0.64059\n",
      "1126/1126 [==============================] - 0s 362us/sample - loss: 0.5974 - accuracy: 0.6750 - val_loss: 0.6857 - val_accuracy: 0.5824\n",
      "Epoch 20/50\n",
      " 928/1126 [=======================>......] - ETA: 0s - loss: 0.5774 - accuracy: 0.7047\n",
      "Epoch 00020: val_loss did not improve from 0.64059\n",
      "1126/1126 [==============================] - 0s 198us/sample - loss: 0.5790 - accuracy: 0.7114 - val_loss: 0.7325 - val_accuracy: 0.5133\n",
      "Epoch 21/50\n",
      "1088/1126 [===========================>..] - ETA: 0s - loss: 0.5794 - accuracy: 0.7022\n",
      "Epoch 00021: val_loss did not improve from 0.64059\n",
      "1126/1126 [==============================] - 0s 290us/sample - loss: 0.5802 - accuracy: 0.6989 - val_loss: 0.8598 - val_accuracy: 0.4202\n",
      "Epoch 22/50\n",
      "1120/1126 [============================>.] - ETA: 0s - loss: 0.5818 - accuracy: 0.6973\n",
      "Epoch 00022: val_loss did not improve from 0.64059\n",
      "1126/1126 [==============================] - 0s 439us/sample - loss: 0.5840 - accuracy: 0.6945 - val_loss: 0.7518 - val_accuracy: 0.5426\n",
      "Epoch 23/50\n",
      " 768/1126 [===================>..........] - ETA: 0s - loss: 0.5601 - accuracy: 0.7044\n",
      "Epoch 00023: val_loss did not improve from 0.64059\n",
      "1126/1126 [==============================] - 0s 223us/sample - loss: 0.5599 - accuracy: 0.7034 - val_loss: 0.8082 - val_accuracy: 0.4973\n",
      "Epoch 24/50\n",
      " 704/1126 [=================>............] - ETA: 0s - loss: 0.5623 - accuracy: 0.7145\n",
      "Epoch 00024: val_loss did not improve from 0.64059\n",
      "1126/1126 [==============================] - 0s 169us/sample - loss: 0.5676 - accuracy: 0.7114 - val_loss: 0.7306 - val_accuracy: 0.5957\n",
      "Epoch 25/50\n",
      " 928/1126 [=======================>......] - ETA: 0s - loss: 0.5420 - accuracy: 0.7392\n",
      "Epoch 00025: val_loss did not improve from 0.64059\n",
      "1126/1126 [==============================] - 0s 142us/sample - loss: 0.5518 - accuracy: 0.7336 - val_loss: 0.7877 - val_accuracy: 0.5426\n",
      "Epoch 26/50\n",
      " 928/1126 [=======================>......] - ETA: 0s - loss: 0.5790 - accuracy: 0.6961\n",
      "Epoch 00026: val_loss did not improve from 0.64059\n",
      "1126/1126 [==============================] - 0s 152us/sample - loss: 0.5841 - accuracy: 0.6972 - val_loss: 0.7614 - val_accuracy: 0.5532\n",
      "Epoch 27/50\n",
      " 960/1126 [========================>.....] - ETA: 0s - loss: 0.5515 - accuracy: 0.7281\n",
      "Epoch 00027: val_loss did not improve from 0.64059\n",
      "1126/1126 [==============================] - 0s 208us/sample - loss: 0.5528 - accuracy: 0.7309 - val_loss: 0.7554 - val_accuracy: 0.5931\n",
      "Epoch 28/50\n",
      " 768/1126 [===================>..........] - ETA: 0s - loss: 0.5296 - accuracy: 0.7305\n",
      "Epoch 00028: val_loss did not improve from 0.64059\n",
      "1126/1126 [==============================] - 0s 175us/sample - loss: 0.5287 - accuracy: 0.7291 - val_loss: 0.7808 - val_accuracy: 0.5638\n",
      "Epoch 29/50\n",
      "1120/1126 [============================>.] - ETA: 0s - loss: 0.5290 - accuracy: 0.7464\n",
      "Epoch 00029: val_loss did not improve from 0.64059\n",
      "1126/1126 [==============================] - 0s 277us/sample - loss: 0.5309 - accuracy: 0.7460 - val_loss: 0.8823 - val_accuracy: 0.5133\n",
      "Epoch 30/50\n",
      "1088/1126 [===========================>..] - ETA: 0s - loss: 0.5492 - accuracy: 0.7270\n",
      "Epoch 00030: val_loss did not improve from 0.64059\n",
      "1126/1126 [==============================] - 0s 350us/sample - loss: 0.5491 - accuracy: 0.7256 - val_loss: 0.7574 - val_accuracy: 0.5824\n",
      "Epoch 31/50\n",
      "1120/1126 [============================>.] - ETA: 0s - loss: 0.5214 - accuracy: 0.7455\n",
      "Epoch 00031: val_loss did not improve from 0.64059\n",
      "1126/1126 [==============================] - 0s 246us/sample - loss: 0.5203 - accuracy: 0.7460 - val_loss: 0.8256 - val_accuracy: 0.5133\n",
      "Epoch 32/50\n",
      " 864/1126 [======================>.......] - ETA: 0s - loss: 0.5338 - accuracy: 0.7222\n",
      "Epoch 00032: val_loss did not improve from 0.64059\n",
      "1126/1126 [==============================] - 0s 148us/sample - loss: 0.5247 - accuracy: 0.7371 - val_loss: 0.8111 - val_accuracy: 0.5399\n",
      "Epoch 33/50\n",
      " 928/1126 [=======================>......] - ETA: 0s - loss: 0.5226 - accuracy: 0.7457\n",
      "Epoch 00033: val_loss did not improve from 0.64059\n",
      "1126/1126 [==============================] - 0s 143us/sample - loss: 0.5191 - accuracy: 0.7504 - val_loss: 0.8274 - val_accuracy: 0.5080\n",
      "Epoch 34/50\n",
      " 960/1126 [========================>.....] - ETA: 0s - loss: 0.5072 - accuracy: 0.7615\n",
      "Epoch 00034: val_loss did not improve from 0.64059\n",
      "1126/1126 [==============================] - 0s 142us/sample - loss: 0.5061 - accuracy: 0.7611 - val_loss: 0.8811 - val_accuracy: 0.5053\n",
      "Epoch 35/50\n",
      " 928/1126 [=======================>......] - ETA: 0s - loss: 0.5248 - accuracy: 0.7468\n",
      "Epoch 00035: val_loss did not improve from 0.64059\n",
      "1126/1126 [==============================] - 0s 142us/sample - loss: 0.5157 - accuracy: 0.7469 - val_loss: 0.7970 - val_accuracy: 0.5532\n",
      "Epoch 36/50\n",
      " 928/1126 [=======================>......] - ETA: 0s - loss: 0.4878 - accuracy: 0.7705\n",
      "Epoch 00036: val_loss did not improve from 0.64059\n",
      "1126/1126 [==============================] - 0s 144us/sample - loss: 0.4944 - accuracy: 0.7691 - val_loss: 0.8115 - val_accuracy: 0.5771\n",
      "Epoch 37/50\n",
      " 928/1126 [=======================>......] - ETA: 0s - loss: 0.4811 - accuracy: 0.7694\n",
      "Epoch 00037: val_loss did not improve from 0.64059\n",
      "1126/1126 [==============================] - 0s 144us/sample - loss: 0.4947 - accuracy: 0.7584 - val_loss: 0.7949 - val_accuracy: 0.5798\n",
      "Epoch 38/50\n",
      " 928/1126 [=======================>......] - ETA: 0s - loss: 0.4837 - accuracy: 0.7726\n",
      "Epoch 00038: val_loss did not improve from 0.64059\n",
      "1126/1126 [==============================] - 0s 146us/sample - loss: 0.5015 - accuracy: 0.7655 - val_loss: 0.8041 - val_accuracy: 0.5505\n",
      "Epoch 39/50\n",
      " 928/1126 [=======================>......] - ETA: 0s - loss: 0.5046 - accuracy: 0.7716\n",
      "Epoch 00039: val_loss did not improve from 0.64059\n",
      "1126/1126 [==============================] - 0s 149us/sample - loss: 0.5000 - accuracy: 0.7753 - val_loss: 0.7948 - val_accuracy: 0.5718\n",
      "Epoch 40/50\n",
      " 928/1126 [=======================>......] - ETA: 0s - loss: 0.4818 - accuracy: 0.7748\n",
      "Epoch 00040: val_loss did not improve from 0.64059\n",
      "1126/1126 [==============================] - 0s 146us/sample - loss: 0.4749 - accuracy: 0.7798 - val_loss: 0.8230 - val_accuracy: 0.5957\n",
      "Epoch 41/50\n",
      " 800/1126 [====================>.........] - ETA: 0s - loss: 0.4487 - accuracy: 0.7862\n",
      "Epoch 00041: val_loss did not improve from 0.64059\n",
      "1126/1126 [==============================] - 0s 155us/sample - loss: 0.4812 - accuracy: 0.7726 - val_loss: 0.9490 - val_accuracy: 0.4309\n",
      "Epoch 42/50\n",
      " 928/1126 [=======================>......] - ETA: 0s - loss: 0.4874 - accuracy: 0.7543\n",
      "Epoch 00042: val_loss did not improve from 0.64059\n",
      "1126/1126 [==============================] - 0s 142us/sample - loss: 0.4867 - accuracy: 0.7549 - val_loss: 0.8694 - val_accuracy: 0.5027\n",
      "Epoch 43/50\n",
      " 928/1126 [=======================>......] - ETA: 0s - loss: 0.4730 - accuracy: 0.7780\n",
      "Epoch 00043: val_loss did not improve from 0.64059\n",
      "1126/1126 [==============================] - 0s 144us/sample - loss: 0.4739 - accuracy: 0.7815 - val_loss: 0.8159 - val_accuracy: 0.5718\n",
      "Epoch 44/50\n",
      " 928/1126 [=======================>......] - ETA: 0s - loss: 0.4332 - accuracy: 0.7909\n",
      "Epoch 00044: val_loss did not improve from 0.64059\n",
      "1126/1126 [==============================] - 0s 145us/sample - loss: 0.4391 - accuracy: 0.7913 - val_loss: 1.0626 - val_accuracy: 0.4176\n",
      "Epoch 45/50\n",
      " 928/1126 [=======================>......] - ETA: 0s - loss: 0.4776 - accuracy: 0.7586\n",
      "Epoch 00045: val_loss did not improve from 0.64059\n",
      "1126/1126 [==============================] - 0s 144us/sample - loss: 0.4624 - accuracy: 0.7709 - val_loss: 0.9164 - val_accuracy: 0.6170\n",
      "Epoch 46/50\n",
      " 928/1126 [=======================>......] - ETA: 0s - loss: 0.4567 - accuracy: 0.7845\n",
      "Epoch 00046: val_loss did not improve from 0.64059\n",
      "1126/1126 [==============================] - 0s 143us/sample - loss: 0.4561 - accuracy: 0.7833 - val_loss: 0.9112 - val_accuracy: 0.5239\n",
      "Epoch 47/50\n",
      " 928/1126 [=======================>......] - ETA: 0s - loss: 0.4330 - accuracy: 0.7974\n",
      "Epoch 00047: val_loss did not improve from 0.64059\n",
      "1126/1126 [==============================] - 0s 145us/sample - loss: 0.4397 - accuracy: 0.7904 - val_loss: 0.8858 - val_accuracy: 0.5878\n",
      "Epoch 48/50\n",
      " 928/1126 [=======================>......] - ETA: 0s - loss: 0.4455 - accuracy: 0.7802\n",
      "Epoch 00048: val_loss did not improve from 0.64059\n",
      "1126/1126 [==============================] - 0s 147us/sample - loss: 0.4467 - accuracy: 0.7860 - val_loss: 0.8431 - val_accuracy: 0.6064\n",
      "Epoch 49/50\n",
      " 928/1126 [=======================>......] - ETA: 0s - loss: 0.4179 - accuracy: 0.8028\n",
      "Epoch 00049: val_loss did not improve from 0.64059\n",
      "1126/1126 [==============================] - 0s 146us/sample - loss: 0.4209 - accuracy: 0.8028 - val_loss: 0.9294 - val_accuracy: 0.5878\n",
      "Epoch 50/50\n",
      " 896/1126 [======================>.......] - ETA: 0s - loss: 0.4400 - accuracy: 0.8002\n",
      "Epoch 00050: val_loss did not improve from 0.64059\n",
      "1126/1126 [==============================] - 0s 144us/sample - loss: 0.4499 - accuracy: 0.7948 - val_loss: 0.8001 - val_accuracy: 0.6170\n"
     ]
    }
   ],
   "source": [
    "cnn_lstm_history = cnn_lstm_model.fit(Xtrain_scaled,ytrain, epochs=50, validation_data=(Xval_scaled,yval), shuffle=True, callbacks=[model_checkpoint_callback])"
   ]
  },
  {
   "cell_type": "code",
   "execution_count": 296,
   "metadata": {
    "collapsed": false
   },
   "outputs": [
    {
     "data": {
      "image/png": "[encoded data removed]",
      "text/plain": [
       "<Figure size 432x288 with 1 Axes>"
      ]
     },
     "metadata": {
      "needs_background": "light"
     },
     "output_type": "display_data"
    }
   ],
   "source": [
    "plot_loss_history(cnn_lstm_history)"
   ]
  },
  {
   "cell_type": "code",
   "execution_count": 297,
   "metadata": {
    "collapsed": true
   },
   "outputs": [],
   "source": [
    "# Now load the saved best model to use for inference\n",
    "cnn_lstm_model.load_weights(saved_model_path)\n",
    "predictions = cnn_lstm_model.predict(Xtest_scaled)"
   ]
  },
  {
   "cell_type": "code",
   "execution_count": 298,
   "metadata": {
    "collapsed": false
   },
   "outputs": [
    {
     "name": "stdout",
     "output_type": "stream",
     "text": [
      "(376,)\n",
      "(376,)\n"
     ]
    }
   ],
   "source": [
    "threshold=0.5\n",
    "test_outputs=output_consumer(predictions,threshold)\n",
    "test_outputs=test_outputs.ravel()\n",
    "ytest=ytest.ravel()\n",
    "print(test_outputs.shape)\n",
    "print(ytest.shape)"
   ]
  },
  {
   "cell_type": "code",
   "execution_count": 294,
   "metadata": {
    "collapsed": false
   },
   "outputs": [
    {
     "name": "stdout",
     "output_type": "stream",
     "text": [
      "Accuracy: 0.6329787234042553; Precision: 0.6214285714285714; Recall: 0.8446601941747572\n",
      "[[ 64 106]\n",
      " [ 32 174]]\n"
     ]
    },
    {
     "data": {
      "image/png": "[encoded data removed]",
      "text/plain": [
       "<Figure size 864x432 with 1 Axes>"
      ]
     },
     "metadata": {
      "needs_background": "light"
     },
     "output_type": "display_data"
    }
   ],
   "source": [
    "# evaluate performance\n",
    "acc = metrics.accuracy_score(ytest,test_outputs)\n",
    "precision_score = metrics.precision_score(ytest,test_outputs)\n",
    "recall_score = metrics.recall_score(ytest,test_outputs)\n",
    "print('Accuracy: {}; Precision: {}; Recall: {}'.format(acc,precision_score,recall_score))\n",
    "print(metrics.confusion_matrix(ytest,test_outputs))\n",
    "plot_roc(ytest,test_outputs,'CNN_LSTM')"
   ]
  },
  {
   "cell_type": "code",
   "execution_count": null,
   "metadata": {
    "collapsed": true
   },
   "outputs": [],
   "source": []
  }
 ],
 "metadata": {
  "kernelspec": {
   "display_name": "Python 3",
   "language": "python",
   "name": "python3"
  },
  "language_info": {
   "codemirror_mode": {
    "name": "ipython",
    "version": 3
   },
   "file_extension": ".py",
   "mimetype": "text/x-python",
   "name": "python",
   "nbconvert_exporter": "python",
   "pygments_lexer": "ipython3",
   "version": "3.6.5"
  }
 },
 "nbformat": 4,
 "nbformat_minor": 0
}
